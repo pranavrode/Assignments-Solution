{
 "cells": [
  {
   "cell_type": "markdown",
   "id": "5de1240a",
   "metadata": {},
   "source": [
    "#  ASSIGNMENT - 06(Lambda Function, Built in Function)\n",
    "## Solution/Ans  by - Pranav Rode(29) "
   ]
  },
  {
   "cell_type": "markdown",
   "id": "1f9949a8",
   "metadata": {},
   "source": [
    "### 1. Write a Python program to sort a list of tuples using Lambda."
   ]
  },
  {
   "cell_type": "code",
   "execution_count": 12,
   "id": "65f5710a",
   "metadata": {},
   "outputs": [
    {
     "name": "stdout",
     "output_type": "stream",
     "text": [
      "[(1, 1), (5, 2), (3, 3), (4, 4), (2, 5)]\n"
     ]
    }
   ],
   "source": [
    "# List of tuples\n",
    "my_list = [(3, 3), (1, 1), (2, 5), (5, 2), (4, 4)]\n",
    "\n",
    "# Sort the list of tuples based on the second element of each tuple\n",
    "sorted_list = sorted(my_list, key=lambda x: x[1])\n",
    "\n",
    "# Print the sorted list\n",
    "print(sorted_list)\n"
   ]
  },
  {
   "cell_type": "code",
   "execution_count": 13,
   "id": "efc4d3c0",
   "metadata": {},
   "outputs": [
    {
     "name": "stdout",
     "output_type": "stream",
     "text": [
      "[(1, 1), (5, 2), (3, 3), (4, 4), (2, 5)]\n"
     ]
    }
   ],
   "source": [
    "# List of tuples\n",
    "my_list = [(3, 3), (1, 1), (2, 5), (5, 2), (4, 4)]\n",
    "\n",
    "# Sort the list of tuples based on the second element of each tuple using the sort method\n",
    "my_list.sort(key=lambda x: x[1])\n",
    "\n",
    "# Print the sorted list\n",
    "print(my_list)\n"
   ]
  },
  {
   "cell_type": "markdown",
   "id": "4e1c1af1",
   "metadata": {},
   "source": [
    "### 2. Write a Python program to sort a list of dictionaries using Lambda"
   ]
  },
  {
   "cell_type": "code",
   "execution_count": 2,
   "id": "aa33d922",
   "metadata": {},
   "outputs": [
    {
     "data": {
      "text/plain": [
       "[{'name': 'Alice', 'age': 24, 'score': 75},\n",
       " {'name': 'Bob', 'age': 22, 'score': 85},\n",
       " {'name': 'John', 'age': 28, 'score': 90}]"
      ]
     },
     "execution_count": 2,
     "metadata": {},
     "output_type": "execute_result"
    }
   ],
   "source": [
    "# Sample list of dictionaries\n",
    "data = [\n",
    "    {'name': 'John', 'age': 28, 'score': 90},\n",
    "    {'name': 'Alice', 'age': 24, 'score': 75},\n",
    "    {'name': 'Bob', 'age': 22, 'score': 85}\n",
    "]\n",
    "\n",
    "# Sorting the list of dictionaries based on the 'score' key\n",
    "sorted_data = sorted(data, key=lambda x: x['score'])\n",
    "\n",
    "# Displaying the sorted result\n",
    "sorted_data"
   ]
  },
  {
   "cell_type": "markdown",
   "id": "de9e3e88",
   "metadata": {},
   "source": [
    "### 3. Write a Python program to find square and cube every number in a given list of integers using Lambda"
   ]
  },
  {
   "cell_type": "code",
   "execution_count": 6,
   "id": "c5587e2b",
   "metadata": {},
   "outputs": [
    {
     "name": "stdout",
     "output_type": "stream",
     "text": [
      "Original Numbers: [2, 4, 6, 8, 10]\n",
      "Squared Numbers: [4, 16, 36, 64, 100]\n",
      "Cubed Numbers: [8, 64, 216, 512, 1000]\n"
     ]
    }
   ],
   "source": [
    "# Sample list of integers\n",
    "numbers = [2, 4, 6, 8, 10]\n",
    "\n",
    "# Using map and lambda to find the square and cube of each number\n",
    "squared = list(map(lambda x: x ** 2, numbers))\n",
    "cubed = list(map(lambda x: x ** 3, numbers))\n",
    "\n",
    "# Displaying the results\n",
    "print(\"Original Numbers:\", numbers)\n",
    "print(\"Squared Numbers:\", squared)\n",
    "print(\"Cubed Numbers:\", cubed)"
   ]
  },
  {
   "cell_type": "markdown",
   "id": "a61964c2",
   "metadata": {},
   "source": [
    "### 4. Write a Python program to find if a given string starts with a given character using Lambda"
   ]
  },
  {
   "cell_type": "code",
   "execution_count": 8,
   "id": "afc37588",
   "metadata": {},
   "outputs": [
    {
     "name": "stdout",
     "output_type": "stream",
     "text": [
      "The string 'Data Science' starts with the character 'D'.\n"
     ]
    }
   ],
   "source": [
    "# Function to check if a given string starts with a given character using Lambda\n",
    "starts_with_char = lambda string, char: string.startswith(char)\n",
    "\n",
    "# Test cases\n",
    "test_string = \"Data Science\"\n",
    "start_char = 'D'\n",
    "\n",
    "# Checking if the string starts with the given character\n",
    "result = starts_with_char(test_string, start_char)\n",
    "\n",
    "# Displaying the result\n",
    "if result:\n",
    "    print(f\"The string '{test_string}' starts with the character '{start_char}'.\")\n",
    "else:\n",
    "    print(f\"The string '{test_string}' does not start with the character '{start_char}'.\")"
   ]
  },
  {
   "cell_type": "markdown",
   "id": "fc3988e8",
   "metadata": {},
   "source": [
    "### 5. Write a Python program to check whether a given string is number or not using Lambda"
   ]
  },
  {
   "cell_type": "code",
   "execution_count": 12,
   "id": "3a7002fc",
   "metadata": {},
   "outputs": [
    {
     "name": "stdout",
     "output_type": "stream",
     "text": [
      "The string '1234' is Number\n"
     ]
    }
   ],
   "source": [
    "# Function to check if a given string is number or not using Lambda\n",
    "number_check = lambda string: string.isnumeric()\n",
    "\n",
    "# Test cases\n",
    "test_string = \"1234\"\n",
    "\n",
    "# Checking if the string starts with the given character\n",
    "result = number_check(test_string)\n",
    "\n",
    "# Displaying the result\n",
    "if result:\n",
    "    print(f\"The string '{test_string}' is Number\")\n",
    "else:\n",
    "    print(f\"The string '{test_string}' is Not a Number\")"
   ]
  },
  {
   "cell_type": "markdown",
   "id": "c0f2ceb5",
   "metadata": {},
   "source": [
    "### 6. Write a Python program to create Fibonacci series using Lambda"
   ]
  },
  {
   "cell_type": "code",
   "execution_count": 19,
   "id": "fa673377",
   "metadata": {},
   "outputs": [
    {
     "name": "stdout",
     "output_type": "stream",
     "text": [
      "Fibonacci series up to 4: [0, 1, 1, 2]\n"
     ]
    }
   ],
   "source": [
    "# Define a lambda function to calculate the next Fibonacci number\n",
    "fib = lambda n: n if n <= 1 else fib(n-1) + fib(n-2)\n",
    "\n",
    "# Generate the Fibonacci series up to a certain limit\n",
    "limit = 10\n",
    "fibonacci_series = [fib(i) for i in range(limit)]\n",
    "\n",
    "# Print the Fibonacci series\n",
    "print(f\"Fibonacci series up to {limit}: {fibonacci_series}\")\n"
   ]
  },
  {
   "cell_type": "markdown",
   "id": "8a65b65d",
   "metadata": {},
   "source": [
    "### 7. Write a Python program to find the intersection of two given arrays using Lambda"
   ]
  },
  {
   "cell_type": "code",
   "execution_count": 31,
   "id": "dd3a6352",
   "metadata": {},
   "outputs": [
    {
     "name": "stdout",
     "output_type": "stream",
     "text": [
      "Array 1: [1, 2, 3, 4, 5]\n",
      "Array 2: [4, 5, 6, 7, 8]\n",
      "Intersection: [4, 5]\n"
     ]
    }
   ],
   "source": [
    "# Sample arrays\n",
    "array1 = [1, 2, 3, 4, 5]\n",
    "array2 = [4, 5, 6, 7, 8]\n",
    "\n",
    "# Using filter and lambda to find the intersection\n",
    "intersection = list(filter(lambda x: x in array1, array2))\n",
    "\n",
    "# Displaying the result\n",
    "print(\"Array 1:\", array1)\n",
    "print(\"Array 2:\", array2)\n",
    "print(\"Intersection:\", intersection)"
   ]
  },
  {
   "cell_type": "markdown",
   "id": "8383ee48",
   "metadata": {},
   "source": [
    "### 8. Write a Python program to rearrange positive and negative numbers in a given array using Lambda"
   ]
  },
  {
   "cell_type": "code",
   "execution_count": 25,
   "id": "983f8182",
   "metadata": {},
   "outputs": [
    {
     "name": "stdout",
     "output_type": "stream",
     "text": [
      "Rearranged array: [-8, -6, -2, -1, 0, 3, 4, 5, 7]\n"
     ]
    }
   ],
   "source": [
    "numbers = [3, -1, 4, -2, 5, -6, 7, -8,0]\n",
    "\n",
    "# Rearrange positive and negative numbers using lambda\n",
    "rearranged_numbers = sorted(numbers, key=lambda x: (x >= 0, x))\n",
    "\n",
    "# Print the result\n",
    "print(\"Rearranged array:\", rearranged_numbers)"
   ]
  },
  {
   "cell_type": "code",
   "execution_count": 26,
   "id": "46b101b7",
   "metadata": {},
   "outputs": [
    {
     "name": "stdout",
     "output_type": "stream",
     "text": [
      "Rearranged array: [-8, -6, -2, -1, 0, 3, 4, 5, 7]\n"
     ]
    }
   ],
   "source": [
    "numbers = [3, -1, 4, -2, 5, -6, 7, -8, 0]\n",
    "\n",
    "# Rearrange positive and negative numbers using lambda\n",
    "rearranged_numbers = sorted(numbers, key=lambda x: x)\n",
    "\n",
    "# Print the result\n",
    "print(\"Rearranged array:\", rearranged_numbers)"
   ]
  },
  {
   "cell_type": "code",
   "execution_count": 24,
   "id": "7515118c",
   "metadata": {},
   "outputs": [
    {
     "name": "stdout",
     "output_type": "stream",
     "text": [
      "Original arrays:\n",
      "[-1, 2, -3, 5, 7, 8, 9, -10]\n",
      "\n",
      "Rearrange positive and negative numbers of the said array:\n",
      "[2, 5, 7, 8, 9, -10, -3, -1]\n"
     ]
    }
   ],
   "source": [
    "# Define a list 'array_nums' containing both positive and negative integers\n",
    "array_nums = [-1, 2, -3, 5, 7, 8, 9, -10]\n",
    "\n",
    "# Display a message indicating that the following output will show the original array\n",
    "print(\"Original arrays:\")\n",
    "print(array_nums)  # Print the contents of 'array_nums'\n",
    "\n",
    "# Use the 'sorted()' function to rearrange the elements in 'array_nums' based on a custom key\n",
    "# The 'key' parameter uses a lambda function to sort the elements:\n",
    "#   - It places positive numbers before negative numbers and zeros, maintaining their original order\n",
    "#   - Zeros are placed at the front (index 0) of the sorted list\n",
    "result = sorted(array_nums, key=lambda i: 0 if i == 0 else -1 / i)\n",
    "\n",
    "# Display the rearranged array where positive numbers come before negative numbers and zeros\n",
    "print(\"\\nRearrange positive and negative numbers of the said array:\")\n",
    "print(result)  # Print the rearranged 'result' array.\n"
   ]
  },
  {
   "cell_type": "markdown",
   "id": "8049dce9",
   "metadata": {},
   "source": [
    "### 9. Write a Python program to count the even, odd numbers in a given array of integers using Lambda"
   ]
  },
  {
   "cell_type": "code",
   "execution_count": 35,
   "id": "eb13450c",
   "metadata": {},
   "outputs": [
    {
     "name": "stdout",
     "output_type": "stream",
     "text": [
      "Count of EVEN numbers in array: [2, 8, 10] is =  3\n",
      "Count of ODD numbers in array: [1, 3, 5, 7, 9] is =  5\n"
     ]
    }
   ],
   "source": [
    "array_nums = [1, 2, 3, 5, 7, 8, 9, 10]\n",
    "even_ctr = len(list(filter(lambda x: (x % 2 == 0), array_nums)))\n",
    "odd_ctr = len(list(filter(lambda x: (x % 2 != 0), array_nums)))\n",
    "\n",
    "print(\"Count of EVEN numbers in array:\", \n",
    "      list(filter(lambda x: (x % 2 == 0), array_nums)) ,\"is = \", even_ctr)\n",
    "\n",
    "print(\"Count of ODD numbers in array:\", \n",
    "      list(filter(lambda x: (x % 2 != 0), array_nums)) ,\"is = \",odd_ctr)"
   ]
  },
  {
   "cell_type": "markdown",
   "id": "8363722d",
   "metadata": {},
   "source": [
    "### 10. Write a Python program to add two given lists using map and lambda"
   ]
  },
  {
   "cell_type": "code",
   "execution_count": 42,
   "id": "3e5db21f",
   "metadata": {},
   "outputs": [
    {
     "name": "stdout",
     "output_type": "stream",
     "text": [
      "[5, 7, 9]\n"
     ]
    }
   ],
   "source": [
    "l1 = [1,2,3]\n",
    "l2 = [4,5,6]\n",
    "\n",
    "result = list( map(lambda x,y: x+y, l1 , l2) )\n",
    "\n",
    "print(result)"
   ]
  },
  {
   "cell_type": "markdown",
   "id": "9f1557d7",
   "metadata": {},
   "source": [
    "### 11. Write a Python program to find numbers divisible by nineteen or thirteen from a list of numbers using Lambda"
   ]
  },
  {
   "cell_type": "code",
   "execution_count": 90,
   "id": "6504aab6",
   "metadata": {},
   "outputs": [
    {
     "name": "stdout",
     "output_type": "stream",
     "text": [
      "Numbers divisible by nineteen or thirteen: [13, 19, 26, 39, 52, 65, 78, 91]\n"
     ]
    }
   ],
   "source": [
    "# Given list of numbers\n",
    "numbers = [13, 19, 26, 39, 52, 65, 78, 91]\n",
    "\n",
    "# Find numbers divisible by nineteen or thirteen using lambda and filter\n",
    "result = list(filter(lambda x: x % 19 == 0 or x % 13 == 0, numbers))\n",
    "\n",
    "# Print the result\n",
    "print(\"Numbers divisible by nineteen or thirteen:\", result)\n"
   ]
  },
  {
   "cell_type": "markdown",
   "id": "d66b54e5",
   "metadata": {},
   "source": [
    "### 12. Write a Python program to find palindromes in a given list of strings using Lambda"
   ]
  },
  {
   "cell_type": "code",
   "execution_count": 92,
   "id": "608eaf8b",
   "metadata": {},
   "outputs": [
    {
     "name": "stdout",
     "output_type": "stream",
     "text": [
      "Palindromes in the list: ['level', 'radar', 'civic', 'deed']\n"
     ]
    }
   ],
   "source": [
    "# Given list of strings\n",
    "strings = [\"level\", \"python\", \"radar\", \"programming\", \"civic\", \"deed\"]\n",
    "\n",
    "# Find palindromes using lambda and filter\n",
    "palindromes = list(filter(lambda x: x == x[::-1], strings))\n",
    "\n",
    "print(\"Palindromes in the list:\", palindromes)"
   ]
  },
  {
   "cell_type": "markdown",
   "id": "e20ca071",
   "metadata": {},
   "source": [
    "### 13. Write a Python program to find all anagrams of a string in a given list of strings using lambda"
   ]
  },
  {
   "cell_type": "code",
   "execution_count": 105,
   "id": "c7c9eda1",
   "metadata": {},
   "outputs": [
    {
     "name": "stdout",
     "output_type": "stream",
     "text": [
      "Anagrams of 'abcd' in the above list: \n",
      "['bcda', 'cbda', 'adcb']\n"
     ]
    }
   ],
   "source": [
    "## 1\n",
    "\n",
    "# List of strings\n",
    "texts = ['bcda', 'abce', 'cbda', 'cbea', 'adcb']\n",
    "\n",
    "# String for which anagrams need to be found\n",
    "str1 = 'abcd'\n",
    "\n",
    "# Use the 'filter()' function with a lambda function to filter anagrams of 'abcd' from the list\n",
    "result = list(filter(lambda x: sorted(list(str1)) == sorted(list(x)), texts))\n",
    "\n",
    "# Display the anagrams of 'abcd' found in the original list of strings\n",
    "print(\"Anagrams of 'abcd' in the above list: \")\n",
    "print(result)"
   ]
  },
  {
   "cell_type": "code",
   "execution_count": 104,
   "id": "a41135da",
   "metadata": {},
   "outputs": [
    {
     "name": "stdout",
     "output_type": "stream",
     "text": [
      "Anagrams of 'silent' in the list: ['listen', 'silent', 'enlist']\n"
     ]
    }
   ],
   "source": [
    "## 2\n",
    "\n",
    "from collections import Counter\n",
    "\n",
    "# Given list of strings\n",
    "string_list = [\"listen\", \"silent\", \"enlist\", \"python\", \"anagram\", \"nagaram\"]\n",
    "\n",
    "# Function to check if two strings are anagrams\n",
    "is_anagram = lambda s1, s2: Counter(s1) == Counter(s2)\n",
    "\n",
    "# Given string for which anagrams are to be found\n",
    "given_string = \"silent\"\n",
    "\n",
    "# Find anagrams using lambda and filter\n",
    "anagrams = list(filter(lambda s: is_anagram(given_string, s), string_list))\n",
    "\n",
    "# Print the result\n",
    "print(f\"Anagrams of '{given_string}' in the list:\", anagrams)\n"
   ]
  },
  {
   "cell_type": "markdown",
   "id": "ad2c05b5",
   "metadata": {},
   "source": [
    "### 14. Write a Python program that multiplies each number of a given list with a given number using lambda function. Print the result"
   ]
  },
  {
   "cell_type": "code",
   "execution_count": 109,
   "id": "4c57b6f7",
   "metadata": {},
   "outputs": [
    {
     "name": "stdout",
     "output_type": "stream",
     "text": [
      "Original list: [1, 2, 3, 4, 5]\n",
      "List after multiplying with 2 : [2, 4, 6, 8, 10]\n"
     ]
    }
   ],
   "source": [
    "list_nums = [1, 2, 3, 4, 5]\n",
    "multiplying_number = 2\n",
    "\n",
    "result = list(map(lambda x: multiplying_number*x , list_nums) )\n",
    "print(\"Original list:\", list_nums)\n",
    "print(\"List after multiplying with\", multiplying_number, \":\", result)"
   ]
  },
  {
   "cell_type": "markdown",
   "id": "dc2d3d22",
   "metadata": {},
   "source": [
    "### 15. Write a Python program to calculate the sum of the positive and negative numbers of a given list of numbers using lambda function"
   ]
  },
  {
   "cell_type": "code",
   "execution_count": 113,
   "id": "6ca3352e",
   "metadata": {},
   "outputs": [
    {
     "name": "stdout",
     "output_type": "stream",
     "text": [
      "Positive Numbers's SUM = 27\n",
      "Negative Numbers's SUM = -17\n"
     ]
    }
   ],
   "source": [
    "list_nums = [-2,-7,-3,6,8,4,9,-5]\n",
    "\n",
    "pos_sum = sum(filter(lambda x: x>0, list_nums))\n",
    "neg_sum = sum(filter(lambda x: x<0, list_nums))\n",
    "\n",
    "print(\"Positive Numbers's SUM =\", pos_sum)\n",
    "print(\"Negative Numbers's SUM =\", neg_sum)"
   ]
  },
  {
   "cell_type": "markdown",
   "id": "45bbada6",
   "metadata": {},
   "source": [
    "### 16. Write a Python program to find the list with maximum and minimum length using lambda"
   ]
  },
  {
   "cell_type": "code",
   "execution_count": 118,
   "id": "656040d5",
   "metadata": {},
   "outputs": [
    {
     "name": "stdout",
     "output_type": "stream",
     "text": [
      "List with the maximum length: [6, 7, 8, 9]\n",
      "List with the minimum length: [10]\n"
     ]
    }
   ],
   "source": [
    "lists = [[1, 2, 3], [4, 5], [6, 7, 8, 9], [10]]\n",
    "\n",
    "max_ = max(lists, key=lambda x: len(x))\n",
    "min_ = min(lists, key=lambda x: len(x))\n",
    "\n",
    "# Display the list with the maximum and minimum length\n",
    "print(\"List with the maximum length:\", max_)\n",
    "print(\"List with the minimum length:\", min_)"
   ]
  },
  {
   "cell_type": "markdown",
   "id": "b21cb012",
   "metadata": {},
   "source": [
    "### 17. Write a Python program to check whether a specified list is sorted or not using lambda"
   ]
  },
  {
   "cell_type": "code",
   "execution_count": 121,
   "id": "25254e7c",
   "metadata": {},
   "outputs": [
    {
     "name": "stdout",
     "output_type": "stream",
     "text": [
      "The specified list is not sorted.\n"
     ]
    }
   ],
   "source": [
    "# Given list\n",
    "my_list = [1, 3, 2, 4, 7, 15, 10]\n",
    "\n",
    "# Check if the list is sorted using lambda and sorted comparison\n",
    "is_sorted = lambda x: x == sorted(x)\n",
    "result = is_sorted(my_list)\n",
    "\n",
    "# Print the result\n",
    "if result:\n",
    "    print(\"The specified list is sorted.\")\n",
    "else:\n",
    "    print(\"The specified list is not sorted.\")"
   ]
  },
  {
   "cell_type": "markdown",
   "id": "53bb22aa",
   "metadata": {},
   "source": [
    "### 18. Write a Python program to remove all elements from a given list present in another list using lambda."
   ]
  },
  {
   "cell_type": "code",
   "execution_count": 3,
   "id": "3174e601",
   "metadata": {},
   "outputs": [
    {
     "name": "stdout",
     "output_type": "stream",
     "text": [
      "[1, 5, 6, 9, 20, 15]\n"
     ]
    }
   ],
   "source": [
    "l1 = [1,2,5,6,8,9,20,30,12,15]\n",
    "l2 = [2,8,30,12,4,7]\n",
    "\n",
    "result = list(filter(lambda x: x not in l2, l1) )\n",
    "print(result)"
   ]
  },
  {
   "cell_type": "markdown",
   "id": "47804edc",
   "metadata": {},
   "source": [
    "### 19. Write a Python program to convert string element to integer inside a given tuple using lambda"
   ]
  },
  {
   "cell_type": "code",
   "execution_count": 4,
   "id": "fbb8c8b6",
   "metadata": {},
   "outputs": [
    {
     "name": "stdout",
     "output_type": "stream",
     "text": [
      "Tuple after converting string elements to integers:\n",
      "(1, 2, 3, 4, 5)\n"
     ]
    }
   ],
   "source": [
    "# Given tuple with string elements\n",
    "my_tuple = ('1', '2', '3', '4', '5')\n",
    "\n",
    "# Use the 'map()' function with a lambda to convert string elements to integers\n",
    "converted_tuple = tuple(map(lambda x: int(x), my_tuple))\n",
    "\n",
    "# Print the result\n",
    "print(\"Tuple after converting string elements to integers:\")\n",
    "print(converted_tuple)"
   ]
  },
  {
   "cell_type": "markdown",
   "id": "d6d81f81",
   "metadata": {},
   "source": [
    "### 20. Write a Python program to count the occurrences of the items in a given list using lambda"
   ]
  },
  {
   "cell_type": "code",
   "execution_count": 35,
   "id": "97dd9dbe",
   "metadata": {},
   "outputs": [
    {
     "data": {
      "text/plain": [
       "{1: 3,\n",
       " 2: 3,\n",
       " 3: 2,\n",
       " 4: 1,\n",
       " 'a': 2,\n",
       " 'b': 1,\n",
       " 'c': 3,\n",
       " 'apple': 3,\n",
       " 'banana': 2,\n",
       " 'orange': 1}"
      ]
     },
     "execution_count": 35,
     "metadata": {},
     "output_type": "execute_result"
    }
   ],
   "source": [
    "input_list = [1, 2, 3, 4, 2, 3, 1, 2, 1, \n",
    "              \"a\", \"b\", \"a\", \"c\", \"c\", \"c\",\n",
    "              'apple','banana','apple','orange','banana','apple']\n",
    "\n",
    "dict(map(lambda x: (x, input_list.count(x)), input_list) )"
   ]
  },
  {
   "cell_type": "markdown",
   "id": "5bd7db34",
   "metadata": {},
   "source": [
    "### 21. Write a Python program to add three given lists using Python map and lambda"
   ]
  },
  {
   "cell_type": "code",
   "execution_count": 7,
   "id": "f4b224c6",
   "metadata": {},
   "outputs": [
    {
     "name": "stdout",
     "output_type": "stream",
     "text": [
      "Result after adding corresponding elements:\n",
      "[12, 15, 18]\n"
     ]
    }
   ],
   "source": [
    "# Given lists\n",
    "list1 = [1, 2, 3]\n",
    "list2 = [4, 5, 6]\n",
    "list3 = [7, 8, 9]\n",
    "\n",
    "# Use map and lambda to add corresponding elements\n",
    "result = list(map(lambda x, y, z: x + y + z, list1, list2, list3))\n",
    "\n",
    "# Print the result\n",
    "print(\"Result after adding corresponding elements:\")\n",
    "print(result)"
   ]
  },
  {
   "cell_type": "markdown",
   "id": "3a09b873",
   "metadata": {},
   "source": [
    "### 22. Write a Python program to listify the list of given strings individually using Python map"
   ]
  },
  {
   "cell_type": "code",
   "execution_count": 3,
   "id": "5d1d707a",
   "metadata": {},
   "outputs": [
    {
     "name": "stdout",
     "output_type": "stream",
     "text": [
      "Listified strings:\n",
      "[['a', 'p', 'p', 'l', 'e'], ['b', 'a', 'n', 'a', 'n', 'a'], ['c', 'h', 'e', 'r', 'r', 'y']]\n"
     ]
    }
   ],
   "source": [
    "# Given list of strings\n",
    "list_of_strings = ['apple', 'banana', 'cherry']\n",
    "\n",
    "# Use map and list to listify each string individually\n",
    "listified_strings = list(map(list, list_of_strings))\n",
    "\n",
    "# Print the result\n",
    "print(\"Listified strings:\")\n",
    "print(listified_strings)"
   ]
  },
  {
   "cell_type": "markdown",
   "id": "bb226835",
   "metadata": {},
   "source": [
    "### 23. Write a Python program to square the elements of a list using map() function"
   ]
  },
  {
   "cell_type": "code",
   "execution_count": 5,
   "id": "eca5c60b",
   "metadata": {},
   "outputs": [
    {
     "name": "stdout",
     "output_type": "stream",
     "text": [
      "Squared elements of the list:\n",
      "[1, 4, 9, 16, 25]\n"
     ]
    }
   ],
   "source": [
    "# Given list\n",
    "numbers_list = [1, 2, 3, 4, 5]\n",
    "\n",
    "# Use map and lambda to square each element\n",
    "squared_numbers = list(map(lambda x: x**2, numbers_list))\n",
    "\n",
    "# Print the result\n",
    "print(\"Squared elements of the list:\")\n",
    "print(squared_numbers)"
   ]
  },
  {
   "cell_type": "markdown",
   "id": "cac0f602",
   "metadata": {},
   "source": [
    "### 24. Write a Python program to add two given lists and find the difference between lists. Use map() function"
   ]
  },
  {
   "cell_type": "code",
   "execution_count": 10,
   "id": "552f54bd",
   "metadata": {},
   "outputs": [
    {
     "name": "stdout",
     "output_type": "stream",
     "text": [
      "Addition of corresponding elements:\n",
      "[7, 9, 11, 13, 15]\n",
      "Subtraction of corresponding elements:\n",
      "[-5, -5, -5, -5, -5]\n"
     ]
    }
   ],
   "source": [
    "list1 = [1, 2, 3, 4, 5]\n",
    "list2 = [6, 7, 8, 9, 10]\n",
    "\n",
    "# Use map and lambda to add corresponding elements\n",
    "result_add = list(map(lambda x, y: x + y , list1, list2))\n",
    "\n",
    "result_sub = list(map(lambda x, y: x - y , list1, list2))\n",
    "\n",
    "# Print the result\n",
    "print(\"Addition of corresponding elements:\")\n",
    "print(result_add)\n",
    "print(\"Subtraction of corresponding elements:\")\n",
    "print(result_sub)"
   ]
  },
  {
   "cell_type": "markdown",
   "id": "1c7fe598",
   "metadata": {},
   "source": [
    "### 25. Write a Python program to convert a given list of integers and a tuple of integers in a list of strings"
   ]
  },
  {
   "cell_type": "code",
   "execution_count": 13,
   "id": "e46e586e",
   "metadata": {},
   "outputs": [
    {
     "name": "stdout",
     "output_type": "stream",
     "text": [
      "List of Strings of List's integers:\n",
      " ['1', '2', '3', '4', '5']\n",
      "List of Strings of Tuple's integers:\n",
      " ['6', '7', '8', '9', '10']\n"
     ]
    }
   ],
   "source": [
    "list1 = [1, 2, 3, 4, 5]\n",
    "tuple1 = (6, 7, 8, 9, 10)\n",
    "\n",
    "result1 = list(map(str , list1))\n",
    "\n",
    "result2 = list(map(str , tuple1))\n",
    "\n",
    "print(\"List of Strings of List's integers:\\n\",result1)\n",
    "\n",
    "print(\"List of Strings of Tuple's integers:\\n\",result2 )"
   ]
  },
  {
   "cell_type": "markdown",
   "id": "cedf8888",
   "metadata": {},
   "source": [
    "### 26. Write a Python program to compute the sum of elements of an given array of integers, use map() function"
   ]
  },
  {
   "cell_type": "code",
   "execution_count": 16,
   "id": "d8ec0d6f",
   "metadata": {},
   "outputs": [
    {
     "name": "stdout",
     "output_type": "stream",
     "text": [
      "Sum of elements in the array:\n",
      "15\n"
     ]
    }
   ],
   "source": [
    "# Given array of integers\n",
    "array_of_integers = [1, 2, 3, 4, 5]\n",
    "\n",
    "# Compute the sum of elements using map and sum\n",
    "sum_result = sum(map(int, array_of_integers))\n",
    "\n",
    "# Print the result\n",
    "print(\"Sum of elements in the array:\")\n",
    "print(sum_result)"
   ]
  },
  {
   "cell_type": "markdown",
   "id": "756d656d",
   "metadata": {},
   "source": [
    "### 27. Write a Python program to count the same pair in two given lists. use map() function"
   ]
  },
  {
   "cell_type": "code",
   "execution_count": 7,
   "id": "7f589205",
   "metadata": {},
   "outputs": [
    {
     "name": "stdout",
     "output_type": "stream",
     "text": [
      "Original lists:\n",
      "[1, 2, 3, 4, 5, 6, 7, 8]\n",
      "[2, 2, 3, 1, 2, 6, 7, 9]\n",
      "\n",
      "\n",
      "Number of same pair of the said two given lists:\n",
      "4\n"
     ]
    }
   ],
   "source": [
    "# Import the 'eq' function from the 'operator' module\n",
    "from operator import eq \n",
    "\n",
    "# Define a function 'count_same_pair' that takes two lists as input \n",
    "# and returns the number of pairs with equal elements\n",
    "def count_same_pair(nums1, nums2):\n",
    "    # Use the 'map' function with 'eq' to create a list of \n",
    "    # True/False values for corresponding elements in 'nums1' and 'nums2'\n",
    "    # Sum the True values to get the count of pairs with equal elements\n",
    "    result = sum(map(eq, nums1, nums2))\n",
    "    # Return the result\n",
    "    return result\n",
    "\n",
    "# Define two lists 'nums1' and 'nums2'\n",
    "nums1 = [1, 2, 3, 4, 5, 6, 7, 8]\n",
    "nums2 = [2, 2, 3, 1, 2, 6, 7, 9]\n",
    "\n",
    "# Print the original lists\n",
    "print(\"Original lists:\")\n",
    "print(nums1)\n",
    "print(nums2)\n",
    "\n",
    "# Print a newline for better readability\n",
    "print(\"\\n\")\n",
    "\n",
    "# Print the number of pairs with equal elements in the two lists\n",
    "print(\"Number of same pair of the said two given lists:\")\n",
    "print(count_same_pair(nums1, nums2))\n"
   ]
  },
  {
   "cell_type": "markdown",
   "id": "64911fd9",
   "metadata": {},
   "source": [
    "### 28. Write a Python program to convert a given list of strings into list of lists using map function"
   ]
  },
  {
   "cell_type": "code",
   "execution_count": 16,
   "id": "d0f33624",
   "metadata": {},
   "outputs": [
    {
     "name": "stdout",
     "output_type": "stream",
     "text": [
      "List of lists: [['h', 'e', 'l', 'l', 'o'], ['w', 'o', 'r', 'l', 'd'], ['p', 'y', 't', 'h', 'o', 'n']]\n"
     ]
    }
   ],
   "source": [
    "def convert_to_list_of_lists(strings):\n",
    "    # Use map() to convert each string to a list of characters\n",
    "    lists_of_chars = map(list, strings)\n",
    "\n",
    "    # Convert the map object to a list of lists\n",
    "    result = list(lists_of_chars)\n",
    "\n",
    "    return result\n",
    "\n",
    "# Example usage:\n",
    "string_list = [\"hello\", \"world\", \"python\"]\n",
    "\n",
    "result_list_of_lists = convert_to_list_of_lists(string_list)\n",
    "print(\"List of lists:\", result_list_of_lists)"
   ]
  },
  {
   "cell_type": "markdown",
   "id": "0420c780",
   "metadata": {},
   "source": [
    "### 29. Write a Python program to convert a given list of tuples to a list of strings using map function"
   ]
  },
  {
   "cell_type": "code",
   "execution_count": 23,
   "id": "bb003dea",
   "metadata": {},
   "outputs": [
    {
     "name": "stdout",
     "output_type": "stream",
     "text": [
      "List of strings: ['(1, 2)', '(3, 4)', '(5, 6)']\n"
     ]
    }
   ],
   "source": [
    "def convert_to_list_of_strings(tuples):\n",
    "    # Use map() to convert each tuple to a string\n",
    "    strings = map(str, tuples)\n",
    "\n",
    "    # Convert the map object to a list of strings\n",
    "    result = list(strings)\n",
    "\n",
    "    return result\n",
    "\n",
    "# Example usage:\n",
    "tuple_list = [(1, 2), (3, 4), (5, 6)]\n",
    "\n",
    "result_list_of_strings = convert_to_list_of_strings(tuple_list)\n",
    "print(\"List of strings:\", result_list_of_strings)"
   ]
  },
  {
   "cell_type": "markdown",
   "id": "c6902ed9",
   "metadata": {},
   "source": [
    "### 30. Python program to find the diff. between two lists using filter() function"
   ]
  },
  {
   "cell_type": "code",
   "execution_count": null,
   "id": "b4a90f95",
   "metadata": {},
   "outputs": [],
   "source": []
  },
  {
   "cell_type": "markdown",
   "id": "26e7e3ad",
   "metadata": {},
   "source": [
    "### 31. Python program to remove stop words from string using filter() function"
   ]
  },
  {
   "cell_type": "code",
   "execution_count": null,
   "id": "72c44338",
   "metadata": {},
   "outputs": [],
   "source": []
  },
  {
   "cell_type": "markdown",
   "id": "854de80c",
   "metadata": {},
   "source": [
    "### 32. Python program to find common items in two arrays using lambda and filter() function"
   ]
  },
  {
   "cell_type": "code",
   "execution_count": null,
   "id": "8b013d26",
   "metadata": {},
   "outputs": [],
   "source": []
  },
  {
   "cell_type": "markdown",
   "id": "1450ad94",
   "metadata": {},
   "source": [
    "### 33. Python program to filter odd numbers from the list using filter() function"
   ]
  },
  {
   "cell_type": "code",
   "execution_count": null,
   "id": "75dae500",
   "metadata": {},
   "outputs": [],
   "source": []
  },
  {
   "cell_type": "markdown",
   "id": "127d82f3",
   "metadata": {},
   "source": [
    "### 34. Python program to filter even numbers from the list using filter() function"
   ]
  },
  {
   "cell_type": "code",
   "execution_count": null,
   "id": "b80d2507",
   "metadata": {},
   "outputs": [],
   "source": []
  },
  {
   "cell_type": "markdown",
   "id": "133b7fce",
   "metadata": {},
   "source": [
    "### 35. Python program that filters non-vowels from the list using filter() function"
   ]
  },
  {
   "cell_type": "code",
   "execution_count": null,
   "id": "36bd02cf",
   "metadata": {},
   "outputs": [],
   "source": []
  }
 ],
 "metadata": {
  "kernelspec": {
   "display_name": "Python 3 (ipykernel)",
   "language": "python",
   "name": "python3"
  },
  "language_info": {
   "codemirror_mode": {
    "name": "ipython",
    "version": 3
   },
   "file_extension": ".py",
   "mimetype": "text/x-python",
   "name": "python",
   "nbconvert_exporter": "python",
   "pygments_lexer": "ipython3",
   "version": "3.11.5"
  }
 },
 "nbformat": 4,
 "nbformat_minor": 5
}
