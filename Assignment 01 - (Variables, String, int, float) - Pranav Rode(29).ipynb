{
 "cells": [
  {
   "cell_type": "markdown",
   "id": "5bcaf73b",
   "metadata": {},
   "source": [
    "# ASSIGNMENT - 01 (Variables, String, int, float)\n",
    "## Solution/Ans  by - Pranav Rode(29) "
   ]
  },
  {
   "cell_type": "markdown",
   "id": "5a3a1d3c",
   "metadata": {},
   "source": [
    "## 1. What are the key features of Python?"
   ]
  },
  {
   "cell_type": "code",
   "execution_count": null,
   "id": "9e43cada",
   "metadata": {},
   "outputs": [],
   "source": [
    "Python has several key features that contribute to its popularity and usability as a programming language. \n",
    "Some of the key features of Python are:\n",
    "\n",
    "Readability: Python emphasizes code readability and uses a clean and intuitive syntax, making it easy to \n",
    "    understand and write.\n",
    "\n",
    "Simplicity: Python offers a simple and straightforward approach to programming, making it suitable \n",
    "    for beginners as well as experienced developers.\n",
    "\n",
    "Expressive language: Python allows developers to express concepts and ideas in fewer lines of code \n",
    "    compared to other programming languages, leading to increased productivity.\n",
    "\n",
    "Large standard library: Python comes with a vast standard library that provides ready-to-use \n",
    "    modules and functions for various tasks, reducing the need for external dependencies.\n",
    "\n",
    "Dynamically-typed: Python is a dynamically-typed language, meaning that variable types are \n",
    "    determined at runtime. This allows for flexibility and ease of use but requires careful \n",
    "    attention to variable type handling.\n",
    "\n",
    "Interpreted nature: Python is an interpreted language, which means that code execution \n",
    "    occurs line by line, making it easy to test and debug code interactively.\n",
    "\n",
    "Portability: Python is highly portable and can run on various platforms and operating \n",
    "    systems without requiring extensive modifications.\n",
    "\n",
    "Object-oriented: Python supports object-oriented programming (OOP) principles, allowing \n",
    "    developers to create and use objects, classes, and inheritance for modular and reusable code.\n",
    "\n",
    "Extensive community support: Python has a large and active community of developers who \n",
    "    contribute to the language's development, provide support, and create a vast ecosystem of libraries, \n",
    "    frameworks, and tools.\n",
    "\n",
    "Integration capabilities: Python can easily integrate with other programming languages and systems, \n",
    "    making it a suitable choice for building complex applications and systems.\n",
    "\n",
    "These key features make Python a versatile and powerful language for a wide range of applications, \n",
    "including web development, data analysis, scientific computing, artificial intelligence, and more."
   ]
  },
  {
   "cell_type": "markdown",
   "id": "26764237",
   "metadata": {},
   "source": [
    "## 2. What are the Data Types in Python?"
   ]
  },
  {
   "cell_type": "code",
   "execution_count": null,
   "id": "b24ca402",
   "metadata": {},
   "outputs": [],
   "source": [
    "Python has several built-in data types, including:\n",
    "\n",
    "Numeric types: int, float, complex\n",
    "Sequence types: list, tuple, range\n",
    "Text type: str\n",
    "Mapping type: dict\n",
    "Set types: set, frozenset\n",
    "Boolean type: bool\n",
    "Binary types: bytes, bytearray, memoryview"
   ]
  },
  {
   "cell_type": "markdown",
   "id": "92d06e13",
   "metadata": {},
   "source": [
    "## 3. What are local variables and global variables in Python?"
   ]
  },
  {
   "cell_type": "code",
   "execution_count": null,
   "id": "7ad2f211",
   "metadata": {},
   "outputs": [],
   "source": [
    "In Python, local variables and global variables are used to store data within a program, but \n",
    "they differ in terms of their scope and accessibility.\n",
    "\n",
    "1. Local Variables:\n",
    "   - Local variables are defined within a specific function or block of code.\n",
    "   - They are only accessible within the function or block where they are defined.\n",
    "   - Local variables have a limited scope and are destroyed once the function/block execution is complete.\n",
    "   - Local variables can have the same name in different functions without causing conflicts.\n",
    "   - Example:\n",
    "\n",
    "E.g\n",
    "def my_function():\n",
    "    # Local variable\n",
    "    message = \"Hello, world!\"\n",
    "    print(message)\n",
    "\n",
    "my_function()  # Output: Hello, world!\n",
    "print(message)  # Error: NameError: name 'message' is not defined\n",
    "\n",
    "\n",
    "2. Global Variables:\n",
    "   - Global variables are defined outside of any function or block, at the top level of the program.\n",
    "   - They can be accessed from anywhere within the program, including inside functions.\n",
    "   - Global variables have a broader scope and remain in memory throughout the program's execution.\n",
    "   - Global variables can be accessed and modified by any function, which can be both \n",
    "    advantageous and potentially risky.\n",
    "   - Example:\n",
    "\n",
    "E.g\n",
    "# Global variable\n",
    "count = 0\n",
    "\n",
    "def increment():\n",
    "    # Accessing global variable\n",
    "    global count\n",
    "    count += 1\n",
    "\n",
    "def decrement():\n",
    "    # Accessing global variable\n",
    "    global count\n",
    "    count -= 1\n",
    "\n",
    "increment()\n",
    "print(count)  # Output: 1\n",
    "\n",
    "decrement()\n",
    "print(count)  # Output: 0\n",
    "\n",
    "\n",
    "Its generally recommended to use global variables sparingly and only when necessary, as they can make code \n",
    "less modular and harder to debug. Local variables, on the other hand, provide better \n",
    "encapsulation and prevent unintended variable modifications."
   ]
  },
  {
   "cell_type": "markdown",
   "id": "0f419923",
   "metadata": {},
   "source": [
    "## 4. How do you write comments in python? And Why Comments are important?"
   ]
  },
  {
   "cell_type": "code",
   "execution_count": null,
   "id": "22b67215",
   "metadata": {},
   "outputs": [],
   "source": [
    "In Python, you can write comments using the hash symbol (`#`). \n",
    "Comments are ignored by the Python interpreter and are used to provide explanatory \n",
    "notes or documentation within the code. They are useful for making the code more readable, \n",
    "understandable, and maintainable. Here's how you can write comments in Python:\n",
    "\n",
    "\n",
    "# This is a single-line comment\n",
    "\n",
    "'''\n",
    "This is a multi-line comment.\n",
    "It can span multiple lines.\n",
    "'''\n",
    "\n",
    "# Example usage of comments\n",
    "x = 5  # Assigning a value to the variable x\n",
    "# The following line prints the value of x\n",
    "print(\"The value of x is:\", x)\n",
    "\n",
    "\n",
    "Comments serve several purposes and benefits, including:\n",
    "\n",
    "1. Code Documentation: Comments help explain the code's purpose, functionality, and \n",
    "   logic to make it easier for others (including yourself) to understand and maintain the code in the future.\n",
    "\n",
    "2. Clarification: Comments can provide additional context, explanations, or reminders \n",
    "   about specific sections of code, making it easier to comprehend the code's flow and intentions.\n",
    "\n",
    "3. Debugging and Troubleshooting: Comments can be used to temporarily disable or \n",
    "   comment out specific lines of code during debugging or troubleshooting without deleting them, \n",
    "   allowing you to isolate and identify problematic areas.\n",
    "\n",
    "4. Collaboration: Comments can facilitate collaboration among team members by providing insights \n",
    "   into the code's implementation, assumptions, or future considerations.\n",
    "\n",
    "5. Code Organization: Comments can help organize and structure the code by separating it into \n",
    "   logical sections or explaining the purpose of different functions, classes, or blocks of code.\n",
    "\n",
    "It is good practice to write clear, concise, and meaningful comments that add value to the codebase.\n",
    "However, it's important to strike a balance and avoid excessive or redundant comments, as \n",
    "they may clutter the code and make it harder to read."
   ]
  },
  {
   "cell_type": "markdown",
   "id": "2bab2569",
   "metadata": {},
   "source": [
    "## 5. How to comment on multiple lines in python?"
   ]
  },
  {
   "cell_type": "code",
   "execution_count": null,
   "id": "525eb497",
   "metadata": {},
   "outputs": [],
   "source": [
    "To comment on multiple lines in Python, you have a couple of options. Here are two common methods:\n",
    "\n",
    "1. Using Triple Quotes:\n",
    "   You can enclose multiple lines of text within triple quotes (`'''` or `\"\"\"`) to create a multi-line comment. \n",
    "   This method is typically used for longer comments or documentation.\n",
    "\n",
    "\n",
    "'''\n",
    "This is a multi-line comment.\n",
    "It can span multiple lines.\n",
    "These lines are all part of the comment.\n",
    "'''\n",
    "\n",
    "\"\"\"\n",
    "This is another multi-line comment.\n",
    "It can also span multiple lines.\n",
    "These lines are all part of the comment.\n",
    "\"\"\"\n",
    "\n",
    "\n",
    "2. Adding a `#` at the beginning of each line:\n",
    "   You can place a hash symbol (`#`) at the beginning of each line to comment out multiple lines of code. \n",
    "   This method is more commonly used for shorter comments or temporarily disabling code.\n",
    "\n",
    "\n",
    "# This is a multi-line comment\n",
    "# It can span multiple lines\n",
    "# These lines are all part of the comment\n",
    "\n",
    "\n",
    "Both methods achieve the same result of commenting out multiple lines in Python. \n",
    "Choose the one that suits your needs based on the length and purpose of your comment."
   ]
  },
  {
   "cell_type": "markdown",
   "id": "1d05e2a7",
   "metadata": {},
   "source": [
    "## 6. What do you mean by Python literals?"
   ]
  },
  {
   "cell_type": "code",
   "execution_count": null,
   "id": "30c0263a",
   "metadata": {},
   "outputs": [],
   "source": [
    "In Python, literals refer to the notation used to represent values of different data types directly in the source code. \n",
    "They are fixed values that are assigned to variables or used as data in expressions. \n",
    "Python supports various types of literals, including:\n",
    "\n",
    "1. Numeric Literals:\n",
    "   - Integer literals: Whole numbers without decimal points, such as `42` or `-10`.\n",
    "   - Floating-point literals: Numbers with a decimal point or exponent notation, such as `3.14` or `1.5e-3`.\n",
    "   - Complex literals: Numbers with a real and imaginary part represented as `a + bj`, such as `2 + 3j`.\n",
    "\n",
    "2. String Literals:\n",
    "   - Enclosed in single quotes (') or double quotes (\"), such as 'Hello' or \"Python\".\n",
    "   - Can span multiple lines using triple quotes (''' or \"\"\"), such as '''Multi-line string'''.\n",
    "\n",
    "3. Boolean Literals:\n",
    "   - Represent the truth values `True` and `False`.\n",
    "\n",
    "4. None Literal:\n",
    "   - Represent the absence of a value and is denoted by the keyword `None`.\n",
    "\n",
    "5. Sequence Literals:\n",
    "   - List literals: Enclosed in square brackets (`[]`), such as `[1, 2, 3]`.\n",
    "   - Tuple literals: Enclosed in parentheses (`()`), such as `(1, 2, 3)`.\n",
    "   - Set literals: Enclosed in curly braces (`{}`), such as `{1, 2, 3}`.\n",
    "   - Dictionary literals: Enclosed in curly braces (`{}`) with key-value pairs, such as `{'name': 'John', 'age': 25}`.\n",
    "\n",
    "6. Literal Constants:\n",
    "   - Special values like `True`, `False`, and `None`.\n",
    "\n",
    "Python literals provide a convenient way to express and assign values directly in the code, \n",
    "making it easier to work with different data types and constants."
   ]
  },
  {
   "cell_type": "markdown",
   "id": "51e4f655",
   "metadata": {},
   "source": [
    "## 7. What are different ways to assign value to variables?"
   ]
  },
  {
   "cell_type": "code",
   "execution_count": null,
   "id": "baa46adb",
   "metadata": {},
   "outputs": [],
   "source": [
    "In Python, there are several ways to assign values to variables. These include:\n",
    "\n",
    "1. Direct Assignment: Assigning a value to a variable using the assignment operator (`=`).\n",
    "   \n",
    "   x = 10\n",
    "   \n",
    "\n",
    "2. Multiple Assignment: Assigning multiple values to multiple variables in a single line.\n",
    "   \n",
    "   x, y, z = 1, 2, 3\n",
    "   \n",
    "\n",
    "3. Chained Assignment: Assigning the same value to multiple variables in a single line.\n",
    "   \n",
    "   x = y = z = 0\n",
    "  \n",
    "\n",
    "4. Swapping Values: Exchanging the values of two variables using a temporary variable.\n",
    "  \n",
    "   a = 10\n",
    "   b = 20\n",
    "   temp = a\n",
    "   a = b\n",
    "   b = temp\n",
    "  \n",
    "\n",
    "5. Augmented Assignment: Performing an operation on a variable and assigning the result back to the \n",
    "   same variable using augmented assignment operators like `+=`, `-=`, `*=`, `/=`, etc.\n",
    "   \n",
    "   x = 5\n",
    "   x += 3  # Equivalent to x = x + 3\n",
    "  \n",
    "\n",
    "6. Unpacking Assignment: Assigning values from an iterable (e.g., list, tuple) to multiple variables in a single line.\n",
    "   \n",
    "   values = [1, 2, 3]\n",
    "   a, b, c = values\n",
    "  \n",
    "\n",
    "7. Using Function Return Values: Assigning the returned value(s) from a function to variable(s).\n",
    "   \n",
    "   def add_numbers(a, b):\n",
    "       return a + b\n",
    "   \n",
    "   result = add_numbers(5, 10)\n",
    "  \n",
    "\n",
    "These are some of the common ways to assign values to variables in Python. The choice of assignment method \n",
    "depends on the specific requirements and coding style of your program."
   ]
  },
  {
   "cell_type": "markdown",
   "id": "eb258ef8",
   "metadata": {},
   "source": [
    "## 8. What are the Escape Characters in Python?"
   ]
  },
  {
   "cell_type": "raw",
   "id": "16b509ee",
   "metadata": {},
   "source": [
    "Escape characters in Python are special characters that are used to represent certain characters that are difficult to include directly in a string. They are denoted by a backslash () followed by a specific character. Here are some commonly used escape characters in Python:"
   ]
  },
  {
   "cell_type": "code",
   "execution_count": 1,
   "id": "a5e67a1e",
   "metadata": {},
   "outputs": [
    {
     "name": "stdout",
     "output_type": "stream",
     "text": [
      "Hello,\n",
      "World!\n"
     ]
    }
   ],
   "source": [
    "# \\n - Newline: Inserts a new line.\n",
    "# Example:\n",
    "print(\"Hello,\\nWorld!\")"
   ]
  },
  {
   "cell_type": "code",
   "execution_count": 2,
   "id": "05c7fe42",
   "metadata": {},
   "outputs": [
    {
     "name": "stdout",
     "output_type": "stream",
     "text": [
      "Hello,\tWorld!\n"
     ]
    }
   ],
   "source": [
    "# \\t - Tab: Inserts a tab.\n",
    "# Example:\n",
    "print(\"Hello,\\tWorld!\")"
   ]
  },
  {
   "cell_type": "code",
   "execution_count": 3,
   "id": "15a52a30",
   "metadata": {},
   "outputs": [
    {
     "name": "stdout",
     "output_type": "stream",
     "text": [
      "She said, \"Hello!\"\n"
     ]
    }
   ],
   "source": [
    "# \\\" - Double Quote: Inserts a double quote within a string.\n",
    "# Example:\n",
    "print(\"She said, \\\"Hello!\\\"\")"
   ]
  },
  {
   "cell_type": "code",
   "execution_count": 4,
   "id": "85d41ea8",
   "metadata": {},
   "outputs": [
    {
     "name": "stdout",
     "output_type": "stream",
     "text": [
      "He said, 'Hi!'\n"
     ]
    }
   ],
   "source": [
    "# \\' - Single Quote: Inserts a single quote within a string.\n",
    "# Example:\n",
    "print('He said, \\'Hi!\\'')"
   ]
  },
  {
   "cell_type": "code",
   "execution_count": 5,
   "id": "aefc4d91",
   "metadata": {},
   "outputs": [
    {
     "name": "stdout",
     "output_type": "stream",
     "text": [
      "C:\\path\\to\\file\n"
     ]
    }
   ],
   "source": [
    "# \\\\ - Backslash: Inserts a backslash within a string.\n",
    "# Example:\n",
    "print(\"C:\\\\path\\\\to\\\\file\")"
   ]
  },
  {
   "cell_type": "code",
   "execution_count": 5,
   "id": "faef5bf6",
   "metadata": {},
   "outputs": [
    {
     "name": "stdout",
     "output_type": "stream",
     "text": [
      "Hello \r",
      "World!\n"
     ]
    }
   ],
   "source": [
    "# \\r - Carriage Return: Moves the cursor to the beginning of the line.\n",
    "# Example:\n",
    "print(\"Hello \\rWorld!\")"
   ]
  },
  {
   "cell_type": "markdown",
   "id": "72facf79",
   "metadata": {},
   "source": [
    "## 9. What are the different ways to perform string formatting? Explain with an example."
   ]
  },
  {
   "cell_type": "raw",
   "id": "3880ba4a",
   "metadata": {},
   "source": [
    "In Python, there are multiple ways to perform string formatting:"
   ]
  },
  {
   "cell_type": "code",
   "execution_count": 7,
   "id": "45f56287",
   "metadata": {},
   "outputs": [
    {
     "name": "stdout",
     "output_type": "stream",
     "text": [
      "My name is Alice and I am 25 years old.\n"
     ]
    }
   ],
   "source": [
    "# Using the % operator:\n",
    "\n",
    "name = \"Alice\"\n",
    "age = 25\n",
    "message = \"My name is %s and I am %d years old.\" % (name, age)\n",
    "print(message) "
   ]
  },
  {
   "cell_type": "code",
   "execution_count": 8,
   "id": "2f370889",
   "metadata": {},
   "outputs": [
    {
     "name": "stdout",
     "output_type": "stream",
     "text": [
      "My name is Alice and I am 25 years old.\n"
     ]
    }
   ],
   "source": [
    "# Using the str.format() method:\n",
    "\n",
    "name = \"Alice\"\n",
    "age = 25\n",
    "message = \"My name is {} and I am {} years old.\".format(name, age)\n",
    "print(message) "
   ]
  },
  {
   "cell_type": "code",
   "execution_count": 9,
   "id": "0b4ade33",
   "metadata": {},
   "outputs": [
    {
     "name": "stdout",
     "output_type": "stream",
     "text": [
      "My name is Alice and I am 25 years old.\n"
     ]
    }
   ],
   "source": [
    "# Using f-strings (formatted string literals):\n",
    "\n",
    "name = \"Alice\"\n",
    "age = 25\n",
    "message = f\"My name is {name} and I am {age} years old.\"\n",
    "print(message) "
   ]
  },
  {
   "cell_type": "markdown",
   "id": "a34990b3",
   "metadata": {},
   "source": [
    "## 10. Write a program to print every character of a string entered by the user in a new line using a loop"
   ]
  },
  {
   "cell_type": "code",
   "execution_count": 29,
   "id": "1e24fa8a",
   "metadata": {},
   "outputs": [
    {
     "name": "stdout",
     "output_type": "stream",
     "text": [
      "Enter a string: Hello\n",
      "H\n",
      "e\n",
      "l\n",
      "l\n",
      "o\n"
     ]
    }
   ],
   "source": [
    "# Get input from the user\n",
    "input_str = input(\"Enter a string: \")\n",
    "\n",
    "# Iterate over each character in the string\n",
    "for char in input_str:\n",
    "    print(char)"
   ]
  },
  {
   "cell_type": "markdown",
   "id": "18fb6828",
   "metadata": {},
   "source": [
    " ## 11. Write a program to find the length of the string \"machine learning\" with and without using len function."
   ]
  },
  {
   "cell_type": "code",
   "execution_count": 30,
   "id": "a22f49f4",
   "metadata": {},
   "outputs": [
    {
     "name": "stdout",
     "output_type": "stream",
     "text": [
      "16\n"
     ]
    }
   ],
   "source": [
    "string = 'machine learning'\n",
    "count = 0\n",
    "for char in string:\n",
    "    count += 1\n",
    "print(count)"
   ]
  },
  {
   "cell_type": "markdown",
   "id": "8b3bce39",
   "metadata": {},
   "source": [
    " ## 12. Write a program to check if the word 'orange' is present in the \"This is orange juice\"."
   ]
  },
  {
   "cell_type": "code",
   "execution_count": 31,
   "id": "91de82b0",
   "metadata": {},
   "outputs": [
    {
     "name": "stdout",
     "output_type": "stream",
     "text": [
      "The word 'orange' is present in the sentence.\n"
     ]
    }
   ],
   "source": [
    "sentence = \"This is orange juice\"\n",
    "word = \"orange\"\n",
    "\n",
    "if word in sentence:\n",
    "    print(\"The word 'orange' is present in the sentence.\")\n",
    "else:\n",
    "    print(\"The word 'orange' is not present in the sentence.\")\n"
   ]
  },
  {
   "cell_type": "markdown",
   "id": "c8b440f3",
   "metadata": {},
   "source": [
    "## 13. Write a program to find the number of vowels, consonants, digits, and white space characters in a string."
   ]
  },
  {
   "cell_type": "code",
   "execution_count": 76,
   "id": "81065031",
   "metadata": {},
   "outputs": [
    {
     "name": "stdout",
     "output_type": "stream",
     "text": [
      "Vowels =  3\n",
      "Consonants =  4\n",
      "Digits =  2\n",
      "Space =  3\n"
     ]
    }
   ],
   "source": [
    "strng = 'my age is 25'\n",
    "strng = strng.lower()\n",
    "vowels = 0\n",
    "consonants = 0 \n",
    "digits = 0\n",
    "space = 0\n",
    "v = 'aeiou'\n",
    "for i in strng:\n",
    "    if i in v:\n",
    "        vowels += 1\n",
    "    if i not in v and i.isalpha():\n",
    "        consonants += 1\n",
    "    if i.isdigit():\n",
    "        digits += 1\n",
    "    if i == \" \":\n",
    "        space += 1\n",
    "    \n",
    "print('Vowels = ' ,vowels)\n",
    "print('Consonants = ' ,consonants)\n",
    "print('Digits = ' ,digits)\n",
    "print('Space = ', space)"
   ]
  },
  {
   "cell_type": "markdown",
   "id": "934684a0",
   "metadata": {},
   "source": [
    " ## 14. Write a Python program to count Uppercase, Lowercase, special character, and numeric values in a given string."
   ]
  },
  {
   "cell_type": "code",
   "execution_count": 52,
   "id": "cb901fbd",
   "metadata": {},
   "outputs": [
    {
     "name": "stdout",
     "output_type": "stream",
     "text": [
      "Uppercase =  2\n",
      "Lowercase =  5\n",
      "Numerics =  2\n",
      "Spec. Characters =  2\n"
     ]
    }
   ],
   "source": [
    "input_str = \"My Age is = @ 25\"\n",
    "strng = input_str.replace(\" \", \"\")\n",
    "u = 0\n",
    "l = 0 \n",
    "num = 0\n",
    "spec = 0\n",
    "for i in strng:\n",
    "    if i.isupper():\n",
    "        u += 1\n",
    "    elif i.islower():\n",
    "        l += 1\n",
    "    elif i.isdigit():\n",
    "        num += 1\n",
    "    else:\n",
    "        spec += 1\n",
    "    \n",
    "print('Uppercase = ' ,u)\n",
    "print('Lowercase = ' ,l)\n",
    "print('Numerics = ' ,num)\n",
    "print('Spec. Characters = ', spec)"
   ]
  },
  {
   "cell_type": "markdown",
   "id": "a52f2092",
   "metadata": {},
   "source": [
    " ## 15. Write a program to make a new string with all the consonants deleted from the string \"Hello, have a good day\"."
   ]
  },
  {
   "cell_type": "code",
   "execution_count": 57,
   "id": "81defd09",
   "metadata": {},
   "outputs": [
    {
     "name": "stdout",
     "output_type": "stream",
     "text": [
      "eoaeaooa\n"
     ]
    }
   ],
   "source": [
    "input_str = \"Hello, have a good day\"\n",
    "vowels = 'aeiouAEIOU'\n",
    "new_string = ''\n",
    "for i in input_str:\n",
    "    if i in vowels:\n",
    "        new_string += i\n",
    "print(new_string)"
   ]
  },
  {
   "cell_type": "markdown",
   "id": "48879bb6",
   "metadata": {},
   "source": [
    " ## 16. Write a Python program to remove the nth index character from a non-empty string."
   ]
  },
  {
   "cell_type": "code",
   "execution_count": 92,
   "id": "678064f4",
   "metadata": {
    "scrolled": true
   },
   "outputs": [
    {
     "name": "stdout",
     "output_type": "stream",
     "text": [
      "Helo, have a good day\n"
     ]
    }
   ],
   "source": [
    "input_str = \"Hello, have a good day\"\n",
    "n = 2\n",
    "\n",
    "if n < 0:\n",
    "    print('Invalid Index')\n",
    "elif n >= len(input_str):\n",
    "    print('Index number greater than input string')\n",
    "elif input_str[n] == ' ':\n",
    "    print(\"Sorry, Space at given index\")\n",
    "else:\n",
    "    new_string = input_str[:n] + input_str[n+1:]\n",
    "    print(new_string)"
   ]
  },
  {
   "cell_type": "markdown",
   "id": "d77ee7cc",
   "metadata": {},
   "source": [
    " ## 17. Write a Python program to change a given string to a new string where the first and last characters have been exchanged."
   ]
  },
  {
   "cell_type": "code",
   "execution_count": 96,
   "id": "72c14e27",
   "metadata": {},
   "outputs": [
    {
     "name": "stdout",
     "output_type": "stream",
     "text": [
      "oellH\n"
     ]
    }
   ],
   "source": [
    "string = 'Hello'\n",
    "if len(string) <= 1:\n",
    "    print(\"String has only one character or is empty\")\n",
    "else:    \n",
    "    new_string = string[-1] + string[1:-1] + string[0]\n",
    "    print(new_string)"
   ]
  },
  {
   "cell_type": "markdown",
   "id": "04246731",
   "metadata": {},
   "source": [
    "## 18. Write a Python program to count the occurrences of each word in a given sentence "
   ]
  },
  {
   "cell_type": "code",
   "execution_count": 14,
   "id": "67b7386c",
   "metadata": {},
   "outputs": [
    {
     "name": "stdout",
     "output_type": "stream",
     "text": [
      "This: 1\n",
      "is: 3\n",
      "a: 2\n",
      "sentence: 2\n",
      "with: 1\n",
      "repeated: 1\n",
      "words: 1\n",
      "this: 1\n",
      "and: 1\n"
     ]
    }
   ],
   "source": [
    "# Without using dictionary :\n",
    "\n",
    "sentence = \"This is a sentence is with repeated words this and is a sentence\"\n",
    "words = sentence.split()\n",
    "unique_words = []\n",
    "word_counts = []\n",
    "\n",
    "for i in words:\n",
    "    if i not in unique_words:\n",
    "        unique_words.append(i)\n",
    "        word_counts.append(1)\n",
    "    elif i in unique_words:\n",
    "        index = unique_words.index(i)\n",
    "        word_counts[index] = word_counts[index] + 1\n",
    "\n",
    "for i in range(len(unique_words)):\n",
    "    print(f\"{unique_words[i]}: {word_counts[i]}\")"
   ]
  },
  {
   "cell_type": "code",
   "execution_count": 20,
   "id": "55e0370e",
   "metadata": {},
   "outputs": [
    {
     "name": "stdout",
     "output_type": "stream",
     "text": [
      "{'This': 1, 'is': 3, 'a': 2, 'sentence': 2, 'with': 1, 'repeated': 1, 'words': 1, 'this': 1, 'and': 1}\n"
     ]
    }
   ],
   "source": [
    "# Using dictionary :\n",
    "\n",
    "sentence = \"This is a sentence is with repeated words this and is a sentence\"\n",
    "word_counts = {}\n",
    "words = sentence.split()\n",
    "\n",
    "for i in words:\n",
    "    if i in word_counts:\n",
    "        word_counts[i] = word_counts[i] + 1\n",
    "    else:\n",
    "        word_counts[i] = 1\n",
    "\n",
    "print(word_counts)"
   ]
  },
  {
   "cell_type": "markdown",
   "id": "29937aea",
   "metadata": {},
   "source": [
    "## 19. How do you count the occurrence of a given character in a string?"
   ]
  },
  {
   "cell_type": "raw",
   "id": "b96deafc",
   "metadata": {},
   "source": [
    "You can count the occurrence of a given character in a string using the count() method. Here's an example:"
   ]
  },
  {
   "cell_type": "code",
   "execution_count": 13,
   "id": "200d222c",
   "metadata": {},
   "outputs": [
    {
     "name": "stdout",
     "output_type": "stream",
     "text": [
      "3\n"
     ]
    }
   ],
   "source": [
    "string = \"Hello, World!\"\n",
    "character = \"l\"\n",
    "count = string.count(character)\n",
    "print(count)  "
   ]
  },
  {
   "cell_type": "markdown",
   "id": "bc76d3d9",
   "metadata": {},
   "source": [
    "## 20. Write a program to find last 10 characters of a string?"
   ]
  },
  {
   "cell_type": "code",
   "execution_count": 22,
   "id": "c32fdc3e",
   "metadata": {},
   "outputs": [
    {
     "name": "stdout",
     "output_type": "stream",
     "text": [
      "characters\n"
     ]
    }
   ],
   "source": [
    "string = \"This is a long string with more than 10 characters\"\n",
    "last_10_chars = string[-10:]\n",
    "print(last_10_chars) "
   ]
  },
  {
   "cell_type": "markdown",
   "id": "9b7fe314",
   "metadata": {},
   "source": [
    "## 21. Write a Program to convert a given string to all uppercase if it contains at least 2 uppercase characters in the first 4 characters."
   ]
  },
  {
   "cell_type": "code",
   "execution_count": 3,
   "id": "8d93bf51",
   "metadata": {},
   "outputs": [
    {
     "name": "stdout",
     "output_type": "stream",
     "text": [
      "HELLO, WORLD!\n"
     ]
    }
   ],
   "source": [
    "def convert_to_uppercase(string):\n",
    "    uppercase_count = 0\n",
    "    for char in string[:4]:\n",
    "        if char.isupper():\n",
    "            uppercase_count += 1\n",
    "    if uppercase_count >= 2:\n",
    "        return string.upper()\n",
    "    return string\n",
    "\n",
    "input_string = \"HeLLo, World!\"\n",
    "output_string = convert_to_uppercase(input_string)\n",
    "print(output_string)\n"
   ]
  },
  {
   "cell_type": "code",
   "execution_count": 4,
   "id": "19a0271e",
   "metadata": {},
   "outputs": [
    {
     "data": {
      "text/plain": [
       "'helLo, world!'"
      ]
     },
     "execution_count": 4,
     "metadata": {},
     "output_type": "execute_result"
    }
   ],
   "source": [
    "# Other case\n",
    "convert_to_uppercase(\"helLo, world!\")"
   ]
  },
  {
   "cell_type": "markdown",
   "id": "e6d30ed0",
   "metadata": {},
   "source": [
    "## 22. Write a Python program to remove a newline in Python."
   ]
  },
  {
   "cell_type": "code",
   "execution_count": 99,
   "id": "d01d110f",
   "metadata": {},
   "outputs": [
    {
     "name": "stdout",
     "output_type": "stream",
     "text": [
      "Before:\n",
      "Hi! \n",
      "How are you? \n",
      "\n",
      "After:Hi! How are you? \n"
     ]
    }
   ],
   "source": [
    "message = \"\\nHi! \\nHow are you? \\n\"\n",
    "print(\"Before:\" + message)\n",
    " \n",
    "new_message = message.replace('\\n', '')\n",
    "print(\"After:\" + new_message)"
   ]
  },
  {
   "cell_type": "markdown",
   "id": "72411b7d",
   "metadata": {},
   "source": [
    "## 23. Write a Python program to swap commas and dots in a string\n",
    "○ Sample string: \"32.054,23\" \n",
    "\n",
    "○ Expected Output: \"32,054.23\""
   ]
  },
  {
   "cell_type": "code",
   "execution_count": 5,
   "id": "d1788ca9",
   "metadata": {},
   "outputs": [
    {
     "name": "stdout",
     "output_type": "stream",
     "text": [
      "Swapped string: 32,054.23\n"
     ]
    }
   ],
   "source": [
    "def swap_commas_dots(string):\n",
    "    swapped_string = string.replace(',', 'TEMP').replace('.', ',').replace('TEMP', '.')\n",
    "    return swapped_string\n",
    "\n",
    "sample_string = \"32.054,23\"\n",
    "result = swap_commas_dots(sample_string)\n",
    "print(\"Swapped string:\", result)"
   ]
  },
  {
   "cell_type": "markdown",
   "id": "ef27ae47",
   "metadata": {},
   "source": [
    "## 24. Write a Python program to find the first repeated character in a given string"
   ]
  },
  {
   "cell_type": "code",
   "execution_count": 49,
   "id": "6e6c4494",
   "metadata": {},
   "outputs": [
    {
     "name": "stdout",
     "output_type": "stream",
     "text": [
      "p\n"
     ]
    }
   ],
   "source": [
    "string=\"del pypthon mm\"\n",
    "rep=\"\"\n",
    "for index,char in enumerate(string):\n",
    "    if string[:index+1].count(char)>1:\n",
    "           rep=char\n",
    "           break\n",
    "print(rep)"
   ]
  },
  {
   "cell_type": "markdown",
   "id": "05db758b",
   "metadata": {},
   "source": [
    "## 25. Write a Python program to find the second most repeated word in a given string"
   ]
  },
  {
   "cell_type": "code",
   "execution_count": 2,
   "id": "13e9b4c5",
   "metadata": {},
   "outputs": [
    {
     "name": "stdout",
     "output_type": "stream",
     "text": [
      "Sorted Dictionary with word counts: {'orange': 4, 'apple': 3, 'banana': 2, 'grape': 1}\n",
      "Second most repeating word =  apple\n"
     ]
    }
   ],
   "source": [
    "stri = \"apple orange banana orange orange apple orange grape apple banana\"\n",
    "lst = stri.split(' ')\n",
    "\n",
    "d = {}\n",
    "for eachCharacter in lst:\n",
    "    if eachCharacter not in d:\n",
    "        d[eachCharacter] = 1\n",
    "    else:\n",
    "        d[eachCharacter] += 1\n",
    "        \n",
    "newMap = {k: v for k, v in sorted(d.items(), key = lambda item: item[1], reverse=True)}\n",
    "print(\"Sorted Dictionary with word counts:\",newMap)\n",
    "print(\"Second most repeating word = \",list(newMap.keys())[2-1])"
   ]
  },
  {
   "cell_type": "markdown",
   "id": "cd3b213c",
   "metadata": {},
   "source": [
    "## 26. Python program to Count Even and Odd numbers in a string"
   ]
  },
  {
   "cell_type": "code",
   "execution_count": 100,
   "id": "01e14e56",
   "metadata": {},
   "outputs": [
    {
     "name": "stdout",
     "output_type": "stream",
     "text": [
      "Even count: 4\n",
      "Odd count: 2\n"
     ]
    }
   ],
   "source": [
    "input_string = \"2 5 8 12 7 10\"\n",
    "numbers = input_string.split()\n",
    "even_count = 0\n",
    "odd_count = 0\n",
    "\n",
    "for num in numbers:\n",
    "    if int(num) % 2 == 0:\n",
    "        even_count += 1\n",
    "    else:\n",
    "        odd_count += 1\n",
    "\n",
    "print(\"Even count:\", even_count)\n",
    "print(\"Odd count:\", odd_count)"
   ]
  },
  {
   "cell_type": "markdown",
   "id": "40fdf7d4",
   "metadata": {},
   "source": [
    "## 27. How do you check if a string contains only digits?"
   ]
  },
  {
   "cell_type": "code",
   "execution_count": 103,
   "id": "8b031af9",
   "metadata": {},
   "outputs": [
    {
     "name": "stdout",
     "output_type": "stream",
     "text": [
      "String contains only digits.\n"
     ]
    }
   ],
   "source": [
    "string = \"12345\"\n",
    "\n",
    "if string.isdigit():\n",
    "    print(\"String contains only digits.\")\n",
    "else:\n",
    "    print(\"String does not contain only digits.\")\n"
   ]
  },
  {
   "cell_type": "markdown",
   "id": "c81cfeba",
   "metadata": {},
   "source": [
    "## 28. How do you remove a given character/word from String?"
   ]
  },
  {
   "cell_type": "code",
   "execution_count": 104,
   "id": "d59c5fcd",
   "metadata": {},
   "outputs": [
    {
     "name": "stdout",
     "output_type": "stream",
     "text": [
      "Hello World!\n",
      "Hello, !\n"
     ]
    }
   ],
   "source": [
    "string = \"Hello, World!\"\n",
    "character = \",\"\n",
    "word = \"World\"\n",
    "\n",
    "# Remove a character\n",
    "new_string = string.replace(character, \"\")\n",
    "print(new_string)\n",
    "\n",
    "# Remove a word\n",
    "new_string = string.replace(word, \"\")\n",
    "print(new_string)"
   ]
  },
  {
   "cell_type": "markdown",
   "id": "281144f9",
   "metadata": {},
   "source": [
    "## 29. Write a Python program to remove the characters which have odd index values of a given string"
   ]
  },
  {
   "cell_type": "code",
   "execution_count": 105,
   "id": "8f596a14",
   "metadata": {},
   "outputs": [
    {
     "name": "stdout",
     "output_type": "stream",
     "text": [
      "Pto rgamn\n"
     ]
    }
   ],
   "source": [
    "string = \"Python Programming\"\n",
    "new_string = \"\"\n",
    "\n",
    "for index in range(len(string)):\n",
    "    if index % 2 == 0:\n",
    "        new_string += string[index]\n",
    "\n",
    "print(new_string)"
   ]
  },
  {
   "cell_type": "markdown",
   "id": "dedf3e93",
   "metadata": {},
   "source": [
    "## 30. Write a Python function to reverses a string if its length is a multiple of 5"
   ]
  },
  {
   "cell_type": "code",
   "execution_count": 110,
   "id": "a37f08a7",
   "metadata": {},
   "outputs": [
    {
     "name": "stdout",
     "output_type": "stream",
     "text": [
      "olleHolleH\n",
      "Python1\n"
     ]
    }
   ],
   "source": [
    "def reverse_string_if_multiple_of_five(input_string):\n",
    "    if len(input_string) % 5 == 0:\n",
    "        return input_string[::-1]\n",
    "    else:\n",
    "        return input_string\n",
    "\n",
    "# Example usage\n",
    "string1 = \"HelloHello\"\n",
    "string2 = \"Python1\"\n",
    "\n",
    "reversed_string1 = reverse_string_if_multiple_of_five(string1)\n",
    "reversed_string2 = reverse_string_if_multiple_of_five(string2)\n",
    "\n",
    "print(reversed_string1)  \n",
    "print(reversed_string2) "
   ]
  },
  {
   "cell_type": "markdown",
   "id": "e8130e3e",
   "metadata": {},
   "source": [
    "## 31. Write a Python program to format a number with a percentage(0.05 >> 5%)"
   ]
  },
  {
   "cell_type": "code",
   "execution_count": 1,
   "id": "6935b534",
   "metadata": {},
   "outputs": [
    {
     "name": "stdout",
     "output_type": "stream",
     "text": [
      "Formatted Percentage: 5%\n"
     ]
    }
   ],
   "source": [
    "number = 0.05\n",
    "formatted_percentage = \"{:.0%}\".format(number)\n",
    "\n",
    "print(\"Formatted Percentage:\", formatted_percentage)"
   ]
  },
  {
   "cell_type": "markdown",
   "id": "1ba71d70",
   "metadata": {},
   "source": [
    "## 32. Write a Python program to reverse words in a string"
   ]
  },
  {
   "cell_type": "code",
   "execution_count": 5,
   "id": "2e07704f",
   "metadata": {},
   "outputs": [
    {
     "name": "stdout",
     "output_type": "stream",
     "text": [
      "Original string: Hello, how are you?\n",
      "Reversed string: ,olleH woh era ?uoy\n"
     ]
    }
   ],
   "source": [
    "def reverse_words(string):\n",
    "    # Split the string into words\n",
    "    words = string.split()\n",
    "\n",
    "    # Reverse each word in the list\n",
    "    reversed_words = []\n",
    "    for word in words:\n",
    "        reversed_word = \"\"\n",
    "        for i in range(len(word) - 1, -1, -1):\n",
    "            reversed_word += word[i]\n",
    "        reversed_words.append(reversed_word)\n",
    "\n",
    "    # Join the reversed words back into a string\n",
    "    reversed_string = \" \".join(reversed_words)\n",
    "\n",
    "    return reversed_string\n",
    "\n",
    "\n",
    "# Example usage\n",
    "input_string = \"Hello, how are you?\"\n",
    "reversed_string = reverse_words(input_string)\n",
    "\n",
    "print(\"Original string:\", input_string)\n",
    "print(\"Reversed string:\", reversed_string)"
   ]
  },
  {
   "cell_type": "markdown",
   "id": "a0766855",
   "metadata": {},
   "source": [
    "## 33. Write a Python program to swap cases of a given string"
   ]
  },
  {
   "cell_type": "code",
   "execution_count": 6,
   "id": "2c2b094e",
   "metadata": {},
   "outputs": [
    {
     "name": "stdout",
     "output_type": "stream",
     "text": [
      "hELLO, wORLD!\n"
     ]
    }
   ],
   "source": [
    "string = \"Hello, World!\"\n",
    "swapped_string = \"\"\n",
    "for char in string:\n",
    "    if char.islower():\n",
    "        swapped_string += char.upper()\n",
    "    elif char.isupper():\n",
    "        swapped_string += char.lower()\n",
    "    else:\n",
    "        swapped_string += char\n",
    "print(swapped_string)"
   ]
  },
  {
   "cell_type": "markdown",
   "id": "d5c3df42",
   "metadata": {},
   "source": [
    "## 34. Write a Python program to remove spaces from a given string"
   ]
  },
  {
   "cell_type": "code",
   "execution_count": 7,
   "id": "b28cfc0a",
   "metadata": {},
   "outputs": [
    {
     "name": "stdout",
     "output_type": "stream",
     "text": [
      "Original string: Pranav,   Rode!\n",
      "String without spaces: Pranav,Rode!\n"
     ]
    }
   ],
   "source": [
    "string = \"Pranav,   Rode!\"\n",
    "new_string = \"\"\n",
    "\n",
    "for char in string:\n",
    "    if char != \" \":\n",
    "        new_string += char\n",
    "\n",
    "print(\"Original string:\", string)\n",
    "print(\"String without spaces:\", new_string)\n"
   ]
  },
  {
   "cell_type": "markdown",
   "id": "6ae61590",
   "metadata": {},
   "source": [
    "## 35. Write a Python program to remove duplicate characters of a given string"
   ]
  },
  {
   "cell_type": "code",
   "execution_count": 10,
   "id": "f1f7b08f",
   "metadata": {},
   "outputs": [
    {
     "name": "stdout",
     "output_type": "stream",
     "text": [
      "Original string: Pranavvv\n",
      "String without duplicate characters: Pranv\n"
     ]
    }
   ],
   "source": [
    "string = \"Pranavvv\"\n",
    "new_string = \"\"\n",
    "\n",
    "for char in string:\n",
    "    if char not in new_string:\n",
    "        new_string += char\n",
    "\n",
    "print(\"Original string:\", string)\n",
    "print(\"String without duplicate characters:\", new_string)"
   ]
  },
  {
   "cell_type": "markdown",
   "id": "4b7cb935",
   "metadata": {},
   "source": [
    "## 36. Write a Python Program to find the area of a circle"
   ]
  },
  {
   "cell_type": "code",
   "execution_count": 15,
   "id": "194f09b8",
   "metadata": {},
   "outputs": [
    {
     "name": "stdout",
     "output_type": "stream",
     "text": [
      "Enter the radius of the circle: 5\n",
      "The area of the circle is: 78.57142857142857\n"
     ]
    }
   ],
   "source": [
    "radius = float(input(\"Enter the radius of the circle: \"))\n",
    "\n",
    "area = (22/7) * radius ** 2\n",
    "\n",
    "print(\"The area of the circle is:\", area)\n"
   ]
  },
  {
   "cell_type": "markdown",
   "id": "5b8e3331",
   "metadata": {},
   "source": [
    "## 37. Python Program to find Sum of squares of first n natural numbers"
   ]
  },
  {
   "cell_type": "code",
   "execution_count": 17,
   "id": "3b09cfa0",
   "metadata": {},
   "outputs": [
    {
     "name": "stdout",
     "output_type": "stream",
     "text": [
      "Enter the value of n: 5\n",
      "The sum of squares of the first 5 natural numbers is: 55\n"
     ]
    }
   ],
   "source": [
    "n = int(input(\"Enter the value of n: \"))\n",
    "\n",
    "sum_of_squares = 0\n",
    "\n",
    "for i in range(1, n+1):\n",
    "    sum_of_squares += i ** 2\n",
    "\n",
    "print(\"The sum of squares of the first\", n, \"natural numbers is:\", sum_of_squares)"
   ]
  },
  {
   "cell_type": "markdown",
   "id": "ca9c087b",
   "metadata": {},
   "source": [
    "## 38. Python Program to find cube sum of first n natural numbers"
   ]
  },
  {
   "cell_type": "code",
   "execution_count": 18,
   "id": "1bafd02f",
   "metadata": {},
   "outputs": [
    {
     "name": "stdout",
     "output_type": "stream",
     "text": [
      "Enter the value of n: 5\n",
      "The sum of squares of the first 5 natural numbers is: 225\n"
     ]
    }
   ],
   "source": [
    "n = int(input(\"Enter the value of n: \"))\n",
    "\n",
    "sum_of_squares = 0\n",
    "\n",
    "for i in range(1, n+1):\n",
    "    sum_of_squares += i ** 3\n",
    "\n",
    "print(\"The sum of squares of the first\", n, \"natural numbers is:\", sum_of_squares)"
   ]
  },
  {
   "cell_type": "markdown",
   "id": "065cce82",
   "metadata": {},
   "source": [
    "## 39. Python Program to find simple interest and compound interest"
   ]
  },
  {
   "cell_type": "code",
   "execution_count": 21,
   "id": "4547bb37",
   "metadata": {},
   "outputs": [
    {
     "name": "stdout",
     "output_type": "stream",
     "text": [
      "Enter the principal amount: 20000\n",
      "Enter the rate of interest: 10\n",
      "Enter the time period in years: 2\n",
      "Simple Interest: 4000.0\n",
      "Compound Interest: 4200.000000000004\n"
     ]
    }
   ],
   "source": [
    "# Get the input from the user\n",
    "principal = float(input(\"Enter the principal amount: \"))\n",
    "rate = float(input(\"Enter the rate of interest: \"))\n",
    "time = float(input(\"Enter the time period in years: \"))\n",
    "\n",
    "# Simple interest\n",
    "simple_interest = (principal * rate * time) / 100\n",
    "\n",
    "# Compound interest\n",
    "amount = principal * (1 + rate/100) ** time\n",
    "compound_interest = amount - principal\n",
    "\n",
    "# Results\n",
    "print(\"Simple Interest:\", simple_interest)\n",
    "print(\"Compound Interest:\", compound_interest)\n"
   ]
  },
  {
   "cell_type": "markdown",
   "id": "110fae8b",
   "metadata": {},
   "source": [
    "## 40. Python program to check whether a number is Prime or not"
   ]
  },
  {
   "cell_type": "code",
   "execution_count": 22,
   "id": "4b74de87",
   "metadata": {},
   "outputs": [
    {
     "name": "stdout",
     "output_type": "stream",
     "text": [
      "Enter a number = 7\n",
      "7 is Prime number\n"
     ]
    }
   ],
   "source": [
    "n = int(input('Enter a number = '))\n",
    "\n",
    "for i in range(2,n):#i = 2\n",
    "    if n % i == 0:#True\n",
    "        print(f\"{n} is not a prime number\")\n",
    "        break    \n",
    "else:\n",
    "    print(f\"{n} is Prime number\")\n"
   ]
  }
 ],
 "metadata": {
  "kernelspec": {
   "display_name": "Python 3 (ipykernel)",
   "language": "python",
   "name": "python3"
  },
  "language_info": {
   "codemirror_mode": {
    "name": "ipython",
    "version": 3
   },
   "file_extension": ".py",
   "mimetype": "text/x-python",
   "name": "python",
   "nbconvert_exporter": "python",
   "pygments_lexer": "ipython3",
   "version": "3.9.17"
  }
 },
 "nbformat": 4,
 "nbformat_minor": 5
}
