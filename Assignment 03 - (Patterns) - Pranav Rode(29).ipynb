{
 "cells": [
  {
   "cell_type": "markdown",
   "id": "b4d44d9c",
   "metadata": {},
   "source": [
    "#  ASSIGNMENT - 03(Patterns)\n",
    "## Solution/Ans  by - Pranav Rode(29) "
   ]
  },
  {
   "cell_type": "raw",
   "id": "1280e9e2",
   "metadata": {},
   "source": [
    "Q1)\n",
    "\n",
    "*     \n",
    "* *    \n",
    "* * *      \n",
    "* * * *    \n",
    "* * * * *"
   ]
  },
  {
   "cell_type": "code",
   "execution_count": 15,
   "id": "be363305",
   "metadata": {},
   "outputs": [
    {
     "name": "stdout",
     "output_type": "stream",
     "text": [
      "* \n",
      "* * \n",
      "* * * \n",
      "* * * * \n",
      "* * * * * \n"
     ]
    }
   ],
   "source": [
    "n = 5  # Change this value to adjust the number of rows\n",
    "\n",
    "for i in range(1, n + 1):\n",
    "    for j in range(i):\n",
    "        print(\"*\", end=\" \")\n",
    "    print()"
   ]
  },
  {
   "cell_type": "raw",
   "id": "d67c3bb4",
   "metadata": {},
   "source": [
    "Q2)\n",
    "\n",
    "        * \n",
    "      * * \n",
    "    * * * \n",
    "  * * * * \n",
    "* * * * *"
   ]
  },
  {
   "cell_type": "code",
   "execution_count": 25,
   "id": "71de148a",
   "metadata": {
    "scrolled": true
   },
   "outputs": [
    {
     "name": "stdout",
     "output_type": "stream",
     "text": [
      "        * \n",
      "      * * \n",
      "    * * * \n",
      "  * * * * \n",
      "* * * * * \n"
     ]
    }
   ],
   "source": [
    "n = 5  # Change this value to adjust the number of rows\n",
    "\n",
    "for i in range(1, n + 1):\n",
    "    # Print leading spaces\n",
    "    for j in range(n - i):\n",
    "        print(\" \", end=\" \")\n",
    "\n",
    "    # Print asterisks\n",
    "    for k in range(i):\n",
    "        print(\"*\", end=\" \")\n",
    "\n",
    "    print()"
   ]
  },
  {
   "cell_type": "raw",
   "id": "34542548",
   "metadata": {},
   "source": [
    "Q3)\n",
    "    *\n",
    "   * *\n",
    "  * * *\n",
    " * * * *\n",
    "* * * * *"
   ]
  },
  {
   "cell_type": "code",
   "execution_count": 30,
   "id": "baee5daa",
   "metadata": {},
   "outputs": [
    {
     "name": "stdout",
     "output_type": "stream",
     "text": [
      "    * \r\n",
      "   * * \r\n",
      "  * * * \r\n",
      " * * * * \r\n",
      "* * * * * \r\n"
     ]
    }
   ],
   "source": [
    "# number of spaces\n",
    "n = 5\n",
    "k = n - 1\n",
    "# outer loop to handle number of rows\n",
    "for i in range(0, n):\n",
    "    # inner loop to handle number spaces\n",
    "    # values changing acc. to requirement\n",
    "    for j in range(0, k):\n",
    "        print(end=\" \")\n",
    "        # decrementing k after each loop\n",
    "    k = k - 1\n",
    "    # inner loop to handle number of columns\n",
    "    # values changing acc. to outer loop\n",
    "    for j in range(0, i+1):\n",
    "        # printing stars\n",
    "        print(\"* \", end=\"\")\n",
    "        # ending line after each row\n",
    "    print(\"\\r\")"
   ]
  },
  {
   "cell_type": "raw",
   "id": "d240ddcb",
   "metadata": {},
   "source": [
    "Q4) \n",
    "\n",
    "* * * * * * * * *\n",
    "  * * * * * * *\n",
    "    * * * * *\n",
    "      * * *\n",
    "        *"
   ]
  },
  {
   "cell_type": "code",
   "execution_count": 3,
   "id": "0afb73eb",
   "metadata": {},
   "outputs": [
    {
     "name": "stdout",
     "output_type": "stream",
     "text": [
      " * * * * * * * * * \n",
      "   * * * * * * * \n",
      "     * * * * * \n",
      "       * * * \n",
      "         * \n"
     ]
    }
   ],
   "source": [
    "n = 4\n",
    "for i in range(n+1):\n",
    "    print(\" \"*(i*2), \"* \"*((n-i)*2+1))"
   ]
  },
  {
   "cell_type": "raw",
   "id": "66386308",
   "metadata": {},
   "source": [
    "Q5)\n",
    "\n",
    "1\n",
    "1 2\n",
    "1 2 3\n",
    "1 2 3 4\n",
    "1 2 3 4 5"
   ]
  },
  {
   "cell_type": "code",
   "execution_count": 19,
   "id": "855ca54d",
   "metadata": {},
   "outputs": [
    {
     "name": "stdout",
     "output_type": "stream",
     "text": [
      "1 \n",
      "1 2 \n",
      "1 2 3 \n",
      "1 2 3 4 \n",
      "1 2 3 4 5 \n"
     ]
    }
   ],
   "source": [
    "n = 5  # number of rows\n",
    "\n",
    "for i in range(1, n + 1):\n",
    "    for j in range(1, i + 1):\n",
    "        print(j, end=\" \")\n",
    "    print()\n"
   ]
  },
  {
   "cell_type": "raw",
   "id": "88a44078",
   "metadata": {},
   "source": [
    "Q6)\n",
    "\n",
    "1\n",
    "2 3\n",
    "4 5 6\n",
    "7 8 9 10\n",
    "11 12 13 14 15"
   ]
  },
  {
   "cell_type": "code",
   "execution_count": 25,
   "id": "d706625a",
   "metadata": {},
   "outputs": [
    {
     "name": "stdout",
     "output_type": "stream",
     "text": [
      "1 \n",
      "2 3 \n",
      "4 5 6 \n",
      "7 8 9 10 \n",
      "11 12 13 14 15 \n"
     ]
    }
   ],
   "source": [
    "n = 5  # number of rows\n",
    "num = 1\n",
    "for i in range(1, n + 1):\n",
    "    for j in range(i):\n",
    "        print(num, end=\" \")\n",
    "        num += 1\n",
    "    print()"
   ]
  },
  {
   "cell_type": "code",
   "execution_count": 23,
   "id": "de04118d",
   "metadata": {},
   "outputs": [
    {
     "name": "stdout",
     "output_type": "stream",
     "text": [
      "      1\n",
      "     1 1\n",
      "    1 2 1\n",
      "   1 3 3 1\n",
      "  1 4 6 4 1\n"
     ]
    }
   ],
   "source": [
    "# Print Pascal's Triangle in Python\n",
    " \n",
    "# input n\n",
    "n = 5\n",
    " \n",
    "for i in range(1, n+1):\n",
    "    for j in range(0, n-i+1):\n",
    "        print(' ', end='')\n",
    " \n",
    "    # first element is always 1\n",
    "    C = 1\n",
    "    for j in range(1, i+1):\n",
    " \n",
    "        # first value in a line is always 1\n",
    "        print(' ', C, sep='', end='')\n",
    " \n",
    "        # using Binomial Coefficient\n",
    "        C = C * (i - j) // j\n",
    "\n",
    "    print()\n",
    "    "
   ]
  },
  {
   "cell_type": "code",
   "execution_count": 11,
   "id": "0983d4f3",
   "metadata": {},
   "outputs": [
    {
     "name": "stdout",
     "output_type": "stream",
     "text": [
      "@@@@@@@@@@@@@@@"
     ]
    }
   ],
   "source": [
    "# input n\n",
    "n = 5\n",
    " \n",
    "for i in range(1, n+1):\n",
    "    for j in range(0, n-i+1):\n",
    "        print('@', end='')\n",
    "    "
   ]
  },
  {
   "cell_type": "code",
   "execution_count": null,
   "id": "41a38e4b",
   "metadata": {},
   "outputs": [],
   "source": []
  }
 ],
 "metadata": {
  "kernelspec": {
   "display_name": "Python 3 (ipykernel)",
   "language": "python",
   "name": "python3"
  },
  "language_info": {
   "codemirror_mode": {
    "name": "ipython",
    "version": 3
   },
   "file_extension": ".py",
   "mimetype": "text/x-python",
   "name": "python",
   "nbconvert_exporter": "python",
   "pygments_lexer": "ipython3",
   "version": "3.9.17"
  }
 },
 "nbformat": 4,
 "nbformat_minor": 5
}
