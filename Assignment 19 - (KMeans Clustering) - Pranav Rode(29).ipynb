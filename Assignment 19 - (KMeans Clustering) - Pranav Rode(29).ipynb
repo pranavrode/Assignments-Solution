{
 "cells": [
  {
   "cell_type": "markdown",
   "id": "0b854858",
   "metadata": {},
   "source": [
    "#  ASSIGNMENT - 19(KMeans Clustering)\n",
    "## Solution/Ans  by - Pranav Rode"
   ]
  },
  {
   "cell_type": "markdown",
   "id": "811724a3",
   "metadata": {},
   "source": [
    "## 1. What is Unsupervised Machine Learning?\n"
   ]
  },
  {
   "cell_type": "code",
   "execution_count": null,
   "id": "4ecf2576",
   "metadata": {},
   "outputs": [],
   "source": []
  },
  {
   "cell_type": "markdown",
   "id": "6ca60e08",
   "metadata": {},
   "source": [
    "## 2. Explain the steps of the k-Means Clustering Algorithm\n"
   ]
  },
  {
   "cell_type": "code",
   "execution_count": null,
   "id": "c4909870",
   "metadata": {},
   "outputs": [],
   "source": []
  },
  {
   "cell_type": "markdown",
   "id": "2f62aad8",
   "metadata": {},
   "source": [
    "## 3. What is K in K-means algorithm and <br> what is its significance?\n"
   ]
  },
  {
   "cell_type": "code",
   "execution_count": null,
   "id": "30b59833",
   "metadata": {},
   "outputs": [],
   "source": []
  },
  {
   "cell_type": "markdown",
   "id": "c493fd0f",
   "metadata": {},
   "source": [
    "## 4. What is the difference between the Manhattan <br> Distance and Euclidean Distance in Clustering?\n"
   ]
  },
  {
   "cell_type": "code",
   "execution_count": null,
   "id": "8d32186d",
   "metadata": {},
   "outputs": [],
   "source": []
  },
  {
   "cell_type": "markdown",
   "id": "c1e940ed",
   "metadata": {},
   "source": [
    "## 5. What are some Stopping Criteria for k-Means Clustering?\n"
   ]
  },
  {
   "cell_type": "code",
   "execution_count": null,
   "id": "8ae24921",
   "metadata": {},
   "outputs": [],
   "source": []
  },
  {
   "cell_type": "markdown",
   "id": "01e86c37",
   "metadata": {},
   "source": [
    "## 6. What is the main difference between k-Means <br> and k-Nearest Neighbours?\n"
   ]
  },
  {
   "cell_type": "code",
   "execution_count": null,
   "id": "c72a96be",
   "metadata": {},
   "outputs": [],
   "source": []
  },
  {
   "cell_type": "markdown",
   "id": "683f2a8f",
   "metadata": {},
   "source": [
    "## 7. How to decide the optimal number of K in  <br> the K means Algorithm?\n"
   ]
  },
  {
   "cell_type": "code",
   "execution_count": null,
   "id": "ef70e35b",
   "metadata": {},
   "outputs": [],
   "source": []
  },
  {
   "cell_type": "markdown",
   "id": "8ea88e30",
   "metadata": {},
   "source": [
    "## 8. What is WCSS?\n"
   ]
  },
  {
   "cell_type": "code",
   "execution_count": null,
   "id": "90c2b1f7",
   "metadata": {},
   "outputs": [],
   "source": []
  },
  {
   "cell_type": "markdown",
   "id": "b32ffe83",
   "metadata": {},
   "source": [
    "## 9. What is Elbow Method?\n"
   ]
  },
  {
   "cell_type": "code",
   "execution_count": null,
   "id": "1615a2eb",
   "metadata": {},
   "outputs": [],
   "source": []
  },
  {
   "cell_type": "markdown",
   "id": "ef1b5b06",
   "metadata": {},
   "source": [
    "## 10. What is a centroid point in K means Clustering?\n"
   ]
  },
  {
   "cell_type": "code",
   "execution_count": null,
   "id": "385ed98e",
   "metadata": {},
   "outputs": [],
   "source": []
  },
  {
   "cell_type": "markdown",
   "id": "4ee4ba66",
   "metadata": {},
   "source": [
    "## 11. Is Feature Scaling required for the <br> K means Algorithm?\n"
   ]
  },
  {
   "cell_type": "code",
   "execution_count": null,
   "id": "b6c5b587",
   "metadata": {},
   "outputs": [],
   "source": []
  },
  {
   "cell_type": "markdown",
   "id": "01ddeb26",
   "metadata": {},
   "source": [
    "## 12. What is Normalization? When to use it?\n"
   ]
  },
  {
   "cell_type": "code",
   "execution_count": null,
   "id": "72f01959",
   "metadata": {},
   "outputs": [],
   "source": []
  },
  {
   "cell_type": "markdown",
   "id": "c54d2da0",
   "metadata": {},
   "source": [
    "## 13. What is Standardization? When to use it?\n"
   ]
  },
  {
   "cell_type": "code",
   "execution_count": null,
   "id": "5290698e",
   "metadata": {},
   "outputs": [],
   "source": []
  },
  {
   "cell_type": "markdown",
   "id": "5a676686",
   "metadata": {},
   "source": [
    "## 14. What will be the impact of outliers?\n"
   ]
  },
  {
   "cell_type": "code",
   "execution_count": null,
   "id": "a01f5895",
   "metadata": {},
   "outputs": [],
   "source": []
  },
  {
   "cell_type": "markdown",
   "id": "974ddced",
   "metadata": {},
   "source": [
    "## 15. How would you Pre-Process the data for k-Means?\n"
   ]
  },
  {
   "cell_type": "code",
   "execution_count": null,
   "id": "7835880f",
   "metadata": {},
   "outputs": [],
   "source": []
  },
  {
   "cell_type": "markdown",
   "id": "fa67e1de",
   "metadata": {},
   "source": [
    "## 16. Which metrics can you use to find the <br> accuracy of the K means Algorithm?\n"
   ]
  },
  {
   "cell_type": "code",
   "execution_count": null,
   "id": "dff72129",
   "metadata": {},
   "outputs": [],
   "source": []
  },
  {
   "cell_type": "markdown",
   "id": "ec17547e",
   "metadata": {},
   "source": [
    "## 17. What are the challenges associated with <br> K means Clustering?\n"
   ]
  },
  {
   "cell_type": "code",
   "execution_count": null,
   "id": "a71fdb49",
   "metadata": {},
   "outputs": [],
   "source": []
  },
  {
   "cell_type": "markdown",
   "id": "f1804c28",
   "metadata": {},
   "source": [
    "## 18. Explain some cases where K means <br> clustering fails to give good results.\n"
   ]
  },
  {
   "cell_type": "code",
   "execution_count": null,
   "id": "09e5b2f7",
   "metadata": {},
   "outputs": [],
   "source": []
  },
  {
   "cell_type": "markdown",
   "id": "c9e9db0e",
   "metadata": {},
   "source": [
    "## 19. What are the advantages and disadvantages <br> of the K means Algorithm?\n"
   ]
  },
  {
   "cell_type": "code",
   "execution_count": null,
   "id": "91c2b9d5",
   "metadata": {},
   "outputs": [],
   "source": []
  },
  {
   "cell_type": "markdown",
   "id": "7ea952fe",
   "metadata": {},
   "source": [
    "## 20. What are the applications of the K-means algorithm?"
   ]
  },
  {
   "cell_type": "code",
   "execution_count": null,
   "id": "624c739f",
   "metadata": {},
   "outputs": [],
   "source": []
  }
 ],
 "metadata": {
  "kernelspec": {
   "display_name": "Python 3 (ipykernel)",
   "language": "python",
   "name": "python3"
  },
  "language_info": {
   "codemirror_mode": {
    "name": "ipython",
    "version": 3
   },
   "file_extension": ".py",
   "mimetype": "text/x-python",
   "name": "python",
   "nbconvert_exporter": "python",
   "pygments_lexer": "ipython3",
   "version": "3.11.5"
  }
 },
 "nbformat": 4,
 "nbformat_minor": 5
}
