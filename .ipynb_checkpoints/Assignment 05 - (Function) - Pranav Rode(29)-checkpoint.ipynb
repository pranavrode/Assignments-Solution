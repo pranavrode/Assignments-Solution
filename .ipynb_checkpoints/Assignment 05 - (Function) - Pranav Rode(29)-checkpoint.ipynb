{
 "cells": [
  {
   "cell_type": "markdown",
   "id": "6d22bee2",
   "metadata": {},
   "source": [
    "#  ASSIGNMENT - 05(Function)\n",
    "## Solution/Ans  by - Pranav Rode(29) "
   ]
  },
  {
   "cell_type": "markdown",
   "id": "2331a824",
   "metadata": {},
   "source": [
    "## Write Python programs using Functions:"
   ]
  },
  {
   "cell_type": "markdown",
   "id": "306435d4",
   "metadata": {},
   "source": [
    "### 1. Python Program for Find largest prime factor of a number"
   ]
  },
  {
   "cell_type": "code",
   "execution_count": 1,
   "id": "ee7c9595",
   "metadata": {},
   "outputs": [
    {
     "name": "stdout",
     "output_type": "stream",
     "text": [
      "Enter a number: 87\n",
      "The largest prime factor of 87 is 29\n"
     ]
    }
   ],
   "source": [
    "def largest_prime_factor(n):\n",
    "    i = 2\n",
    "    while i * i <= n:\n",
    "        if n % i:\n",
    "            i += 1\n",
    "        else:\n",
    "            n //= i\n",
    "    if n > 1:\n",
    "        return n\n",
    "    return i\n",
    "\n",
    "number = int(input(\"Enter a number: \"))\n",
    "largest_prime = largest_prime_factor(number)\n",
    "print(\"The largest prime factor of\", number, \"is\", largest_prime)\n",
    "\n"
   ]
  },
  {
   "cell_type": "code",
   "execution_count": 2,
   "id": "42247310",
   "metadata": {},
   "outputs": [
    {
     "name": "stdout",
     "output_type": "stream",
     "text": [
      "Enter a number: 87\n",
      "The largest prime factor of 87 is 29\n"
     ]
    }
   ],
   "source": [
    "def largest_prime_factor(number):\n",
    "    prime_factor = 2\n",
    "    while number > 1:\n",
    "        if number % prime_factor == 0:\n",
    "            number //= prime_factor\n",
    "        else:\n",
    "            prime_factor += 1\n",
    "    return prime_factor\n",
    "\n",
    "try:\n",
    "    num = int(input(\"Enter a number: \"))\n",
    "    result = largest_prime_factor(num)\n",
    "    print(f\"The largest prime factor of {num} is {result}\")\n",
    "except ValueError:\n",
    "    print(\"Invalid input. Please enter a valid number.\")\n"
   ]
  },
  {
   "cell_type": "markdown",
   "id": "e32957b3",
   "metadata": {},
   "source": [
    "### 2. Python Program for Product of unique prime factors of a number"
   ]
  },
  {
   "cell_type": "code",
   "execution_count": 21,
   "id": "f489d859",
   "metadata": {},
   "outputs": [
    {
     "name": "stdout",
     "output_type": "stream",
     "text": [
      "Product of unique prime factors of 48: 6\n"
     ]
    }
   ],
   "source": [
    "def unique_prime_factors_product(n):\n",
    "    product = 1\n",
    "    factors = set()\n",
    "\n",
    "    # Divide by 2 until n is odd\n",
    "    while n % 2 == 0:\n",
    "        factors.add(2)\n",
    "        n //= 2\n",
    "\n",
    "    # Check odd divisors starting from 3\n",
    "    divisor = 3\n",
    "    while divisor * divisor <= n:\n",
    "        while n % divisor == 0:\n",
    "            factors.add(divisor)\n",
    "            n //= divisor\n",
    "        divisor += 2\n",
    "\n",
    "    # If n is a prime number greater than 2\n",
    "    if n > 2:\n",
    "        factors.add(n)\n",
    "\n",
    "    # Calculate the product of unique prime factors\n",
    "    for factor in factors:\n",
    "        product *= factor\n",
    "\n",
    "    return product\n",
    "\n",
    "# Example usage\n",
    "number = 48\n",
    "result = unique_prime_factors_product(number)\n",
    "\n",
    "print(f\"Product of unique prime factors of {number}: {result}\")"
   ]
  },
  {
   "cell_type": "markdown",
   "id": "35589446",
   "metadata": {},
   "source": [
    "### 2.1 Python Program to find prime factors of number"
   ]
  },
  {
   "cell_type": "code",
   "execution_count": 31,
   "id": "bd6f39a3",
   "metadata": {},
   "outputs": [
    {
     "name": "stdout",
     "output_type": "stream",
     "text": [
      "Prime factors of 87:\n",
      "3\n",
      "29\n"
     ]
    }
   ],
   "source": [
    "## 1\n",
    "\n",
    "def print_prime_factors(n):\n",
    "    # Print all 2s that divide n\n",
    "    while n % 2 == 0:\n",
    "        print(2)\n",
    "        n //= 2\n",
    "\n",
    "    # Check for odd prime factors starting from 3\n",
    "    for i in range(3, int(n**0.5) + 1, 2):\n",
    "        while n % i == 0:\n",
    "            print(i)\n",
    "            n //= i\n",
    "\n",
    "    # If n is a prime number greater than 2\n",
    "    if n > 2:\n",
    "        print(n)\n",
    "\n",
    "# Example usage\n",
    "number = 87\n",
    "print(f\"Prime factors of {number}:\")\n",
    "print_prime_factors(number)\n"
   ]
  },
  {
   "cell_type": "code",
   "execution_count": 41,
   "id": "8598b295",
   "metadata": {},
   "outputs": [
    {
     "name": "stdout",
     "output_type": "stream",
     "text": [
      "[7, 11]\n"
     ]
    }
   ],
   "source": [
    "## 2\n",
    "\n",
    "def prime_factors(n):\n",
    "    i = 2\n",
    "    factors = []\n",
    "    while i * i <= n:\n",
    "        if n % i:\n",
    "            i += 1\n",
    "        else:\n",
    "            n //= i\n",
    "            factors.append(i)\n",
    "    if n > 1:\n",
    "        factors.append(n)\n",
    "    return factors\n",
    "\n",
    "# Test the function with a number\n",
    "n = 77\n",
    "print(prime_factors(n)) "
   ]
  },
  {
   "cell_type": "markdown",
   "id": "b8a427ca",
   "metadata": {},
   "source": [
    "### 3. Python Program to find Factorial of Number"
   ]
  },
  {
   "cell_type": "code",
   "execution_count": null,
   "id": "14d8de76",
   "metadata": {},
   "outputs": [],
   "source": []
  },
  {
   "cell_type": "markdown",
   "id": "ec4ac85b",
   "metadata": {},
   "source": [
    "### 4. Python Program for Find sum of odd factors of a number"
   ]
  },
  {
   "cell_type": "code",
   "execution_count": null,
   "id": "f3074da5",
   "metadata": {},
   "outputs": [],
   "source": []
  },
  {
   "cell_type": "markdown",
   "id": "3df57b63",
   "metadata": {},
   "source": [
    "### 5. Python Program to Check if binary representation is a palindrome"
   ]
  },
  {
   "cell_type": "code",
   "execution_count": null,
   "id": "9571ba58",
   "metadata": {},
   "outputs": [],
   "source": []
  },
  {
   "cell_type": "markdown",
   "id": "65bbaf8c",
   "metadata": {},
   "source": [
    "### 6. Python Program for Number of elements with odd factors in a given range"
   ]
  },
  {
   "cell_type": "code",
   "execution_count": null,
   "id": "19232c0b",
   "metadata": {},
   "outputs": [],
   "source": []
  },
  {
   "cell_type": "markdown",
   "id": "4c89d594",
   "metadata": {},
   "source": [
    "### 7. Python Program for Common Divisors of Two Numbers"
   ]
  },
  {
   "cell_type": "code",
   "execution_count": null,
   "id": "3ef85214",
   "metadata": {},
   "outputs": [],
   "source": []
  },
  {
   "cell_type": "markdown",
   "id": "41fbfedc",
   "metadata": {},
   "source": [
    "### 8. Python Program to Check if a count of divisors is even or odd"
   ]
  },
  {
   "cell_type": "code",
   "execution_count": null,
   "id": "66301db4",
   "metadata": {},
   "outputs": [],
   "source": []
  },
  {
   "cell_type": "markdown",
   "id": "79fb5a57",
   "metadata": {},
   "source": [
    "### 9. Python Program to Find the minimum sum of factors of a number"
   ]
  },
  {
   "cell_type": "code",
   "execution_count": null,
   "id": "ff388b9e",
   "metadata": {},
   "outputs": [],
   "source": []
  },
  {
   "cell_type": "markdown",
   "id": "70c8d0cb",
   "metadata": {},
   "source": [
    "### 10. Python Program to find Difference between sums of odd and even digits"
   ]
  },
  {
   "cell_type": "code",
   "execution_count": null,
   "id": "78b4f29a",
   "metadata": {},
   "outputs": [],
   "source": []
  },
  {
   "cell_type": "markdown",
   "id": "afdb6c9a",
   "metadata": {},
   "source": [
    "### 11. Python Program for Largest and Smallest K digit number divisible by X"
   ]
  },
  {
   "cell_type": "code",
   "execution_count": null,
   "id": "f6283e20",
   "metadata": {},
   "outputs": [],
   "source": []
  },
  {
   "cell_type": "markdown",
   "id": "84b7f361",
   "metadata": {},
   "source": [
    "### 12. Python Program to calculate the area of a Tetrahedron"
   ]
  },
  {
   "cell_type": "code",
   "execution_count": null,
   "id": "250a4c51",
   "metadata": {},
   "outputs": [],
   "source": []
  },
  {
   "cell_type": "markdown",
   "id": "c5761ca1",
   "metadata": {},
   "source": [
    "### 13. Python Program to Find the perimeter of a cylinder"
   ]
  },
  {
   "cell_type": "code",
   "execution_count": null,
   "id": "d7ddca9e",
   "metadata": {},
   "outputs": [],
   "source": []
  },
  {
   "cell_type": "markdown",
   "id": "0f913d9a",
   "metadata": {},
   "source": [
    "### 14. Python Program to Find the vertex, focus, and directrix of a parabola"
   ]
  },
  {
   "cell_type": "code",
   "execution_count": null,
   "id": "3a284bca",
   "metadata": {},
   "outputs": [],
   "source": []
  },
  {
   "cell_type": "markdown",
   "id": "7773adf5",
   "metadata": {},
   "source": [
    "### 15. Python program to find the most occurring character and its count"
   ]
  },
  {
   "cell_type": "code",
   "execution_count": null,
   "id": "7674659d",
   "metadata": {},
   "outputs": [],
   "source": []
  },
  {
   "cell_type": "markdown",
   "id": "2d18f7a4",
   "metadata": {},
   "source": [
    "### 16. Python Program to Find the sum of even factors of a number"
   ]
  },
  {
   "cell_type": "code",
   "execution_count": null,
   "id": "885234d3",
   "metadata": {},
   "outputs": [],
   "source": []
  },
  {
   "cell_type": "markdown",
   "id": "de41ea49",
   "metadata": {},
   "source": [
    "### 17. Python Program to Check if all digits of a number divide it"
   ]
  },
  {
   "cell_type": "code",
   "execution_count": 43,
   "id": "7ad975bf",
   "metadata": {},
   "outputs": [
    {
     "name": "stdout",
     "output_type": "stream",
     "text": [
      "Not all digits of 1206 divide it.\n"
     ]
    }
   ],
   "source": [
    "def digits_divide_number(number):\n",
    "    original_number = number  # Save the original number for later comparison\n",
    "\n",
    "    # Handle the case where the number is 0 to avoid division by zero\n",
    "    if number == 0:\n",
    "        return False\n",
    "\n",
    "    while number > 0:\n",
    "        digit = number % 10  # Get the rightmost digit\n",
    "        if digit == 0 or original_number % digit != 0:\n",
    "            return False  # If any digit doesn't divide the number, return False\n",
    "        number = number // 10  # Remove the rightmost digit\n",
    "\n",
    "    return True  # All digits divide the number\n",
    "\n",
    "# Test the function\n",
    "number_to_check = 1206\n",
    "result = digits_divide_number(number_to_check)\n",
    "\n",
    "if result:\n",
    "    print(f\"All digits of {number_to_check} divide it.\")\n",
    "else:\n",
    "    print(f\"Not all digits of {number_to_check} divide it.\")\n"
   ]
  },
  {
   "cell_type": "markdown",
   "id": "154a26e8",
   "metadata": {},
   "source": [
    "### 18. Python program to convert float decimal to Octal number"
   ]
  },
  {
   "cell_type": "code",
   "execution_count": 25,
   "id": "3708822b",
   "metadata": {},
   "outputs": [
    {
     "name": "stdout",
     "output_type": "stream",
     "text": [
      "0o12.500000\n"
     ]
    }
   ],
   "source": [
    "def float_to_octal(float_num):\n",
    "    # Convert the integer part to octal\n",
    "    int_part = oct(int(float_num))\n",
    "\n",
    "    # Convert the fractional part to octal\n",
    "    fractional_part = float_num - int(float_num)\n",
    "    fractional_octal = \"\"\n",
    "    precision = 6  # You can adjust the precision as needed\n",
    "\n",
    "    for _ in range(precision):\n",
    "        fractional_part *= 8\n",
    "        fractional_octal += str(int(fractional_part))\n",
    "        fractional_part -= int(fractional_part)\n",
    "\n",
    "    # Combine the integer and fractional octal parts\n",
    "    octal_number = int_part + '.' + fractional_octal\n",
    "\n",
    "    return octal_number\n",
    "\n",
    "# Test the function\n",
    "float_num = 10.625\n",
    "octal_num = float_to_octal(float_num)\n",
    "print(octal_num)\n"
   ]
  },
  {
   "cell_type": "markdown",
   "id": "1bde41eb",
   "metadata": {},
   "source": [
    "### 19. Python program to copy odd lines of one file to other"
   ]
  },
  {
   "cell_type": "code",
   "execution_count": 24,
   "id": "aa3736e7",
   "metadata": {},
   "outputs": [],
   "source": [
    "def copy_odd_lines(input_file, output_file):\n",
    "    with open(input_file, 'r') as infile, open(output_file, 'w') as outfile:\n",
    "        for line_number, line in enumerate(infile, 1):\n",
    "            if line_number % 2 != 0:\n",
    "                outfile.write(line)\n",
    "\n",
    "# Example usage:\n",
    "input_file_name = 'input.txt'\n",
    "output_file_name = 'output.txt'\n",
    "copy_odd_lines(input_file_name, output_file_name)"
   ]
  },
  {
   "cell_type": "markdown",
   "id": "350ef67b",
   "metadata": {},
   "source": [
    "### 20. Write a Python program to replace whitespaces with an underscore and vice versa"
   ]
  },
  {
   "cell_type": "code",
   "execution_count": 16,
   "id": "1dab594d",
   "metadata": {},
   "outputs": [
    {
     "data": {
      "text/plain": [
       "'Replace_spaces_with underscores'"
      ]
     },
     "execution_count": 16,
     "metadata": {},
     "output_type": "execute_result"
    }
   ],
   "source": [
    "def replace_spaces_with_underscores_and_vice_versa(input_string):\n",
    "    # Initialize a third string for the result\n",
    "    result_string = ''\n",
    "\n",
    "    # Replace spaces with underscores and vice versa in the input string\n",
    "    for char in input_string:\n",
    "        if char == ' ':\n",
    "            result_string += '_'\n",
    "        elif char == '_':\n",
    "            result_string += ' '\n",
    "        else:\n",
    "            result_string += char\n",
    "\n",
    "    return result_string\n",
    "\n",
    "# Test the function\n",
    "input_string = \"Replace spaces with_underscores\"\n",
    "replace_spaces_with_underscores_and_vice_versa(input_string)"
   ]
  },
  {
   "cell_type": "code",
   "execution_count": 17,
   "id": "f0ffc1fb",
   "metadata": {},
   "outputs": [
    {
     "data": {
      "text/plain": [
       "'Replace_spaces_with underscores'"
      ]
     },
     "execution_count": 17,
     "metadata": {},
     "output_type": "execute_result"
    }
   ],
   "source": [
    "def replace_spaces_with_underscores(input_string):\n",
    "    \n",
    "    modified_string1 = input_string.replace('_', '!')\n",
    "    \n",
    "    # Replace spaces with underscores\n",
    "    modified_string2 = modified_string1.replace(' ', '_')\n",
    "    \n",
    "    # Replace underscores with spaces in the modified string\n",
    "    final_result = modified_string2.replace('!', ' ')\n",
    "    \n",
    "    return final_result\n",
    "\n",
    "# Test the function\n",
    "input_string = \"Replace spaces with_underscores\"\n",
    "replace_spaces_with_underscores(input_string)"
   ]
  },
  {
   "cell_type": "markdown",
   "id": "83dbc08e",
   "metadata": {},
   "source": [
    "### 21. Write a Python program to convert a date or yyyy-mm-dd format to dd-mm-yyyy"
   ]
  },
  {
   "cell_type": "code",
   "execution_count": 11,
   "id": "3ea00f79",
   "metadata": {},
   "outputs": [
    {
     "name": "stdout",
     "output_type": "stream",
     "text": [
      "Original date in YYY-MM-DD Format:  2026-01-02\n",
      "New date in DD-MM-YYYY Format:  02-01-2026\n"
     ]
    }
   ],
   "source": [
    "import datetime\n",
    "\n",
    "def change_date_format(dt):\n",
    "    return datetime.datetime.strptime(dt, '%Y-%m-%d').strftime('%d-%m-%Y')\n",
    "\n",
    "dt1 = \"2026-01-02\"\n",
    "print(\"Original date in YYY-MM-DD Format: \",dt1)\n",
    "print(\"New date in DD-MM-YYYY Format: \",change_date_format(dt1))"
   ]
  },
  {
   "cell_type": "markdown",
   "id": "0dd1e9d5",
   "metadata": {},
   "source": [
    "### 22. Write a Python program to find all words starting with 'a' or 'e' in a given string."
   ]
  },
  {
   "cell_type": "code",
   "execution_count": 10,
   "id": "89165988",
   "metadata": {},
   "outputs": [
    {
     "name": "stdout",
     "output_type": "stream",
     "text": [
      "['Apples', 'and', 'are', 'excellent.']\n"
     ]
    }
   ],
   "source": [
    "def find_words_starting_with_a_or_e(input_string):\n",
    "    # Split the input string into words\n",
    "    words = input_string.split()\n",
    "    \n",
    "    # Initialize a list to store words starting with 'a' or 'e'\n",
    "    result_words = []\n",
    "    \n",
    "    # Iterate through the words and check if they start with 'a' or 'e'\n",
    "    for word in words:\n",
    "        if word.lower().startswith('a') or word.lower().startswith('e'):\n",
    "            result_words.append(word)\n",
    "    \n",
    "    return result_words\n",
    "\n",
    "# Test the function\n",
    "input_string = \"Apples and bananas are excellent.\"\n",
    "words_found = find_words_starting_with_a_or_e(input_string)\n",
    "print(words_found)"
   ]
  },
  {
   "cell_type": "markdown",
   "id": "e3457d24",
   "metadata": {},
   "source": [
    "### 23. Write a Python program to abbreviate 'Road' as 'Rd.' in a given string."
   ]
  },
  {
   "cell_type": "code",
   "execution_count": 7,
   "id": "f5ea4cce",
   "metadata": {},
   "outputs": [
    {
     "data": {
      "text/plain": [
       "'123 Main Rd. , Rajgurunagar'"
      ]
     },
     "execution_count": 7,
     "metadata": {},
     "output_type": "execute_result"
    }
   ],
   "source": [
    "def abbreviate_road(input_string):\n",
    "    # Split the input string into words\n",
    "    words = input_string.split()\n",
    "    \n",
    "    # Iterate through the words and replace 'Road' with 'Rd.'\n",
    "    for i in range(len(words)):\n",
    "        if words[i].lower() == 'road':\n",
    "            words[i] = 'Rd.'\n",
    "    \n",
    "    # Recreate the string with the modified words\n",
    "    result = ' '.join(words)\n",
    "    \n",
    "    return result\n",
    "\n",
    "# Test the function\n",
    "input_string = \"123 Main Road , Rajgurunagar\"\n",
    "abbreviate_road(input_string)"
   ]
  },
  {
   "cell_type": "code",
   "execution_count": null,
   "id": "89507ce6",
   "metadata": {},
   "outputs": [],
   "source": []
  }
 ],
 "metadata": {
  "kernelspec": {
   "display_name": "Python 3 (ipykernel)",
   "language": "python",
   "name": "python3"
  },
  "language_info": {
   "codemirror_mode": {
    "name": "ipython",
    "version": 3
   },
   "file_extension": ".py",
   "mimetype": "text/x-python",
   "name": "python",
   "nbconvert_exporter": "python",
   "pygments_lexer": "ipython3",
   "version": "3.11.5"
  }
 },
 "nbformat": 4,
 "nbformat_minor": 5
}
