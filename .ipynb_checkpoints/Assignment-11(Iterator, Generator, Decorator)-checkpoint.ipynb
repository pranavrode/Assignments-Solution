{
 "cells": [
  {
   "cell_type": "markdown",
   "id": "57d56c15",
   "metadata": {},
   "source": [
    "#  ASSIGNMENT - 11(Iterator, Generator, Decorator)\n",
    "## Solution/Ans  by - Pranav Rode(29) "
   ]
  },
  {
   "cell_type": "markdown",
   "id": "bce2728c",
   "metadata": {},
   "source": [
    "## 1. What is an iterator in Python?\n"
   ]
  },
  {
   "cell_type": "markdown",
   "id": "c87efa2b",
   "metadata": {},
   "source": [
    "An iterator in Python is an object that implements the iterator protocol, which consists of the methods __iter__() and __next__(). The __iter__() method returns the iterator object itself, and the __next__() method returns the next value from the iterator. When there are no more items to return, it should raise StopIteration.\n",
    "\n",
    "Here's a simple example of an iterator:\n",
    "\n",
    "```python\n",
    "class MyIterator:\n",
    "    def __iter__(self):\n",
    "        self.num = 1\n",
    "        return self\n",
    "\n",
    "    def __next__(self):\n",
    "        if self.num <= 5:\n",
    "            result = self.num\n",
    "            self.num += 1\n",
    "            return result\n",
    "        else:\n",
    "            raise StopIteration\n",
    "\n",
    "# Usage:\n",
    "my_iter = MyIterator()\n",
    "for item in my_iter:\n",
    "    print(item)"
   ]
  },
  {
   "cell_type": "markdown",
   "id": "db845e16",
   "metadata": {},
   "source": [
    "In Python, an iterator is an object that represents a stream of data. It adheres to the iterator protocol, which consists of two methods: `__iter__()` and `__next__()`. Here's a brief overview:\n",
    "\n",
    "1. **`__iter__()` method:**\n",
    "   - This method returns the iterator object itself. It's required for an object to be considered an iterator.\n",
    "\n",
    "2. **`__next__()` method:**\n",
    "   - This method returns the next element from the iterator. If there are no more items to return, it should raise the `StopIteration` exception to signal the end of the iteration.\n",
    "\n",
    "You can create your own iterators in Python by implementing these methods in a class. Additionally, Python provides built-in functions like `iter()` and `next()` to work with iterators.\n",
    "\n",
    "For example, consider a simple iterator for counting numbers:\n",
    "\n",
    "```python\n",
    "class CountingIterator:\n",
    "    def __iter__(self):\n",
    "        self.num = 1\n",
    "        return self\n",
    "\n",
    "    def __next__(self):\n",
    "        current_num = self.num\n",
    "        self.num += 1\n",
    "        return current_num\n",
    "\n",
    "# Using the iterator\n",
    "counter = CountingIterator()\n",
    "iterator_obj = iter(counter)\n",
    "\n",
    "for _ in range(5):\n",
    "    print(next(iterator_obj))\n",
    "```\n",
    "\n",
    "This would output the numbers 1 to 5.\n",
    "\n",
    "Iterators are widely used in Python, especially with constructs like `for...in` loops, where they provide a clean and efficient way to iterate over sequences of data."
   ]
  },
  {
   "cell_type": "markdown",
   "id": "b9e7765c",
   "metadata": {},
   "source": [
    "## 2. How do you create an iterator in Python?\n"
   ]
  },
  {
   "cell_type": "code",
   "execution_count": null,
   "id": "10347339",
   "metadata": {},
   "outputs": [],
   "source": []
  },
  {
   "cell_type": "markdown",
   "id": "cb2ea940",
   "metadata": {},
   "source": [
    "## 3. Write a simple iterator class in Python.\n"
   ]
  },
  {
   "cell_type": "code",
   "execution_count": null,
   "id": "848ccb57",
   "metadata": {},
   "outputs": [],
   "source": []
  },
  {
   "cell_type": "markdown",
   "id": "49fedb46",
   "metadata": {},
   "source": [
    "## 4. Explain the difference between iterable and iterator\n"
   ]
  },
  {
   "cell_type": "code",
   "execution_count": null,
   "id": "59725b17",
   "metadata": {},
   "outputs": [],
   "source": []
  },
  {
   "cell_type": "markdown",
   "id": "8cfc7c3c",
   "metadata": {},
   "source": [
    "## 5. What is the purpose of Python's iter() and next() functions?\n"
   ]
  },
  {
   "cell_type": "code",
   "execution_count": null,
   "id": "eaa2081d",
   "metadata": {},
   "outputs": [],
   "source": []
  },
  {
   "cell_type": "markdown",
   "id": "923ac4b4",
   "metadata": {},
   "source": [
    "## 6. How can you make a custom object iterable?\n"
   ]
  },
  {
   "cell_type": "code",
   "execution_count": null,
   "id": "f9808686",
   "metadata": {},
   "outputs": [],
   "source": []
  },
  {
   "cell_type": "markdown",
   "id": "da56bd4b",
   "metadata": {},
   "source": [
    "## 7. Explain the role of the StopIteration exception in iterators\n"
   ]
  },
  {
   "cell_type": "code",
   "execution_count": null,
   "id": "caba42ee",
   "metadata": {},
   "outputs": [],
   "source": []
  },
  {
   "cell_type": "markdown",
   "id": "2ae76acd",
   "metadata": {},
   "source": [
    "## 8. What are the generators in Python?\n"
   ]
  },
  {
   "cell_type": "code",
   "execution_count": 14,
   "id": "5718bf65",
   "metadata": {},
   "outputs": [
    {
     "name": "stdout",
     "output_type": "stream",
     "text": [
      "1\n"
     ]
    }
   ],
   "source": [
    "def example_return():\n",
    "    return 1\n",
    "    # The following line is not executed\n",
    "    print(\"This line is not executed.\")\n",
    "\n",
    "result = example_return()\n",
    "print(result)  # Output: 1\n"
   ]
  },
  {
   "cell_type": "code",
   "execution_count": 17,
   "id": "d06f76b2",
   "metadata": {},
   "outputs": [
    {
     "name": "stdout",
     "output_type": "stream",
     "text": [
      "1\n"
     ]
    }
   ],
   "source": [
    "def example_yield():\n",
    "    yield 1\n",
    "    # Execution is paused, and state is saved\n",
    "    print(\"This line is executed during the next iteration.\")\n",
    "    yield 2\n",
    "    # Execution is paused again\n",
    "    print(\"This line is executed during the third iteration.\")\n",
    "\n",
    "generator_object = example_yield()\n"
   ]
  },
  {
   "cell_type": "code",
   "execution_count": null,
   "id": "41682c5b",
   "metadata": {},
   "outputs": [],
   "source": [
    "print(next(generator_object))  # Output: 1\n",
    "  # Output: This line is executed during the next iteration.\n"
   ]
  },
  {
   "cell_type": "code",
   "execution_count": 18,
   "id": "6b9eb8e9",
   "metadata": {},
   "outputs": [
    {
     "name": "stdout",
     "output_type": "stream",
     "text": [
      "This line is executed during the next iteration.\n",
      "2\n"
     ]
    }
   ],
   "source": [
    "print(next(generator_object))"
   ]
  },
  {
   "cell_type": "markdown",
   "id": "2e52e362",
   "metadata": {},
   "source": [
    "## 9. What is the difference between a generator and a <br> regular function in Python?\n"
   ]
  },
  {
   "cell_type": "code",
   "execution_count": null,
   "id": "6060dd79",
   "metadata": {},
   "outputs": [],
   "source": []
  },
  {
   "cell_type": "markdown",
   "id": "8ea43975",
   "metadata": {},
   "source": [
    "## 10. Write a simple generator function that yields <br> numbers from 0 to n.\n"
   ]
  },
  {
   "cell_type": "code",
   "execution_count": null,
   "id": "8479ae30",
   "metadata": {},
   "outputs": [],
   "source": []
  },
  {
   "cell_type": "markdown",
   "id": "48652996",
   "metadata": {},
   "source": [
    "## 11. Explain the advantage of using generators over <br>lists for large datasets.\n"
   ]
  },
  {
   "cell_type": "code",
   "execution_count": null,
   "id": "caee3a92",
   "metadata": {},
   "outputs": [],
   "source": []
  },
  {
   "cell_type": "markdown",
   "id": "70d9772a",
   "metadata": {},
   "source": [
    "## 12. Explain the difference between using return and <br>yield in a function.\n"
   ]
  },
  {
   "cell_type": "code",
   "execution_count": null,
   "id": "cc13c608",
   "metadata": {},
   "outputs": [],
   "source": []
  },
  {
   "cell_type": "markdown",
   "id": "01ec97e4",
   "metadata": {},
   "source": [
    "## 13. Write a generator function that generates the <br>Fibonacci sequence\n"
   ]
  },
  {
   "cell_type": "code",
   "execution_count": null,
   "id": "fc341737",
   "metadata": {},
   "outputs": [],
   "source": []
  },
  {
   "cell_type": "markdown",
   "id": "933e017e",
   "metadata": {},
   "source": [
    "## 14. Write a generator function that takes an iterable(List, tuple) <br> and yields only the even numbers.\n"
   ]
  },
  {
   "cell_type": "code",
   "execution_count": null,
   "id": "3a237991",
   "metadata": {},
   "outputs": [],
   "source": []
  },
  {
   "cell_type": "markdown",
   "id": "fe1fda6c",
   "metadata": {},
   "source": [
    "## 15. How do you define a decorator in Python?\n"
   ]
  },
  {
   "cell_type": "code",
   "execution_count": null,
   "id": "b46eefa1",
   "metadata": {},
   "outputs": [],
   "source": []
  },
  {
   "cell_type": "markdown",
   "id": "72799ca5",
   "metadata": {},
   "source": [
    "## 16. Write a decorator that can be used to count the <br> number of times a function is executed\n"
   ]
  },
  {
   "cell_type": "code",
   "execution_count": null,
   "id": "52eae838",
   "metadata": {},
   "outputs": [],
   "source": []
  },
  {
   "cell_type": "markdown",
   "id": "e536b640",
   "metadata": {},
   "source": [
    "## 17. Write a decorator that measures the execution <br> time of a function.\n"
   ]
  },
  {
   "cell_type": "code",
   "execution_count": null,
   "id": "e40b5541",
   "metadata": {},
   "outputs": [],
   "source": []
  },
  {
   "cell_type": "markdown",
   "id": "b3888104",
   "metadata": {},
   "source": [
    "## 18. What is memoization, and how can you implement <br> it using decorators?"
   ]
  },
  {
   "cell_type": "code",
   "execution_count": null,
   "id": "3f230f49",
   "metadata": {},
   "outputs": [],
   "source": []
  }
 ],
 "metadata": {
  "kernelspec": {
   "display_name": "Python 3 (ipykernel)",
   "language": "python",
   "name": "python3"
  },
  "language_info": {
   "codemirror_mode": {
    "name": "ipython",
    "version": 3
   },
   "file_extension": ".py",
   "mimetype": "text/x-python",
   "name": "python",
   "nbconvert_exporter": "python",
   "pygments_lexer": "ipython3",
   "version": "3.11.5"
  }
 },
 "nbformat": 4,
 "nbformat_minor": 5
}
