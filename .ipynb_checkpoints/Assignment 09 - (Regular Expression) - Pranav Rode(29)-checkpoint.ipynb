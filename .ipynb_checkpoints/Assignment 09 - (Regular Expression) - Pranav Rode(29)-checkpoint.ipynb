{
 "cells": [
  {
   "cell_type": "markdown",
   "id": "be964838",
   "metadata": {},
   "source": [
    "#  ASSIGNMENT - 09(Regular Expression)\n",
    "## Solution/Ans  by - Pranav Rode(29) "
   ]
  },
  {
   "cell_type": "markdown",
   "id": "51ad8020",
   "metadata": {},
   "source": [
    "### 1. Write a python program to check that a string contains only a certain set of characters (in this case a-z, A-Z, and 0-9)."
   ]
  },
  {
   "cell_type": "code",
   "execution_count": null,
   "id": "cb50b5d8",
   "metadata": {},
   "outputs": [],
   "source": []
  },
  {
   "cell_type": "markdown",
   "id": "52d57755",
   "metadata": {},
   "source": [
    "### 2. Create a program to split a string by only the first occurrence of any substring."
   ]
  },
  {
   "cell_type": "code",
   "execution_count": null,
   "id": "510384a5",
   "metadata": {},
   "outputs": [],
   "source": []
  },
  {
   "cell_type": "markdown",
   "id": "34978854",
   "metadata": {},
   "source": [
    "### 3. Code that would match a string that has an a followed by zero or more b's."
   ]
  },
  {
   "cell_type": "code",
   "execution_count": null,
   "id": "0902d7d2",
   "metadata": {},
   "outputs": [],
   "source": []
  },
  {
   "cell_type": "markdown",
   "id": "e637f29a",
   "metadata": {},
   "source": [
    "### 4. Wap to find Three-digit numbers followed by space followed by two-digit numbers in a string."
   ]
  },
  {
   "cell_type": "code",
   "execution_count": null,
   "id": "50f44462",
   "metadata": {},
   "outputs": [],
   "source": []
  },
  {
   "cell_type": "markdown",
   "id": "6f198226",
   "metadata": {},
   "source": [
    "### 5. Write a Python program that matches a string that has an a followed by one or more b's."
   ]
  },
  {
   "cell_type": "code",
   "execution_count": null,
   "id": "f68f5846",
   "metadata": {},
   "outputs": [],
   "source": []
  },
  {
   "cell_type": "markdown",
   "id": "89e97164",
   "metadata": {},
   "source": [
    "### 6. Write a program to search inform in a string both in uppercase & in lowercase. (INFORM or inform)"
   ]
  },
  {
   "cell_type": "code",
   "execution_count": null,
   "id": "be0866f8",
   "metadata": {},
   "outputs": [],
   "source": []
  },
  {
   "cell_type": "markdown",
   "id": "54f39913",
   "metadata": {},
   "source": [
    "### 7. WAP that matches a string that has an a followed by zero or one 'b'. ."
   ]
  },
  {
   "cell_type": "code",
   "execution_count": null,
   "id": "c896f154",
   "metadata": {},
   "outputs": [],
   "source": []
  },
  {
   "cell_type": "markdown",
   "id": "5ff50ef5",
   "metadata": {},
   "source": [
    "### 8. WAP that matches a string that has an a followed by three 'b'. ."
   ]
  },
  {
   "cell_type": "code",
   "execution_count": null,
   "id": "e94c423b",
   "metadata": {},
   "outputs": [],
   "source": []
  },
  {
   "cell_type": "markdown",
   "id": "83e65a99",
   "metadata": {},
   "source": [
    "### 9. Write a Python program that matches a string that has an a followed by two to three 'b'."
   ]
  },
  {
   "cell_type": "code",
   "execution_count": null,
   "id": "8b7928c0",
   "metadata": {},
   "outputs": [],
   "source": []
  },
  {
   "cell_type": "markdown",
   "id": "e0b81241",
   "metadata": {},
   "source": [
    "### 10.Find all the words starting in range of k-n using a for loop & re."
   ]
  },
  {
   "cell_type": "code",
   "execution_count": null,
   "id": "75017a8a",
   "metadata": {},
   "outputs": [],
   "source": []
  },
  {
   "cell_type": "markdown",
   "id": "a85cca53",
   "metadata": {},
   "source": [
    "### 11. Write a Python program to find sequences of lowercase letters joined with an underscore."
   ]
  },
  {
   "cell_type": "code",
   "execution_count": null,
   "id": "ef93f936",
   "metadata": {},
   "outputs": [],
   "source": []
  },
  {
   "cell_type": "markdown",
   "id": "da117fa7",
   "metadata": {},
   "source": [
    "### 12.Write a program to find the sequences of one upper case letter followed bylower case letters."
   ]
  },
  {
   "cell_type": "code",
   "execution_count": null,
   "id": "0cd96294",
   "metadata": {},
   "outputs": [],
   "source": []
  },
  {
   "cell_type": "markdown",
   "id": "9890b92d",
   "metadata": {},
   "source": [
    "### 13.Write a program that matches a string that has an 'a' followed by anything, ending in 'b'."
   ]
  },
  {
   "cell_type": "code",
   "execution_count": null,
   "id": "fd1c1455",
   "metadata": {},
   "outputs": [],
   "source": []
  },
  {
   "cell_type": "markdown",
   "id": "ee0adb3b",
   "metadata": {},
   "source": [
    "### 14.WAP that matches a word at the beginning of a string."
   ]
  },
  {
   "cell_type": "code",
   "execution_count": null,
   "id": "a3c38cd7",
   "metadata": {},
   "outputs": [],
   "source": []
  },
  {
   "cell_type": "markdown",
   "id": "e6de177d",
   "metadata": {},
   "source": [
    "### 15.Write a program that matches a word at the end of a string, with optional punctuation."
   ]
  },
  {
   "cell_type": "code",
   "execution_count": null,
   "id": "c6443c07",
   "metadata": {},
   "outputs": [],
   "source": []
  },
  {
   "cell_type": "markdown",
   "id": "cef6ee81",
   "metadata": {},
   "source": [
    "### 16.Write a Python program that matches a word containing 'z'."
   ]
  },
  {
   "cell_type": "code",
   "execution_count": null,
   "id": "e4d94a3f",
   "metadata": {},
   "outputs": [],
   "source": []
  },
  {
   "cell_type": "markdown",
   "id": "622590c6",
   "metadata": {},
   "source": [
    "### 17.Write a program that matches a word containing 'z', not at the start or end of the word."
   ]
  },
  {
   "cell_type": "code",
   "execution_count": null,
   "id": "3e4828f3",
   "metadata": {},
   "outputs": [],
   "source": []
  },
  {
   "cell_type": "markdown",
   "id": "8a01a4de",
   "metadata": {},
   "source": [
    "### 18.Write a program to match a string that contains only upper and lowercase letters, numbers, and underscores."
   ]
  },
  {
   "cell_type": "code",
   "execution_count": null,
   "id": "8030200a",
   "metadata": {},
   "outputs": [],
   "source": []
  },
  {
   "cell_type": "markdown",
   "id": "16be1ca8",
   "metadata": {},
   "source": [
    "### 19.WAP where a string will start with a specific number."
   ]
  },
  {
   "cell_type": "code",
   "execution_count": null,
   "id": "7773e560",
   "metadata": {},
   "outputs": [],
   "source": []
  },
  {
   "cell_type": "markdown",
   "id": "52db6af5",
   "metadata": {},
   "source": [
    "### 20.Write a Python program to remove leading zeros from an IP address."
   ]
  },
  {
   "cell_type": "code",
   "execution_count": null,
   "id": "90db9413",
   "metadata": {},
   "outputs": [],
   "source": []
  },
  {
   "cell_type": "markdown",
   "id": "b4319cbe",
   "metadata": {},
   "source": [
    "### 21.Write a program to check for a number at the end of a string. ."
   ]
  },
  {
   "cell_type": "code",
   "execution_count": null,
   "id": "9f83546d",
   "metadata": {},
   "outputs": [],
   "source": []
  },
  {
   "cell_type": "markdown",
   "id": "d4cb2d80",
   "metadata": {},
   "source": [
    "### 22.Code a program to search the numbers (0-9) of length between 1 to 3 in a given string. . <br> \"Exercises number 1, 12, 13, and 345 are important\""
   ]
  },
  {
   "cell_type": "markdown",
   "id": "8317eaf4",
   "metadata": {},
   "source": [
    "### 23.Write a program to search some literals strings in a string. .\n",
    "- Sample text : 'The quick brown fox jumps over the lazy dog.' <br>\n",
    "- Searched words : 'fox', 'dog', 'horse'"
   ]
  },
  {
   "cell_type": "code",
   "execution_count": null,
   "id": "168b5b30",
   "metadata": {},
   "outputs": [],
   "source": []
  },
  {
   "cell_type": "markdown",
   "id": "80618a07",
   "metadata": {},
   "source": [
    "### 24.Write a Python program to search a literals string in a string and also find the location within the original string where the pattern occurs. .\n",
    "Sample text : 'The quick brown fox jumps over the lazy dog.' <br>\n",
    "Searched words : 'fox'"
   ]
  },
  {
   "cell_type": "code",
   "execution_count": null,
   "id": "33314f00",
   "metadata": {},
   "outputs": [],
   "source": []
  },
  {
   "cell_type": "markdown",
   "id": "7f0c9d30",
   "metadata": {},
   "source": [
    "### 25.Write a code to find a common substrings within a string.\n",
    "Sample text : 'Python exercises, PHP exercises, C# exercises' <br>\n",
    "Pattern : 'exercises' <br>\n",
    "Note: There are two instances of exercises in the input string. "
   ]
  },
  {
   "cell_type": "code",
   "execution_count": null,
   "id": "1130c2d1",
   "metadata": {},
   "outputs": [],
   "source": []
  },
  {
   "cell_type": "markdown",
   "id": "6522e07f",
   "metadata": {},
   "source": [
    "### 26.Write a program to find the occurrence and position of the substrings within a string. ."
   ]
  },
  {
   "cell_type": "code",
   "execution_count": null,
   "id": "a7112b92",
   "metadata": {},
   "outputs": [],
   "source": []
  },
  {
   "cell_type": "markdown",
   "id": "a7253d73",
   "metadata": {},
   "source": [
    "### 27.Write a code to replace whitespaces with an underscore and vice versa. ."
   ]
  },
  {
   "cell_type": "code",
   "execution_count": null,
   "id": "918be424",
   "metadata": {},
   "outputs": [],
   "source": []
  },
  {
   "cell_type": "markdown",
   "id": "4d9c9c90",
   "metadata": {},
   "source": [
    "### 28.How would you remove all whitespaces from a string?"
   ]
  },
  {
   "cell_type": "code",
   "execution_count": null,
   "id": "c1c98261",
   "metadata": {},
   "outputs": [],
   "source": []
  },
  {
   "cell_type": "markdown",
   "id": "98c97625",
   "metadata": {},
   "source": [
    "### 29.Write a Python program to match if two words from a list of words starting with the letter 'P'"
   ]
  },
  {
   "cell_type": "code",
   "execution_count": null,
   "id": "f1b3cde5",
   "metadata": {},
   "outputs": [],
   "source": []
  },
  {
   "cell_type": "markdown",
   "id": "584ca3ef",
   "metadata": {},
   "source": [
    "### 30.Write a code to find all words starting with 'a' or 'e' in a given string. ."
   ]
  },
  {
   "cell_type": "code",
   "execution_count": null,
   "id": "2871f9e9",
   "metadata": {},
   "outputs": [],
   "source": []
  },
  {
   "cell_type": "markdown",
   "id": "df399807",
   "metadata": {},
   "source": [
    "### 31.Write a Python program to separate and print the numbers and their position of a given string."
   ]
  },
  {
   "cell_type": "code",
   "execution_count": null,
   "id": "3fbdb067",
   "metadata": {},
   "outputs": [],
   "source": []
  },
  {
   "cell_type": "markdown",
   "id": "1aee9a39",
   "metadata": {},
   "source": [
    "### 32.Write a Python program to replace all occurrences of space, comma, or dot with a colon."
   ]
  },
  {
   "cell_type": "code",
   "execution_count": null,
   "id": "45182358",
   "metadata": {},
   "outputs": [],
   "source": []
  },
  {
   "cell_type": "markdown",
   "id": "022219da",
   "metadata": {},
   "source": [
    "### 33.Write a program to replace maximum 2 occurrences of space, comma, or dot with a colon."
   ]
  },
  {
   "cell_type": "code",
   "execution_count": null,
   "id": "20af584e",
   "metadata": {},
   "outputs": [],
   "source": []
  },
  {
   "cell_type": "markdown",
   "id": "5583c4d4",
   "metadata": {},
   "source": [
    "### 34.Write a Python program to find all three, four, five characters long words in a string."
   ]
  },
  {
   "cell_type": "code",
   "execution_count": null,
   "id": "7479143b",
   "metadata": {},
   "outputs": [],
   "source": []
  },
  {
   "cell_type": "markdown",
   "id": "3f066474",
   "metadata": {},
   "source": [
    "### 35.Write a program to extract values between quotation marks of a string."
   ]
  },
  {
   "cell_type": "code",
   "execution_count": null,
   "id": "c11f3415",
   "metadata": {},
   "outputs": [],
   "source": []
  },
  {
   "cell_type": "markdown",
   "id": "4a19cc14",
   "metadata": {},
   "source": [
    "### 36.How would you remove multiple spaces in a string?"
   ]
  },
  {
   "cell_type": "code",
   "execution_count": null,
   "id": "664a6a6a",
   "metadata": {},
   "outputs": [],
   "source": []
  }
 ],
 "metadata": {
  "kernelspec": {
   "display_name": "Python 3 (ipykernel)",
   "language": "python",
   "name": "python3"
  },
  "language_info": {
   "codemirror_mode": {
    "name": "ipython",
    "version": 3
   },
   "file_extension": ".py",
   "mimetype": "text/x-python",
   "name": "python",
   "nbconvert_exporter": "python",
   "pygments_lexer": "ipython3",
   "version": "3.9.17"
  }
 },
 "nbformat": 4,
 "nbformat_minor": 5
}
