{
 "cells": [
  {
   "cell_type": "markdown",
   "id": "57d56c15",
   "metadata": {},
   "source": [
    "#  ASSIGNMENT - 11(Iterator, Generator, Decorator)\n",
    "## Solution/Ans  by - Pranav Rode(29) "
   ]
  },
  {
   "cell_type": "markdown",
   "id": "bce2728c",
   "metadata": {},
   "source": [
    "## 1. What is an iterator in Python?\n"
   ]
  },
  {
   "cell_type": "markdown",
   "id": "6d93fdc1",
   "metadata": {},
   "source": [
    "**What is an Iterator?**\n",
    "\n",
    "In essence, an iterator in Python is an object that allows you to step through the elements of a collection (like a list, tuple, string, etc.) one item at a time. Iterators streamline how you interact with sequences of data.\n",
    "\n",
    "* **Technical Side:** An iterator follows the iterator protocol. This means it implements two core methods:\n",
    "    * `__iter__()`:  This method returns the iterator object itself (usually) and initializes any necessary resources for iteration.\n",
    "    * `__next__()`: This method is responsible for returning the next element in the sequence. When there are no more elements, it raises a `StopIteration` exception to signal the end of iteration.\n",
    "\n",
    "**Why Use Iterators?**\n",
    "\n",
    "1. **Memory Efficiency:** Handling large datasets can be tricky. Iterators allow you to process one element at a time, preventing you from loading the entire dataset into memory at once. \n",
    "\n",
    "2. **Clean Iteration:** The classic way to loop through a list is with a `for` loop. Iterators power the `for` loop under the hood, providing a more elegant way to cycle through items in a collection.\n",
    "\n",
    "3. **Laziness:** Iterators sometimes use the concept of \"lazy evaluation,\" meaning they compute the next value only when requested. This can optimize performance in certain scenarios."
   ]
  },
  {
   "cell_type": "code",
   "execution_count": 66,
   "id": "7b4521f0",
   "metadata": {},
   "outputs": [
    {
     "name": "stdout",
     "output_type": "stream",
     "text": [
      "1\n",
      "5\n",
      "3\n",
      "8\n"
     ]
    },
    {
     "ename": "StopIteration",
     "evalue": "",
     "output_type": "error",
     "traceback": [
      "\u001b[1;31m---------------------------------------------------------------------------\u001b[0m",
      "\u001b[1;31mStopIteration\u001b[0m                             Traceback (most recent call last)",
      "Cell \u001b[1;32mIn[66], line 14\u001b[0m\n\u001b[0;32m     12\u001b[0m \u001b[38;5;28mprint\u001b[39m(\u001b[38;5;28mnext\u001b[39m(my_iterator))  \u001b[38;5;66;03m# Output: 3\u001b[39;00m\n\u001b[0;32m     13\u001b[0m \u001b[38;5;28mprint\u001b[39m(\u001b[38;5;28mnext\u001b[39m(my_iterator))  \u001b[38;5;66;03m# Output: 8\u001b[39;00m\n\u001b[1;32m---> 14\u001b[0m \u001b[38;5;28mprint\u001b[39m(\u001b[38;5;28mnext\u001b[39m(my_iterator))\n",
      "\u001b[1;31mStopIteration\u001b[0m: "
     ]
    }
   ],
   "source": [
    "# Code Example\n",
    "# Let's look at an example using a list:\n",
    "\n",
    "my_list = [1, 5, 3, 8]\n",
    "\n",
    "# Getting an iterator object\n",
    "my_iterator = iter(my_list) \n",
    "\n",
    "# Getting items using the iterator\n",
    "print(next(my_iterator))  # Output: 1\n",
    "print(next(my_iterator))  # Output: 5\n",
    "print(next(my_iterator))  # Output: 3\n",
    "print(next(my_iterator))  # Output: 8\n",
    "print(next(my_iterator))  # Raises StopIteration "
   ]
  },
  {
   "cell_type": "markdown",
   "id": "5e31c047",
   "metadata": {},
   "source": [
    "**Other Important Points**\n",
    "\n",
    "* **Iterators vs. Iterables:** An iterable is any object that can be looped over (lists, strings, dictionaries, etc.). Iterators are the mechanism that enables the actual traversal of these iterables.\n",
    "\n",
    "* **Built-in Iterator Functions:** Python has helpful functions like `iter()` to get an iterator from an iterable object and `next()` to retrieve the next element from an iterator.\n",
    "\n",
    "* **Generators:**  Generators are special functions in Python that produce a sequence of values using the `yield` statement. They act as iterators implicitly.\n"
   ]
  },
  {
   "cell_type": "markdown",
   "id": "b9e7765c",
   "metadata": {},
   "source": [
    "## 2. How do you create an iterator in Python?\n"
   ]
  },
  {
   "cell_type": "markdown",
   "id": "8fecc372",
   "metadata": {},
   "source": [
    "**Building a Custom Iterator**\n",
    "\n",
    "The core principle is to define a class that implements the iterator protocol (`__iter__()` and `__next__()` methods). \n",
    "Let's illustrate this with an example:"
   ]
  },
  {
   "cell_type": "code",
   "execution_count": 67,
   "id": "ff2dfd82",
   "metadata": {
    "scrolled": true
   },
   "outputs": [
    {
     "name": "stdout",
     "output_type": "stream",
     "text": [
      "0\n",
      "2\n",
      "4\n",
      "6\n",
      "8\n",
      "10\n"
     ]
    }
   ],
   "source": [
    "# Inlcuding Stepsize\n",
    "class Counter:\n",
    "    def __init__(self, start, end, step=1):\n",
    "        self.current = start\n",
    "        self.end = end\n",
    "        self.step = step\n",
    "\n",
    "    def __iter__(self):\n",
    "        return self\n",
    "\n",
    "    def __next__(self):\n",
    "        if self.current > self.end:\n",
    "            raise StopIteration\n",
    "        else:\n",
    "            result = self.current\n",
    "            self.current += self.step\n",
    "            return result\n",
    "\n",
    "# Using the Counter iterator with step size\n",
    "for i in Counter(0, 10, 2):  # Step size is 3\n",
    "    print(i)\n"
   ]
  },
  {
   "cell_type": "markdown",
   "id": "75aaaae7",
   "metadata": {},
   "source": [
    "**Explanation**\n",
    "\n",
    "1. **Class Definition:** We define a class named `Counter` to serve as our iterator.\n",
    "\n",
    "2. **`__init__()` Method:** This method initializes the `Counter` object with a starting value (`start`) and an ending value (`end`). Additionally, it includes an optional parameter `step`, which defaults to 1, representing the step size for incrementing the counter.\n",
    "\n",
    "3. **`__iter__()` Method:** This method is responsible for returning the iterator object itself when `iter()` function is called on the `Counter` object. It facilitates the iteration process by providing access to the iterator.\n",
    "\n",
    "4. **`__next__()` Method:**\n",
    "   - This method is called to retrieve the next element in the iteration sequence.\n",
    "   - It first checks if the current value exceeds the ending value. If so, it raises a `StopIteration` exception, indicating the end of iteration.\n",
    "   - If the end condition is not met, it returns the current value of the counter and then increments the counter by the specified step size (`step`).\n",
    "\n",
    "By incorporating the step size parameter into the `Counter` class, users can now specify the increment between consecutive elements when using the iterator. This enhancement provides greater flexibility and control over the iteration process, allowing for customized iteration patterns as needed.\n",
    "\n",
    "**Usage**\n",
    "\n",
    "When you use this `Counter` class in a `for` loop, it will implicitly call these iterator methods to produce the sequence.\n",
    "\n",
    "**Key Points**\n",
    "\n",
    "* **State:** Iterator objects typically maintain internal state to track their position within the sequence they're iterating over.\n",
    "\n",
    "* **Flexibility:** You can create custom iterators for a wide variety of data structures and sequences, even complex ones like infinite sequences."
   ]
  },
  {
   "cell_type": "markdown",
   "id": "cb2ea940",
   "metadata": {},
   "source": [
    "## 3. Write a simple iterator class in Python.\n"
   ]
  },
  {
   "cell_type": "code",
   "execution_count": 68,
   "id": "848ccb57",
   "metadata": {},
   "outputs": [
    {
     "name": "stdout",
     "output_type": "stream",
     "text": [
      "10\n",
      "11\n",
      "12\n",
      "13\n",
      "14\n",
      "15\n"
     ]
    }
   ],
   "source": [
    "class NumberIterator:\n",
    "    def __init__(self, start, end):\n",
    "        self.current = start\n",
    "        self.end = end\n",
    "\n",
    "    def __iter__(self):\n",
    "        return self\n",
    "\n",
    "    def __next__(self):\n",
    "        if self.current > self.end:\n",
    "            raise StopIteration\n",
    "        else:\n",
    "            result = self.current\n",
    "            self.current += 1\n",
    "            return result\n",
    "\n",
    "# Create an iterator object\n",
    "my_iterator = NumberIterator(10, 15)\n",
    "\n",
    "# Use the iterator in a for loop\n",
    "for num in my_iterator:\n",
    "    print(num)"
   ]
  },
  {
   "cell_type": "markdown",
   "id": "49fedb46",
   "metadata": {},
   "source": [
    "## 4. Explain the difference between iterable and iterator\n"
   ]
  },
  {
   "cell_type": "markdown",
   "id": "dc32b4d9",
   "metadata": {},
   "source": [
    "**Iterables**\n",
    "\n",
    "* **What they are:** Iterables are objects that can be looped over. They provide a way to access their elements one at a time. Examples of iterables in Python include lists, tuples, strings, dictionaries, sets, and files.\n",
    "\n",
    "* **How they work:** When you use an iterable in a `for` loop, Python automatically creates an iterator object behind the scenes. This iterator object keeps track of the iteration's current position and provides the `next()` method to retrieve the next element.\n",
    "\n",
    "**Iterators**\n",
    "\n",
    "* **What they are:** Iterators are objects that implement the iterator protocol, which means they have two special methods: `__iter__()` and `__next__()`.\n",
    "\n",
    "* **How they work:** The `__iter__()` method returns the iterator object itself. The `__next__()` method returns the next element in the sequence and raises a `StopIteration` exception when there are no more elements left.\n",
    "\n",
    "**In a nutshell:**\n",
    "\n",
    "| Feature        | Iterable                                          | Iterator                                                  |\n",
    "|----------------|-------------------------------------------------|------------------------------------------------------------|\n",
    "| What it is      | An object that can be looped over                 | An object that provides a way to iterate over an iterable  |\n",
    "| Methods         | None                                            | `__iter__()`, `__next__()`                                |\n",
    "| Example        | `[1, 2, 3]`, `\"hello\"`, `(a, b, c)`                 | The object returned by `iter([1, 2, 3])`                   |\n",
    "\n",
    "**Key points:**\n",
    "\n",
    "* Not all iterables are iterators, but all iterators are also iterables.\n",
    "* You can create your own custom iterators using classes.\n",
    "* Iterators are useful for memory efficiency, especially when dealing with large datasets.\n",
    "\n",
    "Here is an example that illustrates the difference between iterables and iterators:"
   ]
  },
  {
   "cell_type": "code",
   "execution_count": 69,
   "id": "21d28e2f",
   "metadata": {},
   "outputs": [
    {
     "name": "stdout",
     "output_type": "stream",
     "text": [
      "1\n",
      "2\n",
      "3\n"
     ]
    }
   ],
   "source": [
    "my_list = [1, 2, 3]\n",
    "\n",
    "# my_list is an iterable, but it is not an iterator\n",
    "# To get an iterator from it, we can use the iter() function\n",
    "my_iterator = iter(my_list)\n",
    "\n",
    "# Now, my_iterator is an iterator\n",
    "print(next(my_iterator))  # Output: 1\n",
    "print(next(my_iterator))  # Output: 2\n",
    "print(next(my_iterator))  # Output: 3"
   ]
  },
  {
   "cell_type": "markdown",
   "id": "8cfc7c3c",
   "metadata": {},
   "source": [
    "## 5. What is the purpose of Python's iter() and next() functions?\n"
   ]
  },
  {
   "cell_type": "markdown",
   "id": "a89a31e2",
   "metadata": {},
   "source": [
    "The `iter()` and `next()` functions in Python are used for working with iterators and iterable objects. They serve distinct purposes and are fundamental to Python's iteration protocol:\n",
    "\n",
    "1. **iter() Function:**\n",
    "   - The `iter()` function is used to obtain an iterator from an iterable object.\n",
    "   - It accepts a single argument, which can be any object that supports iteration, such as lists, tuples, strings, dictionaries, sets, generators, or custom iterable objects.\n",
    "   - When called with an iterable object as its argument, `iter()` returns an iterator object that can be used to traverse the elements of the iterable.\n",
    "   - The `iter()` function is commonly used to initialize iteration over iterable objects, either explicitly or implicitly within iteration constructs such as `for` loops, list comprehensions, and generator expressions.\n",
    "\n",
    "2. **next() Function:**\n",
    "   - The `next()` function is used to retrieve the next element from an iterator.\n",
    "   - It accepts a single argument, which must be an iterator object.\n",
    "   - When called, `next()` returns the next element in the sequence represented by the iterator.\n",
    "   - If there are no more elements to return, `next()` raises a `StopIteration` exception, signaling the end of iteration.\n",
    "   - The `next()` function is typically used in conjunction with iterators to iterate over the elements of a sequence manually or to implement custom iteration logic.\n",
    "\n",
    "In summary, the `iter()` function is used to obtain an iterator from an iterable object, while the `next()` function is used to retrieve successive elements from an iterator. Together, they provide the foundation for Python's iteration protocol, enabling efficient traversal of data structures and sequences."
   ]
  },
  {
   "cell_type": "markdown",
   "id": "923ac4b4",
   "metadata": {},
   "source": [
    "## 6. How can you make a custom object iterable?\n"
   ]
  },
  {
   "cell_type": "markdown",
   "id": "7c7cfd7f",
   "metadata": {},
   "source": [
    "To make a custom object iterable in Python, you need to implement the iterator protocol by defining the `__iter__()` and `__next__()` methods within the class definition. This allows instances of the class to be used in iteration constructs such as `for` loops, list comprehensions, and generator expressions."
   ]
  },
  {
   "cell_type": "code",
   "execution_count": 70,
   "id": "f9808686",
   "metadata": {},
   "outputs": [
    {
     "name": "stdout",
     "output_type": "stream",
     "text": [
      "1\n",
      "2\n",
      "3\n",
      "4\n",
      "5\n"
     ]
    }
   ],
   "source": [
    "class MyIterable:\n",
    "    def __init__(self, data):\n",
    "        self.data = data\n",
    "        self.index = 0\n",
    "\n",
    "    def __iter__(self):\n",
    "        # Return an iterator object\n",
    "        return self\n",
    "\n",
    "    def __next__(self):\n",
    "        if self.index < len(self.data):\n",
    "            result = self.data[self.index]\n",
    "            self.index += 1\n",
    "            return result\n",
    "        else:\n",
    "            # Raise StopIteration when iteration is complete\n",
    "            raise StopIteration\n",
    "\n",
    "# Create an instance of the custom iterable object\n",
    "my_iterable = MyIterable([1, 2, 3, 4, 5])\n",
    "\n",
    "# Iterate over the elements using a for loop\n",
    "for item in my_iterable:\n",
    "    print(item)\n"
   ]
  },
  {
   "cell_type": "markdown",
   "id": "5f1f04b5",
   "metadata": {},
   "source": [
    "In this example:\n",
    "- We define a custom class `MyIterable` that represents an iterable object.\n",
    "- The `__iter__()` method returns the object itself, indicating that instances of the class are their own iterators.\n",
    "- The `__next__()` method retrieves elements from the `data` attribute and increments the index until all elements have been traversed.\n",
    "- Finally, we create an instance of `MyIterable` and iterate over its elements using a `for` loop, demonstrating the custom object's iterability."
   ]
  },
  {
   "cell_type": "markdown",
   "id": "da56bd4b",
   "metadata": {},
   "source": [
    "## 7. Explain the role of the StopIteration exception in iterators\n"
   ]
  },
  {
   "cell_type": "markdown",
   "id": "751f4a7e",
   "metadata": {},
   "source": [
    "In Python, the `StopIteration` exception plays a crucial role in iterators to signal the end of an iteration sequence. It serves as a mechanism for terminating the iteration process when there are no more elements to retrieve from the iterator. Here's a detailed explanation of its role:\n",
    "\n",
    "1. **Termination Signal:**\n",
    "   - The primary role of the `StopIteration` exception is to serve as a termination signal during iteration.\n",
    "   - When raised within an iterator's `__next__()` method, it indicates that there are no more elements to return, and the iteration process should come to an end.\n",
    "   - This allows the iterator to communicate to the caller (e.g., a `for` loop or `next()` function) that it has exhausted its sequence of elements.\n",
    "\n",
    "2. **Iteration Protocol:**\n",
    "   - According to the Python iteration protocol, an iterator's `__next__()` method should raise a `StopIteration` exception when it reaches the end of the iteration sequence.\n",
    "   - This protocol ensures consistent behavior across different types of iterators and enables Python's iteration constructs to handle iterators uniformly.\n",
    "\n",
    "3. **Exception Handling:**\n",
    "   - When a `StopIteration` exception is raised during iteration, Python's iteration constructs automatically catch the exception and handle it gracefully.\n",
    "   - For example, a `for` loop terminates the iteration loop when it encounters a `StopIteration` exception, allowing the program to continue execution without interruption.\n",
    "\n",
    "4. **Iterators' Internal State:**\n",
    "   - The presence of the `StopIteration` exception influences the design of iterators, as they need to maintain their internal state to track the progress of iteration.\n",
    "   - Iterators typically raise `StopIteration` when their internal state indicates that there are no more elements to return.\n",
    "\n",
    "In summary, the `StopIteration` exception serves as a fundamental mechanism for indicating the end of iteration in Python iterators. Its presence enables iterators to communicate the completion of an iteration sequence, allowing iteration constructs to handle iterators uniformly and gracefully terminate the iteration process when necessary."
   ]
  },
  {
   "cell_type": "markdown",
   "id": "2ae76acd",
   "metadata": {},
   "source": [
    "## 8. What are the generators in Python?\n"
   ]
  },
  {
   "cell_type": "markdown",
   "id": "c5b48b0f",
   "metadata": {},
   "source": [
    "In Python, generators are a type of iterable object that allows for the lazy evaluation of data. They are defined using a special kind of function called a generator function, which uses the `yield` keyword to return values one at a time, suspending its state between calls.\n",
    "\n",
    "Here are key characteristics of generators:\n",
    "\n",
    "1. **Lazy Evaluation:**\n",
    "   - Generators produce values on-the-fly as they are requested, rather than generating all values upfront and storing them in memory.\n",
    "   - This lazy evaluation makes generators memory-efficient, particularly for working with large or infinite sequences.\n",
    "\n",
    "2. **Iterable Protocol:**\n",
    "   - Generators are iterable objects and can be used in iteration constructs such as `for` loops, list comprehensions, and generator expressions.\n",
    "   - They automatically implement the iterator protocol, with the `yield` statement handling the creation of the iterator.\n",
    "\n",
    "3. **State Suspension:**\n",
    "   - Generator functions maintain their state between successive calls. When a `yield` statement is encountered, the function's execution is suspended, and the value is yielded to the caller.\n",
    "   - The function's state is saved, allowing it to resume execution from the same point the next time it is called.\n",
    "\n",
    "4. **Memory Efficiency:**\n",
    "   - Because generators produce values on-demand, they consume memory only for the currently yielded value, rather than storing the entire sequence in memory.\n",
    "   - This makes generators well-suited for processing large datasets or infinite sequences, where storing all values in memory would be impractical or impossible.\n",
    "\n",
    "5. **Generator Expressions:**\n",
    "   - In addition to generator functions, Python also supports generator expressions, which are similar to list comprehensions but produce values lazily.\n",
    "   - Generator expressions offer a concise way to create generators without defining a separate function.\n",
    "\n",
    "Here's a simple example of a generator function:\n"
   ]
  },
  {
   "cell_type": "code",
   "execution_count": 97,
   "id": "66c776f8",
   "metadata": {},
   "outputs": [
    {
     "name": "stdout",
     "output_type": "stream",
     "text": [
      "1\n",
      "2\n",
      "3\n"
     ]
    }
   ],
   "source": [
    "def my_generator():\n",
    "    yield 1\n",
    "    yield 2\n",
    "    yield 3\n",
    "\n",
    "# Using the generator in a loop\n",
    "for value in my_generator():\n",
    "    print(value)"
   ]
  },
  {
   "cell_type": "markdown",
   "id": "a2ebfda8",
   "metadata": {},
   "source": [
    "In this example, `my_generator()` is a generator function that yields values 1, 2, and 3 one at a time. The loop iterates over the generator, printing each value as it is yielded."
   ]
  },
  {
   "cell_type": "markdown",
   "id": "2e52e362",
   "metadata": {},
   "source": [
    "## 9. What is the difference between a generator and a <br> regular function in Python?\n"
   ]
  },
  {
   "cell_type": "markdown",
   "id": "00651085",
   "metadata": {},
   "source": [
    "In Python, there are several differences between a generator function and a regular function:\n",
    "\n",
    "1. **Return Values:**\n",
    "   - Regular functions use the `return` statement to return a single value to the caller.\n",
    "   - Generator functions, on the other hand, use the `yield` statement to yield values one at a time to the caller. They can yield multiple values, suspending their execution state between successive calls.\n",
    "\n",
    "2. **Execution State:**\n",
    "   - Regular functions execute until they encounter a `return` statement, at which point they terminate and return a value to the caller.\n",
    "   - Generator functions, when called, execute until they encounter a `yield` statement. Upon encountering a `yield`, they yield the value to the caller and suspend their state, allowing them to be resumed later.\n",
    "\n",
    "3. **State Retention:**\n",
    "   - Regular functions do not retain their execution state between calls. Each time a regular function is called, it starts execution from the beginning.\n",
    "   - Generator functions retain their state between successive calls. When a generator function yields a value, its state is saved, allowing it to resume execution from where it left off the next time it is called.\n",
    "\n",
    "4. **Memory Usage:**\n",
    "   - Regular functions may store local variables and data structures in memory for the duration of their execution.\n",
    "   - Generators are memory-efficient because they produce values on-the-fly and do not store the entire sequence in memory. They only consume memory for the currently yielded value.\n",
    "\n",
    "5. **Iterability:**\n",
    "   - Generator functions automatically implement the iterator protocol, making them iterable objects. They can be used in iteration constructs such as `for` loops.\n",
    "   - Regular functions do not implement the iterator protocol unless they return an iterable object or are explicitly used to create an iterator.\n",
    "\n",
    "6. **Use Cases:**\n",
    "   - Regular functions are typically used for tasks where a single value or result needs to be computed and returned.\n",
    "   - Generator functions are useful for generating sequences of values lazily, especially when dealing with large datasets or infinite sequences.\n",
    "\n",
    "In summary, the main differences between generator functions and regular functions lie in their return values, execution state, state retention, memory usage, iterability, and use cases. Generator functions provide a convenient way to create iterators and produce values lazily, whereas regular functions are used for general computation tasks."
   ]
  },
  {
   "cell_type": "markdown",
   "id": "8ea43975",
   "metadata": {},
   "source": [
    "## 10. Write a simple generator function that yields <br> numbers from 0 to n.\n"
   ]
  },
  {
   "cell_type": "code",
   "execution_count": null,
   "id": "8479ae30",
   "metadata": {},
   "outputs": [],
   "source": []
  },
  {
   "cell_type": "markdown",
   "id": "48652996",
   "metadata": {},
   "source": [
    "## 11. Explain the advantage of using generators over <br>lists for large datasets.\n"
   ]
  },
  {
   "cell_type": "code",
   "execution_count": null,
   "id": "caee3a92",
   "metadata": {},
   "outputs": [],
   "source": []
  },
  {
   "cell_type": "markdown",
   "id": "70d9772a",
   "metadata": {},
   "source": [
    "## 12. Explain the difference between using return and <br>yield in a function.\n"
   ]
  },
  {
   "cell_type": "code",
   "execution_count": null,
   "id": "cc13c608",
   "metadata": {},
   "outputs": [],
   "source": []
  },
  {
   "cell_type": "markdown",
   "id": "01ec97e4",
   "metadata": {},
   "source": [
    "## 13. Write a generator function that generates the <br>Fibonacci sequence\n"
   ]
  },
  {
   "cell_type": "code",
   "execution_count": null,
   "id": "fc341737",
   "metadata": {},
   "outputs": [],
   "source": []
  },
  {
   "cell_type": "markdown",
   "id": "933e017e",
   "metadata": {},
   "source": [
    "## 14. Write a generator function that takes an iterable(List, tuple) <br> and yields only the even numbers.\n"
   ]
  },
  {
   "cell_type": "code",
   "execution_count": null,
   "id": "3a237991",
   "metadata": {},
   "outputs": [],
   "source": []
  },
  {
   "cell_type": "markdown",
   "id": "fe1fda6c",
   "metadata": {},
   "source": [
    "## 15. How do you define a decorator in Python?\n"
   ]
  },
  {
   "cell_type": "code",
   "execution_count": null,
   "id": "b46eefa1",
   "metadata": {},
   "outputs": [],
   "source": []
  },
  {
   "cell_type": "markdown",
   "id": "72799ca5",
   "metadata": {},
   "source": [
    "## 16. Write a decorator that can be used to count the <br> number of times a function is executed\n"
   ]
  },
  {
   "cell_type": "code",
   "execution_count": null,
   "id": "52eae838",
   "metadata": {},
   "outputs": [],
   "source": []
  },
  {
   "cell_type": "markdown",
   "id": "e536b640",
   "metadata": {},
   "source": [
    "## 17. Write a decorator that measures the execution <br> time of a function.\n"
   ]
  },
  {
   "cell_type": "code",
   "execution_count": null,
   "id": "e40b5541",
   "metadata": {},
   "outputs": [],
   "source": []
  },
  {
   "cell_type": "markdown",
   "id": "b3888104",
   "metadata": {},
   "source": [
    "## 18. What is memoization, and how can you implement <br> it using decorators?"
   ]
  },
  {
   "cell_type": "code",
   "execution_count": null,
   "id": "3f230f49",
   "metadata": {},
   "outputs": [],
   "source": []
  }
 ],
 "metadata": {
  "kernelspec": {
   "display_name": "Python 3 (ipykernel)",
   "language": "python",
   "name": "python3"
  },
  "language_info": {
   "codemirror_mode": {
    "name": "ipython",
    "version": 3
   },
   "file_extension": ".py",
   "mimetype": "text/x-python",
   "name": "python",
   "nbconvert_exporter": "python",
   "pygments_lexer": "ipython3",
   "version": "3.11.5"
  }
 },
 "nbformat": 4,
 "nbformat_minor": 5
}
