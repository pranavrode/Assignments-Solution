{
 "cells": [
  {
   "cell_type": "markdown",
   "id": "b4d44d9c",
   "metadata": {},
   "source": [
    "#  ASSIGNMENT - 10(NumPy)\n",
    "## Solution/Ans  by - Pranav Rode(29) "
   ]
  },
  {
   "cell_type": "markdown",
   "id": "fa86ad90",
   "metadata": {},
   "source": [
    "### 1. Create a null vector of size 10\n"
   ]
  },
  {
   "cell_type": "code",
   "execution_count": 3,
   "id": "f8e49d83",
   "metadata": {},
   "outputs": [
    {
     "name": "stdout",
     "output_type": "stream",
     "text": [
      "[0. 0. 0. 0. 0. 0. 0. 0. 0. 0.]\n"
     ]
    }
   ],
   "source": [
    "import numpy as np\n",
    "\n",
    "null_vector = np.zeros(10)\n",
    "print(null_vector)"
   ]
  },
  {
   "cell_type": "markdown",
   "id": "23670254",
   "metadata": {},
   "source": [
    "### 2. How to find the memory size of an array\n"
   ]
  },
  {
   "cell_type": "code",
   "execution_count": 4,
   "id": "eafd487f",
   "metadata": {},
   "outputs": [
    {
     "name": "stdout",
     "output_type": "stream",
     "text": [
      "Memory size of the array: 80 bytes\n"
     ]
    }
   ],
   "source": [
    "import numpy as np\n",
    "\n",
    "arr = np.zeros(10)\n",
    "memory_size = arr.size * arr.itemsize\n",
    "print(f\"Memory size of the array: {memory_size} bytes\")"
   ]
  },
  {
   "cell_type": "markdown",
   "id": "1873153e",
   "metadata": {},
   "source": [
    "### 3. Create a null vector of size 10 but the fifth value which is 1\n"
   ]
  },
  {
   "cell_type": "code",
   "execution_count": 5,
   "id": "e03e9d41",
   "metadata": {},
   "outputs": [
    {
     "name": "stdout",
     "output_type": "stream",
     "text": [
      "[0. 0. 0. 0. 1. 0. 0. 0. 0. 0.]\n"
     ]
    }
   ],
   "source": [
    "import numpy as np\n",
    "\n",
    "null_vector = np.zeros(10)\n",
    "null_vector[4] = 1\n",
    "print(null_vector)"
   ]
  },
  {
   "cell_type": "markdown",
   "id": "079f3c3c",
   "metadata": {},
   "source": [
    "### 4. Create a vector with values ranging from 15 to 45\n"
   ]
  },
  {
   "cell_type": "code",
   "execution_count": 6,
   "id": "d1aa17f4",
   "metadata": {},
   "outputs": [
    {
     "name": "stdout",
     "output_type": "stream",
     "text": [
      "[15 16 17 18 19 20 21 22 23 24 25 26 27 28 29 30 31 32 33 34 35 36 37 38\n",
      " 39 40 41 42 43 44 45]\n"
     ]
    }
   ],
   "source": [
    "import numpy as np\n",
    "\n",
    "vector = np.arange(15, 46)\n",
    "print(vector)"
   ]
  },
  {
   "cell_type": "markdown",
   "id": "afc3b0ae",
   "metadata": {},
   "source": [
    "### 5. Reverse a vector (The first element becomes last)\n"
   ]
  },
  {
   "cell_type": "code",
   "execution_count": 10,
   "id": "cf3ace72",
   "metadata": {},
   "outputs": [
    {
     "name": "stdout",
     "output_type": "stream",
     "text": [
      "[45 44 43 42 41 40 39 38 37 36 35 34 33 32 31 30 29 28 27 26 25 24 23 22\n",
      " 21 20 19 18 17 16 15]\n"
     ]
    }
   ],
   "source": [
    "import numpy as np\n",
    "\n",
    "vector = np.arange(15, 46)\n",
    "reversed_vector = np.flip(vector)\n",
    "print(reversed_vector)"
   ]
  },
  {
   "cell_type": "code",
   "execution_count": 11,
   "id": "3f2ccdb6",
   "metadata": {},
   "outputs": [
    {
     "name": "stdout",
     "output_type": "stream",
     "text": [
      "[5 4 3 2 1]\n"
     ]
    }
   ],
   "source": [
    "import numpy as np\n",
    "\n",
    "my_vector = np.array([1, 2, 3, 4, 5])\n",
    "reversed_vector = np.flip(my_vector)\n",
    "print(reversed_vector)"
   ]
  },
  {
   "cell_type": "markdown",
   "id": "0eebc62a",
   "metadata": {},
   "source": [
    "### 6. Write a NumPy program to add, subtract, multiply, divide arguments element-wise \n"
   ]
  },
  {
   "cell_type": "code",
   "execution_count": 5,
   "id": "fe3dfff7",
   "metadata": {},
   "outputs": [
    {
     "name": "stdout",
     "output_type": "stream",
     "text": [
      "Add:\n",
      "5.0\n",
      "Subtract:\n",
      "-3.0\n",
      "Multiply:\n",
      "4.0\n",
      "Divide:\n",
      "0.25\n"
     ]
    }
   ],
   "source": [
    "import numpy as np\n",
    "def cal(a,b):\n",
    "    print(\"Add:\")\n",
    "    print(np.add(a, b))\n",
    "    print(\"Subtract:\")\n",
    "    print(np.subtract(a, b))\n",
    "    print(\"Multiply:\")\n",
    "    print(np.multiply(a, b))\n",
    "    print(\"Divide:\")\n",
    "    print(np.divide(a, b))\n",
    "\n",
    "cal(1.0,4.0)"
   ]
  },
  {
   "cell_type": "markdown",
   "id": "3fa2b83a",
   "metadata": {},
   "source": [
    "### 7.Write a NumPy program to round elements of the array to the nearest integer"
   ]
  },
  {
   "cell_type": "code",
   "execution_count": 18,
   "id": "7a180491",
   "metadata": {},
   "outputs": [
    {
     "name": "stdout",
     "output_type": "stream",
     "text": [
      "Original array:\n",
      "[-0.7 -1.5 -1.7  0.3  1.5  1.8  2. ]\n",
      "Round elements of the array to the nearest integer:\n",
      "[-1. -2. -2.  0.  2.  2.  2.]\n"
     ]
    }
   ],
   "source": [
    "import numpy as np\n",
    "x = np.array([-.7, -1.5, -1.7, 0.3, 1.5, 1.8, 2.0])\n",
    "print(\"Original array:\")\n",
    "print(x)\n",
    "x = np.round(x)\n",
    "print(\"Round elements of the array to the nearest integer:\")\n",
    "print(x)"
   ]
  },
  {
   "cell_type": "markdown",
   "id": "ab7898fa",
   "metadata": {},
   "source": [
    "### 8. Write a NumPy program to get the floor and ceiling values of the elements of a NumPy array"
   ]
  },
  {
   "cell_type": "code",
   "execution_count": 16,
   "id": "0f26c017",
   "metadata": {},
   "outputs": [
    {
     "name": "stdout",
     "output_type": "stream",
     "text": [
      "Original array:\n",
      "[-1.6 -1.5 -0.3  0.1  1.4  1.8  2. ]\n",
      "Floor values of the above array elements:\n",
      "[-2. -2. -1.  0.  1.  1.  2.]\n",
      "Ceil values of the above array elements:\n",
      "[-1. -1. -0.  1.  2.  2.  2.]\n"
     ]
    }
   ],
   "source": [
    "import numpy as np\n",
    "x = np.array([-1.6, -1.5, -0.3, 0.1, 1.4, 1.8, 2.0])\n",
    "print(\"Original array:\")\n",
    "print(x)\n",
    "print(\"Floor values of the above array elements:\")\n",
    "print(np.floor(x))\n",
    "print(\"Ceil values of the above array elements:\")\n",
    "print(np.ceil(x))"
   ]
  },
  {
   "cell_type": "markdown",
   "id": "89f4467e",
   "metadata": {},
   "source": [
    "### 9. Write a NumPy program to calculate mean across dimensions, in a 2D NumPy array. \n"
   ]
  },
  {
   "cell_type": "code",
   "execution_count": null,
   "id": "d6ed5b1a",
   "metadata": {},
   "outputs": [],
   "source": []
  },
  {
   "cell_type": "markdown",
   "id": "39637858",
   "metadata": {},
   "source": [
    "### 10.Write a NumPy program to convert angles from degrees to radians for all elements in a given array.\n"
   ]
  },
  {
   "cell_type": "code",
   "execution_count": null,
   "id": "069c8cee",
   "metadata": {},
   "outputs": [],
   "source": []
  },
  {
   "cell_type": "markdown",
   "id": "c88a5900",
   "metadata": {},
   "source": [
    "### 11. What is the use of all and any function in numpy?\n"
   ]
  },
  {
   "cell_type": "code",
   "execution_count": null,
   "id": "43b99518",
   "metadata": {},
   "outputs": [],
   "source": []
  },
  {
   "cell_type": "markdown",
   "id": "90c65e58",
   "metadata": {},
   "source": [
    "### 12. Create a 3x3 matrix with values ranging from 0 to 8\n",
    "[[0 1 2]<br>\n",
    " [3 4 5]<br>\n",
    " [6 7 8]]\n"
   ]
  },
  {
   "cell_type": "code",
   "execution_count": null,
   "id": "45b3209f",
   "metadata": {},
   "outputs": [],
   "source": []
  },
  {
   "cell_type": "markdown",
   "id": "d89ea857",
   "metadata": {},
   "source": [
    "### 13. How to reverse the columns of a 2D array?\n",
    "([[2, 1, 0],<br>\n",
    "[5, 4, 3],<br>\n",
    "[8, 7, 6]])\n"
   ]
  },
  {
   "cell_type": "code",
   "execution_count": null,
   "id": "e4b44aae",
   "metadata": {},
   "outputs": [],
   "source": []
  },
  {
   "cell_type": "markdown",
   "id": "44dc7313",
   "metadata": {},
   "source": [
    "### 14. How to reverse the rows of a 2D array?\n",
    "[[6, 7, 8],<br>\n",
    "[3, 4, 5],<br>\n",
    "[0, 1, 2]]\n",
    "\n"
   ]
  },
  {
   "cell_type": "code",
   "execution_count": null,
   "id": "627bfac7",
   "metadata": {},
   "outputs": [],
   "source": []
  },
  {
   "cell_type": "markdown",
   "id": "2a5cb818",
   "metadata": {},
   "source": [
    "### 15. Find indices of non-zero elements from [1,2,0,0,4,0]\n"
   ]
  },
  {
   "cell_type": "code",
   "execution_count": null,
   "id": "89625d53",
   "metadata": {},
   "outputs": [],
   "source": []
  },
  {
   "cell_type": "markdown",
   "id": "72862f91",
   "metadata": {},
   "source": [
    "### 16. Write a NumPy program to compute the determinant of an array.\n"
   ]
  },
  {
   "cell_type": "code",
   "execution_count": null,
   "id": "7cd35575",
   "metadata": {},
   "outputs": [],
   "source": []
  },
  {
   "cell_type": "markdown",
   "id": "38f92d83",
   "metadata": {},
   "source": [
    "### 17. Write a NumPy program to compute the inverse of a given matrix\n"
   ]
  },
  {
   "cell_type": "code",
   "execution_count": null,
   "id": "5c1bb74d",
   "metadata": {},
   "outputs": [],
   "source": []
  },
  {
   "cell_type": "markdown",
   "id": "8c030f1a",
   "metadata": {},
   "source": [
    "### 18. Create a random vector of size 30 and find the mean value\n"
   ]
  },
  {
   "cell_type": "code",
   "execution_count": null,
   "id": "a9990883",
   "metadata": {},
   "outputs": [],
   "source": []
  },
  {
   "cell_type": "markdown",
   "id": "810e6ef3",
   "metadata": {},
   "source": [
    "### 19. How to extract all numbers between a given range from a NumPy array?\n"
   ]
  },
  {
   "cell_type": "code",
   "execution_count": null,
   "id": "4698d8c7",
   "metadata": {},
   "outputs": [],
   "source": []
  },
  {
   "cell_type": "markdown",
   "id": "7d4a2d36",
   "metadata": {},
   "source": [
    "### 20. Create a 3x3x3 array with random values"
   ]
  },
  {
   "cell_type": "code",
   "execution_count": null,
   "id": "cf565565",
   "metadata": {},
   "outputs": [],
   "source": []
  },
  {
   "cell_type": "markdown",
   "id": "65190974",
   "metadata": {},
   "source": [
    "### 21. Create a 10x10 array with random values and find the minimum and maximum values\n"
   ]
  },
  {
   "cell_type": "code",
   "execution_count": null,
   "id": "43ec5536",
   "metadata": {},
   "outputs": [],
   "source": []
  },
  {
   "cell_type": "markdown",
   "id": "8e550d4e",
   "metadata": {},
   "source": [
    "### 22. Create a 2d array with 1 on the border and 0 inside\n",
    "[[1. 1. 1. 1. 1. 1. 1. 1. 1. 1.]<br>\n",
    "[1. 0. 0. 0. 0. 0. 0. 0. 0. 1.]<br>\n",
    "[1. 0. 0. 0. 0. 0. 0. 0. 0. 1.]<br>\n",
    "[1. 0. 0. 0. 0. 0. 0. 0. 0. 1.]<br>\n",
    "[1. 0. 0. 0. 0. 0. 0. 0. 0. 1.]<br>\n",
    "[1. 0. 0. 0. 0. 0. 0. 0. 0. 1.]<br>\n",
    "[1. 0. 0. 0. 0. 0. 0. 0. 0. 1.]<br>\n",
    "[1. 0. 0. 0. 0. 0. 0. 0. 0. 1.]<br>\n",
    "[1. 0. 0. 0. 0. 0. 0. 0. 0. 1.]<br>\n",
    "[1. 1. 1. 1. 1. 1. 1. 1. 1. 1.]]\n"
   ]
  },
  {
   "cell_type": "code",
   "execution_count": null,
   "id": "ed656fb2",
   "metadata": {},
   "outputs": [],
   "source": []
  },
  {
   "cell_type": "markdown",
   "id": "e2e5e112",
   "metadata": {},
   "source": [
    "### 23. Create a 5x5 matrix with values 1,2,3,4 just below the diagonal\n"
   ]
  },
  {
   "cell_type": "code",
   "execution_count": null,
   "id": "34c4c07f",
   "metadata": {},
   "outputs": [],
   "source": []
  },
  {
   "cell_type": "markdown",
   "id": "f83b907b",
   "metadata": {},
   "source": [
    "### 24. Create a 3x3 identity matrix\n"
   ]
  },
  {
   "cell_type": "code",
   "execution_count": null,
   "id": "e04ea52c",
   "metadata": {},
   "outputs": [],
   "source": []
  },
  {
   "cell_type": "markdown",
   "id": "0f10cef6",
   "metadata": {},
   "source": [
    "### 25. Create a 8x8 matrix and fill it with a checkerboard pattern\n",
    "[[0 1 0 1 0 1 0 1]<br>\n",
    "[1 0 1 0 1 0 1 0]<br>\n",
    "[0 1 0 1 0 1 0 1]<br>\n",
    "[1 0 1 0 1 0 1 0]<br>\n",
    "[0 1 0 1 0 1 0 1]<br>\n",
    "[1 0 1 0 1 0 1 0]<br>\n",
    "[0 1 0 1 0 1 0 1]<br>\n",
    "[1 0 1 0 1 0 1 0]]\n"
   ]
  },
  {
   "cell_type": "code",
   "execution_count": null,
   "id": "0b9a990d",
   "metadata": {},
   "outputs": [],
   "source": []
  },
  {
   "cell_type": "markdown",
   "id": "58b11ed8",
   "metadata": {},
   "source": [
    "### 26. Multiply a 5x3 matrix by a 3x2 matrix (real matrix product) \n"
   ]
  },
  {
   "cell_type": "code",
   "execution_count": null,
   "id": "cb83105e",
   "metadata": {},
   "outputs": [],
   "source": []
  },
  {
   "cell_type": "markdown",
   "id": "1d77976c",
   "metadata": {},
   "source": [
    "### 27. Given a 1D array, negate all elements which are between 3 and 8, in place \n"
   ]
  },
  {
   "cell_type": "code",
   "execution_count": null,
   "id": "ae0cfb11",
   "metadata": {},
   "outputs": [],
   "source": []
  },
  {
   "cell_type": "markdown",
   "id": "813481d5",
   "metadata": {},
   "source": [
    "### 28. How to round away from zero a float array?\n"
   ]
  },
  {
   "cell_type": "code",
   "execution_count": null,
   "id": "52936194",
   "metadata": {},
   "outputs": [],
   "source": []
  },
  {
   "cell_type": "markdown",
   "id": "01c96fb1",
   "metadata": {},
   "source": [
    "### 29. How to find common values between the two arrays?\n"
   ]
  },
  {
   "cell_type": "code",
   "execution_count": null,
   "id": "edf701f7",
   "metadata": {},
   "outputs": [],
   "source": []
  },
  {
   "cell_type": "markdown",
   "id": "f999a3ca",
   "metadata": {},
   "source": [
    "### 30. Create a vector of size 10 with values ranging from 0 to 1, both excluded"
   ]
  },
  {
   "cell_type": "code",
   "execution_count": null,
   "id": "90fb4445",
   "metadata": {},
   "outputs": [],
   "source": []
  },
  {
   "cell_type": "markdown",
   "id": "abd9b620",
   "metadata": {},
   "source": [
    "### 31. Create a random vector of size 10 and sort it\n"
   ]
  },
  {
   "cell_type": "code",
   "execution_count": null,
   "id": "93d3f4a5",
   "metadata": {},
   "outputs": [],
   "source": []
  },
  {
   "cell_type": "markdown",
   "id": "445f959d",
   "metadata": {},
   "source": [
    "### 32. Create a 5x5 matrix with row values ranging from 0 to 4\n",
    "[[0. 1. 2. 3. 4.]<br>\n",
    "[0. 1. 2. 3. 4.]<br>\n",
    "[0. 1. 2. 3. 4.]<br>\n",
    "[0. 1. 2. 3. 4.]<br>\n",
    "[0. 1. 2. 3. 4.]]\n"
   ]
  },
  {
   "cell_type": "code",
   "execution_count": null,
   "id": "a745d6ff",
   "metadata": {},
   "outputs": [],
   "source": []
  },
  {
   "cell_type": "markdown",
   "id": "b7354b2d",
   "metadata": {},
   "source": [
    "### 33. Consider two random arrays A and B, check if they are equal\n"
   ]
  },
  {
   "cell_type": "code",
   "execution_count": null,
   "id": "6f7d3601",
   "metadata": {},
   "outputs": [],
   "source": []
  },
  {
   "cell_type": "markdown",
   "id": "fc3df9e0",
   "metadata": {},
   "source": [
    "### 34. Create a random vector of size 10 and replace the maximum value by 0\n"
   ]
  },
  {
   "cell_type": "code",
   "execution_count": null,
   "id": "a6a506e1",
   "metadata": {},
   "outputs": [],
   "source": []
  },
  {
   "cell_type": "markdown",
   "id": "8eb2b050",
   "metadata": {},
   "source": [
    "### 35. How to find out multiple indices of an item?\n"
   ]
  },
  {
   "cell_type": "code",
   "execution_count": null,
   "id": "4dd7e25f",
   "metadata": {},
   "outputs": [],
   "source": []
  },
  {
   "cell_type": "markdown",
   "id": "bebb6250",
   "metadata": {},
   "source": [
    "### 36. What is the equivalent of enumerate for NumPy arrays?\n"
   ]
  },
  {
   "cell_type": "code",
   "execution_count": null,
   "id": "135e404c",
   "metadata": {},
   "outputs": [],
   "source": []
  },
  {
   "cell_type": "markdown",
   "id": "0c3e7cee",
   "metadata": {},
   "source": [
    "### 37. How to sort an array by the nth column?\n"
   ]
  },
  {
   "cell_type": "code",
   "execution_count": null,
   "id": "5200c526",
   "metadata": {},
   "outputs": [],
   "source": []
  },
  {
   "cell_type": "markdown",
   "id": "96beb293",
   "metadata": {},
   "source": [
    "### 38. How to swap two rows of an array?\n"
   ]
  },
  {
   "cell_type": "code",
   "execution_count": null,
   "id": "11ecd96a",
   "metadata": {},
   "outputs": [],
   "source": []
  },
  {
   "cell_type": "markdown",
   "id": "3373cb4c",
   "metadata": {},
   "source": [
    "### 39. How to compute the mean of a NumPy array?\n"
   ]
  },
  {
   "cell_type": "code",
   "execution_count": null,
   "id": "6caff8e5",
   "metadata": {},
   "outputs": [],
   "source": []
  },
  {
   "cell_type": "markdown",
   "id": "570f24dd",
   "metadata": {},
   "source": [
    "### 40. How to compute the median of a NumPy array?\n"
   ]
  },
  {
   "cell_type": "code",
   "execution_count": null,
   "id": "c3c7f035",
   "metadata": {},
   "outputs": [],
   "source": []
  },
  {
   "cell_type": "markdown",
   "id": "584f50f0",
   "metadata": {},
   "source": [
    "### 41. How to compute the standard deviation of a NumPy array?\n"
   ]
  },
  {
   "cell_type": "code",
   "execution_count": null,
   "id": "3250d341",
   "metadata": {},
   "outputs": [],
   "source": []
  },
  {
   "cell_type": "markdown",
   "id": "e0a4a7de",
   "metadata": {},
   "source": [
    "### 42. How to compute the mode of a NumPy array?\n"
   ]
  },
  {
   "cell_type": "code",
   "execution_count": null,
   "id": "2d88c1b2",
   "metadata": {},
   "outputs": [],
   "source": []
  },
  {
   "cell_type": "markdown",
   "id": "8c5e4731",
   "metadata": {},
   "source": [
    "### 43. How to print only 3 decimal places in a python NumPy array? "
   ]
  },
  {
   "cell_type": "code",
   "execution_count": null,
   "id": "b2912957",
   "metadata": {},
   "outputs": [],
   "source": []
  },
  {
   "cell_type": "markdown",
   "id": "737020ef",
   "metadata": {},
   "source": [
    "### 44. Write a NumPy program to compute the inverse of a given matrix "
   ]
  },
  {
   "cell_type": "code",
   "execution_count": null,
   "id": "35775ffd",
   "metadata": {},
   "outputs": [],
   "source": []
  },
  {
   "cell_type": "markdown",
   "id": "42a40e12",
   "metadata": {},
   "source": [
    "### 45. Write a NumPy program to compute the covariance matrix of two given arrays "
   ]
  },
  {
   "cell_type": "code",
   "execution_count": null,
   "id": "5da8504a",
   "metadata": {},
   "outputs": [],
   "source": []
  },
  {
   "cell_type": "markdown",
   "id": "1e5e708f",
   "metadata": {},
   "source": [
    "### 46. How to find the most frequent value in a NumPy array?\n"
   ]
  },
  {
   "cell_type": "code",
   "execution_count": null,
   "id": "834d1308",
   "metadata": {},
   "outputs": [],
   "source": []
  },
  {
   "cell_type": "markdown",
   "id": "b2f24114",
   "metadata": {},
   "source": [
    "### 47. How to convert 1D array to 3D array?\n"
   ]
  },
  {
   "cell_type": "code",
   "execution_count": null,
   "id": "39db9c61",
   "metadata": {},
   "outputs": [],
   "source": []
  },
  {
   "cell_type": "markdown",
   "id": "32d5256d",
   "metadata": {},
   "source": [
    "### 48. How to convert 4D array to 2D array?\n"
   ]
  },
  {
   "cell_type": "code",
   "execution_count": null,
   "id": "dcb49757",
   "metadata": {},
   "outputs": [],
   "source": []
  },
  {
   "cell_type": "markdown",
   "id": "28bc74f2",
   "metadata": {},
   "source": [
    "### 49. Create a Numpy array filled with all zeros\n"
   ]
  },
  {
   "cell_type": "code",
   "execution_count": null,
   "id": "757547df",
   "metadata": {},
   "outputs": [],
   "source": []
  },
  {
   "cell_type": "markdown",
   "id": "2bc07e0e",
   "metadata": {},
   "source": [
    "### 50. Find the number of rows and columns of a given matrix using NumPy"
   ]
  },
  {
   "cell_type": "code",
   "execution_count": null,
   "id": "28cdc7be",
   "metadata": {},
   "outputs": [],
   "source": []
  }
 ],
 "metadata": {
  "kernelspec": {
   "display_name": "Python 3 (ipykernel)",
   "language": "python",
   "name": "python3"
  },
  "language_info": {
   "codemirror_mode": {
    "name": "ipython",
    "version": 3
   },
   "file_extension": ".py",
   "mimetype": "text/x-python",
   "name": "python",
   "nbconvert_exporter": "python",
   "pygments_lexer": "ipython3",
   "version": "3.9.17"
  }
 },
 "nbformat": 4,
 "nbformat_minor": 5
}
