{
 "cells": [
  {
   "cell_type": "markdown",
   "id": "c52fe72d",
   "metadata": {},
   "source": [
    "#  ASSIGNMENT - 07(Datetime, OS Module, File and Exception Handling)\n",
    "## Solution/Ans  by - Pranav Rode(29) "
   ]
  },
  {
   "cell_type": "markdown",
   "id": "fa8735c9",
   "metadata": {},
   "source": [
    "### 1. Write a Python program to read an entire text file"
   ]
  },
  {
   "cell_type": "code",
   "execution_count": null,
   "id": "14f6b486",
   "metadata": {},
   "outputs": [],
   "source": []
  },
  {
   "cell_type": "markdown",
   "id": "8036a81d",
   "metadata": {},
   "source": [
    "### 2. Write a Python program to read the first n lines of a file"
   ]
  },
  {
   "cell_type": "code",
   "execution_count": null,
   "id": "58a57eb7",
   "metadata": {},
   "outputs": [],
   "source": []
  },
  {
   "cell_type": "markdown",
   "id": "6f41d88a",
   "metadata": {},
   "source": [
    "### 3. Write a Python program to append text to a file and display the text"
   ]
  },
  {
   "cell_type": "code",
   "execution_count": null,
   "id": "8ef8b31e",
   "metadata": {},
   "outputs": [],
   "source": []
  },
  {
   "cell_type": "markdown",
   "id": "3f4bf0a1",
   "metadata": {},
   "source": [
    "### 4. Write a Python program to read the last n lines of a file"
   ]
  },
  {
   "cell_type": "code",
   "execution_count": null,
   "id": "7db1c291",
   "metadata": {},
   "outputs": [],
   "source": []
  },
  {
   "cell_type": "markdown",
   "id": "eeb5bd4a",
   "metadata": {},
   "source": [
    "### 5. Write a Python program to read a file line by line and store it into a list"
   ]
  },
  {
   "cell_type": "code",
   "execution_count": null,
   "id": "924f2583",
   "metadata": {},
   "outputs": [],
   "source": []
  },
  {
   "cell_type": "markdown",
   "id": "6783d69a",
   "metadata": {},
   "source": [
    "### 6. Write a Python program to count the number of lines in a text file"
   ]
  },
  {
   "cell_type": "code",
   "execution_count": null,
   "id": "4a26f4d2",
   "metadata": {},
   "outputs": [],
   "source": []
  },
  {
   "cell_type": "markdown",
   "id": "fca74115",
   "metadata": {},
   "source": [
    "### 7. Write a Python program to count the frequency of words in a file"
   ]
  },
  {
   "cell_type": "code",
   "execution_count": null,
   "id": "e929603e",
   "metadata": {},
   "outputs": [],
   "source": []
  },
  {
   "cell_type": "markdown",
   "id": "ee832355",
   "metadata": {},
   "source": [
    "### 8. Write a Python program to copy the contents of a file to another file"
   ]
  },
  {
   "cell_type": "code",
   "execution_count": null,
   "id": "cc4f930f",
   "metadata": {},
   "outputs": [],
   "source": []
  },
  {
   "cell_type": "markdown",
   "id": "b4d19bba",
   "metadata": {},
   "source": [
    "### 9. Write a Python script to display the various Date Time formats - Go to the editor\n",
    "a) Current date and time <br>\n",
    "b) Current year <br>\n",
    "c) Month of year <br>\n",
    "d) Week number of the year <br>\n",
    "e) Weekday of the week <br>\n",
    "f) Day of year <br>\n",
    "g) Day of the month <br>\n",
    "h) Day of week <br>"
   ]
  },
  {
   "cell_type": "code",
   "execution_count": 2,
   "id": "1164be3d",
   "metadata": {},
   "outputs": [
    {
     "name": "stdout",
     "output_type": "stream",
     "text": [
      "a) Current date and time: 2023-08-25 20:30:26.426967\n",
      "b) Current year: 2023\n",
      "c) Month of year: August\n",
      "d) Week number of the year: 34\n",
      "e) Weekday of the week: Friday\n",
      "f) Day of year: 237\n",
      "g) Day of the month: 25\n",
      "h) Day of the week (0=Sunday, 6=Saturday): 5\n"
     ]
    }
   ],
   "source": [
    "import datetime\n",
    "\n",
    "# Current date and time\n",
    "current_datetime = datetime.datetime.now()\n",
    "print(\"a) Current date and time:\", current_datetime)\n",
    "\n",
    "# Current year\n",
    "current_year = current_datetime.year\n",
    "print(\"b) Current year:\", current_year)\n",
    "\n",
    "# Month of year\n",
    "month_of_year = current_datetime.strftime(\"%B\")\n",
    "print(\"c) Month of year:\", month_of_year)\n",
    "\n",
    "# Week number of the year\n",
    "week_number = current_datetime.strftime(\"%U\")\n",
    "print(\"d) Week number of the year:\", week_number)\n",
    "\n",
    "# Weekday of the week (0=Monday, 6=Sunday)\n",
    "weekday = current_datetime.strftime(\"%A\")\n",
    "print(\"e) Weekday of the week:\", weekday)\n",
    "\n",
    "# Day of year\n",
    "day_of_year = current_datetime.strftime(\"%j\")\n",
    "print(\"f) Day of year:\", day_of_year)\n",
    "\n",
    "# Day of the month\n",
    "day_of_month = current_datetime.strftime(\"%d\")\n",
    "print(\"g) Day of the month:\", day_of_month)\n",
    "\n",
    "# Day of the week (0=Monday, 6=Sunday)\n",
    "day_of_week = current_datetime.strftime(\"%w\")\n",
    "print(\"h) Day of the week (0=Sunday, 6=Saturday):\", day_of_week)\n"
   ]
  },
  {
   "cell_type": "markdown",
   "id": "684e7d3a",
   "metadata": {},
   "source": [
    "### 10. Write a Python program to determine whether a given year is a leap year"
   ]
  },
  {
   "cell_type": "code",
   "execution_count": null,
   "id": "e20d0f47",
   "metadata": {},
   "outputs": [],
   "source": []
  },
  {
   "cell_type": "markdown",
   "id": "0ac039ec",
   "metadata": {},
   "source": [
    "### 11. Write a Python program to convert a string to datetime. Go to the editor\n",
    "○ Sample String : Jan 1 2014 2:43PM <br>\n",
    "○ Expected Output : 2014-07-01 14:43:00"
   ]
  },
  {
   "cell_type": "code",
   "execution_count": null,
   "id": "24809906",
   "metadata": {},
   "outputs": [],
   "source": []
  },
  {
   "cell_type": "markdown",
   "id": "bd9bc1bd",
   "metadata": {},
   "source": [
    "### 12. Write a Python program to subtract five days from current date"
   ]
  },
  {
   "cell_type": "code",
   "execution_count": null,
   "id": "284b048b",
   "metadata": {},
   "outputs": [],
   "source": []
  },
  {
   "cell_type": "markdown",
   "id": "4f123660",
   "metadata": {},
   "source": [
    "### 13. Write a Python program to print yesterday, today, tomorrow"
   ]
  },
  {
   "cell_type": "code",
   "execution_count": null,
   "id": "55b225ae",
   "metadata": {},
   "outputs": [],
   "source": []
  },
  {
   "cell_type": "markdown",
   "id": "8277dbe1",
   "metadata": {},
   "source": [
    "### 14. Write a Python program to print next 5 days starting from today"
   ]
  },
  {
   "cell_type": "code",
   "execution_count": null,
   "id": "e3ae4633",
   "metadata": {},
   "outputs": [],
   "source": []
  },
  {
   "cell_type": "markdown",
   "id": "6ba87c87",
   "metadata": {},
   "source": [
    "### 15. Write a Python program to drop microseconds from DateTime"
   ]
  },
  {
   "cell_type": "code",
   "execution_count": null,
   "id": "808a59e7",
   "metadata": {},
   "outputs": [],
   "source": []
  },
  {
   "cell_type": "markdown",
   "id": "519e42f7",
   "metadata": {},
   "source": [
    "### 16. Write a Python program to find the date of the first Monday of a given week"
   ]
  },
  {
   "cell_type": "code",
   "execution_count": null,
   "id": "a6c3e361",
   "metadata": {},
   "outputs": [],
   "source": []
  },
  {
   "cell_type": "markdown",
   "id": "984e9d0d",
   "metadata": {},
   "source": [
    "### 17. Write a Python program to select all the Sundays of a specified year"
   ]
  },
  {
   "cell_type": "code",
   "execution_count": null,
   "id": "7c37894f",
   "metadata": {},
   "outputs": [],
   "source": []
  },
  {
   "cell_type": "markdown",
   "id": "60ad7502",
   "metadata": {},
   "source": [
    "### 18. Write a Python program to create a file and write some text and rename the file name"
   ]
  },
  {
   "cell_type": "code",
   "execution_count": null,
   "id": "0db247d8",
   "metadata": {},
   "outputs": [],
   "source": []
  },
  {
   "cell_type": "markdown",
   "id": "5eac6589",
   "metadata": {},
   "source": [
    "### 19. What are different methods available in the OS module for creating a directory?"
   ]
  },
  {
   "cell_type": "code",
   "execution_count": null,
   "id": "5ff0015e",
   "metadata": {},
   "outputs": [],
   "source": []
  },
  {
   "cell_type": "markdown",
   "id": "b78f9b2e",
   "metadata": {},
   "source": [
    "### 20. Explain os.listdir() method."
   ]
  },
  {
   "cell_type": "code",
   "execution_count": null,
   "id": "157d2ae4",
   "metadata": {},
   "outputs": [],
   "source": []
  },
  {
   "cell_type": "markdown",
   "id": "711e62c1",
   "metadata": {},
   "source": [
    "### 21. What are different methods for removing directories and files in Python?"
   ]
  },
  {
   "cell_type": "code",
   "execution_count": null,
   "id": "39737575",
   "metadata": {},
   "outputs": [],
   "source": []
  },
  {
   "cell_type": "markdown",
   "id": "60bb34ba",
   "metadata": {},
   "source": [
    "### 22. What are exceptions in Python?"
   ]
  },
  {
   "cell_type": "code",
   "execution_count": null,
   "id": "dd8b48d3",
   "metadata": {},
   "outputs": [],
   "source": []
  },
  {
   "cell_type": "markdown",
   "id": "ae44e7b7",
   "metadata": {},
   "source": [
    "### 23. What are Built-in exceptions?"
   ]
  },
  {
   "cell_type": "code",
   "execution_count": null,
   "id": "cb2a2f59",
   "metadata": {},
   "outputs": [],
   "source": []
  },
  {
   "cell_type": "markdown",
   "id": "53da1631",
   "metadata": {},
   "source": [
    "### 24. What are User-defined Exceptions?"
   ]
  },
  {
   "cell_type": "code",
   "execution_count": null,
   "id": "a4b7cd70",
   "metadata": {},
   "outputs": [],
   "source": []
  },
  {
   "cell_type": "markdown",
   "id": "5ef123cc",
   "metadata": {},
   "source": [
    "### 25. When would you not use try-except?"
   ]
  },
  {
   "cell_type": "code",
   "execution_count": null,
   "id": "c121c17d",
   "metadata": {},
   "outputs": [],
   "source": []
  },
  {
   "cell_type": "markdown",
   "id": "d19817d3",
   "metadata": {},
   "source": [
    "### 26. Can try-except catch the error if a file can’t be opened?"
   ]
  },
  {
   "cell_type": "code",
   "execution_count": null,
   "id": "6f7dde7c",
   "metadata": {},
   "outputs": [],
   "source": []
  }
 ],
 "metadata": {
  "kernelspec": {
   "display_name": "Python 3 (ipykernel)",
   "language": "python",
   "name": "python3"
  },
  "language_info": {
   "codemirror_mode": {
    "name": "ipython",
    "version": 3
   },
   "file_extension": ".py",
   "mimetype": "text/x-python",
   "name": "python",
   "nbconvert_exporter": "python",
   "pygments_lexer": "ipython3",
   "version": "3.11.5"
  }
 },
 "nbformat": 4,
 "nbformat_minor": 5
}
