{
 "cells": [
  {
   "cell_type": "markdown",
   "id": "b4d44d9c",
   "metadata": {},
   "source": [
    "#  ASSIGNMENT - 11(Pandas)\n",
    "## Solution/Ans  by - Pranav Rode(29) "
   ]
  },
  {
   "cell_type": "markdown",
   "id": "b5a0f321",
   "metadata": {},
   "source": [
    "### 1. Define the Pandas/Python pandas?\n"
   ]
  },
  {
   "cell_type": "code",
   "execution_count": null,
   "id": "8acd4ed6",
   "metadata": {},
   "outputs": [],
   "source": [
    "Definition of Pandas/Python pandas:\n",
    "\n",
    "- Pandas is an open-source data manipulation and analysis library for Python. \n",
    "- It provides easy-to-use data structures and functions for working with structured data,\n",
    "such as spreadsheets or SQL tables. \n",
    "- Pandas is built on top of the NumPy library and is particularly well-suited \n",
    "for tasks like data cleaning, transformation, and analysis."
   ]
  },
  {
   "cell_type": "markdown",
   "id": "d4e1d53b",
   "metadata": {},
   "source": [
    "### 2. What are the different types of Data Structures in Pandas?\n"
   ]
  },
  {
   "cell_type": "code",
   "execution_count": null,
   "id": "ee8c1bd1",
   "metadata": {},
   "outputs": [],
   "source": [
    "Different Types of Data Structures in Pandas:\n",
    "\n",
    "Pandas primarily offers two main data structures:\n",
    "\n",
    "a. Series: A one-dimensional labeled array capable of holding any data type. \n",
    "           It is similar to a column in a spreadsheet or a single column in a SQL table.\n",
    "\n",
    "b. DataFrame: A two-dimensional labeled data structure with columns of \n",
    "              potentially different data types. It is like a spreadsheet or \n",
    "              SQL table, where you have rows and columns."
   ]
  },
  {
   "cell_type": "markdown",
   "id": "3ec2871d",
   "metadata": {},
   "source": [
    "### 3. Explain Series and DataFrame In Pandas\n"
   ]
  },
  {
   "cell_type": "code",
   "execution_count": null,
   "id": "c23309b8",
   "metadata": {},
   "outputs": [],
   "source": [
    "Series and DataFrame in Pandas:\n",
    "\n",
    "Series: A Series is essentially a one-dimensional array with labels (index) \n",
    "        for each element. It can hold data of various types (integers, strings, floats, etc.). \n",
    "        You can think of it as a column in a spreadsheet or a single column from a SQL table.\n",
    "\n",
    "DataFrame: A DataFrame is a two-dimensional tabular data structure where data is organized \n",
    "           in rows and columns. Each column can be of a different data type. \n",
    "           It's similar to a spreadsheet or SQL table. \n",
    "           You can perform various data manipulations like filtering, joining, grouping, \n",
    "           and aggregating on DataFrames."
   ]
  },
  {
   "cell_type": "markdown",
   "id": "8d66c921",
   "metadata": {},
   "source": [
    "### 4. How Can You Create An Empty DataFrame and series in Pandas?\n"
   ]
  },
  {
   "cell_type": "code",
   "execution_count": 1,
   "id": "43015d55",
   "metadata": {},
   "outputs": [],
   "source": [
    "# Empty DataFrame:\n",
    "\n",
    "import pandas as pd\n",
    "df = pd.DataFrame()  # Empty dataframe 'df'"
   ]
  },
  {
   "cell_type": "code",
   "execution_count": 2,
   "id": "1fc2eafb",
   "metadata": {},
   "outputs": [
    {
     "name": "stderr",
     "output_type": "stream",
     "text": [
      "C:\\Users\\prana\\AppData\\Local\\Temp\\ipykernel_140\\620040212.py:4: FutureWarning: The default dtype for empty Series will be 'object' instead of 'float64' in a future version. Specify a dtype explicitly to silence this warning.\n",
      "  series = pd.Series()  # Empty Series 'series'\n"
     ]
    }
   ],
   "source": [
    "# Empty Series: \n",
    "\n",
    "import pandas as pd\n",
    "series = pd.Series()  # Empty Series 'series'"
   ]
  },
  {
   "cell_type": "markdown",
   "id": "c2d0e91c",
   "metadata": {},
   "source": [
    "### 5. How to check an empty DataFrame?\n"
   ]
  },
  {
   "cell_type": "code",
   "execution_count": null,
   "id": "3570ed62",
   "metadata": {},
   "outputs": [],
   "source": [
    "To check if a DataFrame is empty, you can use the empty attribute of the DataFrame, \n",
    "which returns a boolean value indicating whether the DataFrame has no data (i.e., it's empty) or not."
   ]
  },
  {
   "cell_type": "code",
   "execution_count": 3,
   "id": "1f98e5fd",
   "metadata": {},
   "outputs": [
    {
     "data": {
      "text/plain": [
       "True"
      ]
     },
     "execution_count": 3,
     "metadata": {},
     "output_type": "execute_result"
    }
   ],
   "source": [
    "# Example:\n",
    "import pandas as pd\n",
    "# Create an empty DataFrame\n",
    "df = pd.DataFrame()\n",
    "# Check if the DataFrame is empty\n",
    "df.empty"
   ]
  },
  {
   "cell_type": "markdown",
   "id": "a0207fac",
   "metadata": {},
   "source": [
    "### 6. What Are The Most Important Features Of The Pandas Library?\n"
   ]
  },
  {
   "cell_type": "code",
   "execution_count": null,
   "id": "7f17f0b0",
   "metadata": {},
   "outputs": [],
   "source": [
    "Most Important Features of the Pandas Library:\n",
    "\n",
    "Pandas is a versatile library with several important features, some of which include:\n",
    "\n",
    "- Data Structures: Pandas provides powerful data structures like Series and DataFrame, \n",
    "                   which make it easy to work with structured data.\n",
    "\n",
    "- Data Cleaning and Preprocessing: It offers functions for handling missing data, filtering, and \n",
    "                                   transforming data, making data cleaning and preprocessing efficient.\n",
    "\n",
    "- Indexing and Selection: Pandas allows for intuitive indexing and selection of \n",
    "                          data elements using labels or positional indexing.\n",
    "\n",
    "- Aggregation and Grouping: You can easily aggregate and group data using Pandas, which is \n",
    "                            crucial for summary statistics and data analysis.\n",
    "\n",
    "- Merging and Joining: Pandas provides various ways to combine and merge data from \n",
    "                       different sources, similar to SQL joins.\n",
    "\n",
    "- Time Series Analysis: It has excellent support for time series data, \n",
    "                        making it suitable for financial and temporal data analysis.\n",
    "\n",
    "- Input/Output: Pandas supports reading and writing data in various formats, \n",
    "                including CSV, Excel, SQL databases, and more.\n",
    "\n",
    "- Plotting: It offers basic data visualization capabilities through integration with Matplotlib.\n",
    "\n",
    "- Flexibility: You can handle data of different types and shapes, \n",
    "               making Pandas flexible for various data analysis tasks."
   ]
  },
  {
   "cell_type": "markdown",
   "id": "817308f4",
   "metadata": {},
   "source": [
    "### 7. How Will You Explain Reindexing In Pandas?\n"
   ]
  },
  {
   "cell_type": "code",
   "execution_count": null,
   "id": "6ea85a2a",
   "metadata": {},
   "outputs": [],
   "source": [
    "Reindexing in Pandas refers to the process of modifying the index (row labels) \n",
    "of a DataFrame or Series to match a new set of labels. \n",
    "It is a fundamental operation in Pandas that allows you to realign \n",
    "the data to a different index, which can be useful for various purposes, such as:\n",
    "\n",
    "- Changing the Order of Rows: You can reorder the rows of your DataFrame \n",
    "                              by specifying a new order for the index.\n",
    "\n",
    "- Introducing Missing Data: If you have a new set of labels, some of the labels in your \n",
    "                            DataFrame may not exist in the new index. Reindexing can introduce \n",
    "                            missing values (NaN) for these labels or handle them based on your specifications.\n",
    "\n",
    "- Alignment: Reindexing can be used to align multiple DataFrames or Series objects \n",
    "             based on a common set of labels. This is particularly useful when \n",
    "             performing operations on multiple data sources with potentially different indexes.\n",
    "\n",
    "The primary method for reindexing in Pandas is the reindex() method. "
   ]
  },
  {
   "cell_type": "code",
   "execution_count": 8,
   "id": "00e11407",
   "metadata": {},
   "outputs": [
    {
     "data": {
      "text/html": [
       "<div>\n",
       "<style scoped>\n",
       "    .dataframe tbody tr th:only-of-type {\n",
       "        vertical-align: middle;\n",
       "    }\n",
       "\n",
       "    .dataframe tbody tr th {\n",
       "        vertical-align: top;\n",
       "    }\n",
       "\n",
       "    .dataframe thead th {\n",
       "        text-align: right;\n",
       "    }\n",
       "</style>\n",
       "<table border=\"1\" class=\"dataframe\">\n",
       "  <thead>\n",
       "    <tr style=\"text-align: right;\">\n",
       "      <th></th>\n",
       "      <th>A</th>\n",
       "      <th>B</th>\n",
       "    </tr>\n",
       "  </thead>\n",
       "  <tbody>\n",
       "    <tr>\n",
       "      <th>row3</th>\n",
       "      <td>3.0</td>\n",
       "      <td>6.0</td>\n",
       "    </tr>\n",
       "    <tr>\n",
       "      <th>row2</th>\n",
       "      <td>2.0</td>\n",
       "      <td>5.0</td>\n",
       "    </tr>\n",
       "    <tr>\n",
       "      <th>row4</th>\n",
       "      <td>NaN</td>\n",
       "      <td>NaN</td>\n",
       "    </tr>\n",
       "  </tbody>\n",
       "</table>\n",
       "</div>"
      ],
      "text/plain": [
       "        A    B\n",
       "row3  3.0  6.0\n",
       "row2  2.0  5.0\n",
       "row4  NaN  NaN"
      ]
     },
     "execution_count": 8,
     "metadata": {},
     "output_type": "execute_result"
    }
   ],
   "source": [
    "# Here's a basic explanation of how to use it:\n",
    "\n",
    "import pandas as pd\n",
    "\n",
    "# Create a sample DataFrame\n",
    "data = {'A': [1, 2, 3], 'B': [4, 5, 6]}\n",
    "df = pd.DataFrame(data, index=['row1', 'row2', 'row3'])\n",
    "\n",
    "# Define a new index\n",
    "new_index = ['row3', 'row2', 'row4']\n",
    "\n",
    "# Reindex the DataFrame\n",
    "df_reindexed = df.reindex(new_index)\n",
    "\n",
    "df_reindexed"
   ]
  },
  {
   "cell_type": "markdown",
   "id": "d8324728",
   "metadata": {},
   "source": [
    "### 8. What are the different ways of creating DataFrame in pandas? Explain with examples.\n"
   ]
  },
  {
   "cell_type": "code",
   "execution_count": null,
   "id": "d4239859",
   "metadata": {},
   "outputs": [],
   "source": [
    "Different Ways of Creating a DataFrame in Pandas:\n",
    "\n",
    "There are several ways to create a DataFrame in Pandas:"
   ]
  },
  {
   "cell_type": "code",
   "execution_count": 10,
   "id": "c701e7ce",
   "metadata": {},
   "outputs": [
    {
     "data": {
      "text/html": [
       "<div>\n",
       "<style scoped>\n",
       "    .dataframe tbody tr th:only-of-type {\n",
       "        vertical-align: middle;\n",
       "    }\n",
       "\n",
       "    .dataframe tbody tr th {\n",
       "        vertical-align: top;\n",
       "    }\n",
       "\n",
       "    .dataframe thead th {\n",
       "        text-align: right;\n",
       "    }\n",
       "</style>\n",
       "<table border=\"1\" class=\"dataframe\">\n",
       "  <thead>\n",
       "    <tr style=\"text-align: right;\">\n",
       "      <th></th>\n",
       "      <th>Name</th>\n",
       "      <th>Age</th>\n",
       "    </tr>\n",
       "  </thead>\n",
       "  <tbody>\n",
       "    <tr>\n",
       "      <th>0</th>\n",
       "      <td>Alice</td>\n",
       "      <td>25</td>\n",
       "    </tr>\n",
       "    <tr>\n",
       "      <th>1</th>\n",
       "      <td>Bob</td>\n",
       "      <td>30</td>\n",
       "    </tr>\n",
       "    <tr>\n",
       "      <th>2</th>\n",
       "      <td>Charlie</td>\n",
       "      <td>35</td>\n",
       "    </tr>\n",
       "  </tbody>\n",
       "</table>\n",
       "</div>"
      ],
      "text/plain": [
       "      Name  Age\n",
       "0    Alice   25\n",
       "1      Bob   30\n",
       "2  Charlie   35"
      ]
     },
     "execution_count": 10,
     "metadata": {},
     "output_type": "execute_result"
    }
   ],
   "source": [
    "# (A) From a Dictionary:\n",
    "import pandas as pd\n",
    "\n",
    "data = {'Name': ['Alice', 'Bob', 'Charlie'],\n",
    "        'Age': [25, 30, 35]}\n",
    "\n",
    "df = pd.DataFrame(data)\n",
    "df"
   ]
  },
  {
   "cell_type": "code",
   "execution_count": 11,
   "id": "f0a332bf",
   "metadata": {},
   "outputs": [
    {
     "data": {
      "text/html": [
       "<div>\n",
       "<style scoped>\n",
       "    .dataframe tbody tr th:only-of-type {\n",
       "        vertical-align: middle;\n",
       "    }\n",
       "\n",
       "    .dataframe tbody tr th {\n",
       "        vertical-align: top;\n",
       "    }\n",
       "\n",
       "    .dataframe thead th {\n",
       "        text-align: right;\n",
       "    }\n",
       "</style>\n",
       "<table border=\"1\" class=\"dataframe\">\n",
       "  <thead>\n",
       "    <tr style=\"text-align: right;\">\n",
       "      <th></th>\n",
       "      <th>Name</th>\n",
       "      <th>Age</th>\n",
       "    </tr>\n",
       "  </thead>\n",
       "  <tbody>\n",
       "    <tr>\n",
       "      <th>0</th>\n",
       "      <td>Alice</td>\n",
       "      <td>25</td>\n",
       "    </tr>\n",
       "    <tr>\n",
       "      <th>1</th>\n",
       "      <td>Bob</td>\n",
       "      <td>30</td>\n",
       "    </tr>\n",
       "    <tr>\n",
       "      <th>2</th>\n",
       "      <td>Charlie</td>\n",
       "      <td>35</td>\n",
       "    </tr>\n",
       "  </tbody>\n",
       "</table>\n",
       "</div>"
      ],
      "text/plain": [
       "      Name  Age\n",
       "0    Alice   25\n",
       "1      Bob   30\n",
       "2  Charlie   35"
      ]
     },
     "execution_count": 11,
     "metadata": {},
     "output_type": "execute_result"
    }
   ],
   "source": [
    "# (B) From a List of Lists:\n",
    "    \n",
    "import pandas as pd\n",
    "\n",
    "data = [['Alice', 25], ['Bob', 30], ['Charlie', 35]]\n",
    "df = pd.DataFrame(data, columns=['Name', 'Age'])\n",
    "df"
   ]
  },
  {
   "cell_type": "code",
   "execution_count": null,
   "id": "f82a1399",
   "metadata": {},
   "outputs": [],
   "source": [
    "# (C) From a CSV File:\n",
    "import pandas as pd\n",
    "\n",
    "df = pd.read_csv('data.csv')"
   ]
  },
  {
   "cell_type": "code",
   "execution_count": 12,
   "id": "db63a662",
   "metadata": {},
   "outputs": [
    {
     "data": {
      "text/html": [
       "<div>\n",
       "<style scoped>\n",
       "    .dataframe tbody tr th:only-of-type {\n",
       "        vertical-align: middle;\n",
       "    }\n",
       "\n",
       "    .dataframe tbody tr th {\n",
       "        vertical-align: top;\n",
       "    }\n",
       "\n",
       "    .dataframe thead th {\n",
       "        text-align: right;\n",
       "    }\n",
       "</style>\n",
       "<table border=\"1\" class=\"dataframe\">\n",
       "  <thead>\n",
       "    <tr style=\"text-align: right;\">\n",
       "      <th></th>\n",
       "      <th>A</th>\n",
       "      <th>B</th>\n",
       "      <th>C</th>\n",
       "    </tr>\n",
       "  </thead>\n",
       "  <tbody>\n",
       "    <tr>\n",
       "      <th>0</th>\n",
       "      <td>1</td>\n",
       "      <td>2</td>\n",
       "      <td>3</td>\n",
       "    </tr>\n",
       "    <tr>\n",
       "      <th>1</th>\n",
       "      <td>4</td>\n",
       "      <td>5</td>\n",
       "      <td>6</td>\n",
       "    </tr>\n",
       "  </tbody>\n",
       "</table>\n",
       "</div>"
      ],
      "text/plain": [
       "   A  B  C\n",
       "0  1  2  3\n",
       "1  4  5  6"
      ]
     },
     "execution_count": 12,
     "metadata": {},
     "output_type": "execute_result"
    }
   ],
   "source": [
    "# (D) From a NumPy Array:\n",
    "\n",
    "import pandas as pd\n",
    "import numpy as np\n",
    "\n",
    "data = np.array([[1, 2, 3], [4, 5, 6]])\n",
    "df = pd.DataFrame(data, columns=['A', 'B', 'C'])\n",
    "df"
   ]
  },
  {
   "cell_type": "markdown",
   "id": "f257058d",
   "metadata": {},
   "source": [
    "### 9. Create a DataFrame using List.\n"
   ]
  },
  {
   "cell_type": "code",
   "execution_count": 13,
   "id": "4a2b4d4d",
   "metadata": {},
   "outputs": [
    {
     "data": {
      "text/html": [
       "<div>\n",
       "<style scoped>\n",
       "    .dataframe tbody tr th:only-of-type {\n",
       "        vertical-align: middle;\n",
       "    }\n",
       "\n",
       "    .dataframe tbody tr th {\n",
       "        vertical-align: top;\n",
       "    }\n",
       "\n",
       "    .dataframe thead th {\n",
       "        text-align: right;\n",
       "    }\n",
       "</style>\n",
       "<table border=\"1\" class=\"dataframe\">\n",
       "  <thead>\n",
       "    <tr style=\"text-align: right;\">\n",
       "      <th></th>\n",
       "      <th>Name</th>\n",
       "      <th>Age</th>\n",
       "    </tr>\n",
       "  </thead>\n",
       "  <tbody>\n",
       "    <tr>\n",
       "      <th>0</th>\n",
       "      <td>Alice</td>\n",
       "      <td>25</td>\n",
       "    </tr>\n",
       "    <tr>\n",
       "      <th>1</th>\n",
       "      <td>Bob</td>\n",
       "      <td>30</td>\n",
       "    </tr>\n",
       "    <tr>\n",
       "      <th>2</th>\n",
       "      <td>Charlie</td>\n",
       "      <td>35</td>\n",
       "    </tr>\n",
       "  </tbody>\n",
       "</table>\n",
       "</div>"
      ],
      "text/plain": [
       "      Name  Age\n",
       "0    Alice   25\n",
       "1      Bob   30\n",
       "2  Charlie   35"
      ]
     },
     "execution_count": 13,
     "metadata": {},
     "output_type": "execute_result"
    }
   ],
   "source": [
    "# Here's an example of creating a DataFrame using a list:\n",
    "import pandas as pd\n",
    "\n",
    "data = [['Alice', 25], ['Bob', 30], ['Charlie', 35]]\n",
    "df = pd.DataFrame(data, columns=['Name', 'Age'])\n",
    "df"
   ]
  },
  {
   "cell_type": "markdown",
   "id": "477ad9d8",
   "metadata": {},
   "source": [
    "### 10. Create a DataFrame using Numpy Functions.\n"
   ]
  },
  {
   "cell_type": "code",
   "execution_count": 16,
   "id": "03978a04",
   "metadata": {},
   "outputs": [
    {
     "data": {
      "text/html": [
       "<div>\n",
       "<style scoped>\n",
       "    .dataframe tbody tr th:only-of-type {\n",
       "        vertical-align: middle;\n",
       "    }\n",
       "\n",
       "    .dataframe tbody tr th {\n",
       "        vertical-align: top;\n",
       "    }\n",
       "\n",
       "    .dataframe thead th {\n",
       "        text-align: right;\n",
       "    }\n",
       "</style>\n",
       "<table border=\"1\" class=\"dataframe\">\n",
       "  <thead>\n",
       "    <tr style=\"text-align: right;\">\n",
       "      <th></th>\n",
       "      <th>A</th>\n",
       "      <th>B</th>\n",
       "      <th>C</th>\n",
       "      <th>D</th>\n",
       "    </tr>\n",
       "  </thead>\n",
       "  <tbody>\n",
       "    <tr>\n",
       "      <th>0</th>\n",
       "      <td>90</td>\n",
       "      <td>65</td>\n",
       "      <td>28</td>\n",
       "      <td>65</td>\n",
       "    </tr>\n",
       "    <tr>\n",
       "      <th>1</th>\n",
       "      <td>95</td>\n",
       "      <td>74</td>\n",
       "      <td>72</td>\n",
       "      <td>60</td>\n",
       "    </tr>\n",
       "    <tr>\n",
       "      <th>2</th>\n",
       "      <td>91</td>\n",
       "      <td>18</td>\n",
       "      <td>52</td>\n",
       "      <td>69</td>\n",
       "    </tr>\n",
       "  </tbody>\n",
       "</table>\n",
       "</div>"
      ],
      "text/plain": [
       "    A   B   C   D\n",
       "0  90  65  28  65\n",
       "1  95  74  72  60\n",
       "2  91  18  52  69"
      ]
     },
     "execution_count": 16,
     "metadata": {},
     "output_type": "execute_result"
    }
   ],
   "source": [
    "# Creating a DataFrame Using NumPy Functions:\n",
    "import pandas as pd\n",
    "import numpy as np\n",
    "\n",
    "data = np.random.randint(0, 100, size=(3, 4))  # Creating a 3x4 array of random integers\n",
    "df = pd.DataFrame(data, columns=['A', 'B', 'C', 'D'])\n",
    "df"
   ]
  },
  {
   "cell_type": "markdown",
   "id": "aa31ed80",
   "metadata": {},
   "source": [
    "### 11. How to convert a NumPy array to a DataFrame of a given shape?\n"
   ]
  },
  {
   "cell_type": "code",
   "execution_count": 17,
   "id": "9a4ac99c",
   "metadata": {},
   "outputs": [
    {
     "data": {
      "text/html": [
       "<div>\n",
       "<style scoped>\n",
       "    .dataframe tbody tr th:only-of-type {\n",
       "        vertical-align: middle;\n",
       "    }\n",
       "\n",
       "    .dataframe tbody tr th {\n",
       "        vertical-align: top;\n",
       "    }\n",
       "\n",
       "    .dataframe thead th {\n",
       "        text-align: right;\n",
       "    }\n",
       "</style>\n",
       "<table border=\"1\" class=\"dataframe\">\n",
       "  <thead>\n",
       "    <tr style=\"text-align: right;\">\n",
       "      <th></th>\n",
       "      <th>A</th>\n",
       "      <th>B</th>\n",
       "      <th>C</th>\n",
       "    </tr>\n",
       "  </thead>\n",
       "  <tbody>\n",
       "    <tr>\n",
       "      <th>0</th>\n",
       "      <td>1</td>\n",
       "      <td>2</td>\n",
       "      <td>3</td>\n",
       "    </tr>\n",
       "    <tr>\n",
       "      <th>1</th>\n",
       "      <td>4</td>\n",
       "      <td>5</td>\n",
       "      <td>6</td>\n",
       "    </tr>\n",
       "  </tbody>\n",
       "</table>\n",
       "</div>"
      ],
      "text/plain": [
       "   A  B  C\n",
       "0  1  2  3\n",
       "1  4  5  6"
      ]
     },
     "execution_count": 17,
     "metadata": {},
     "output_type": "execute_result"
    }
   ],
   "source": [
    "# You can convert a NumPy array to a DataFrame with a given shape using \n",
    "# the reshape() method from NumPy to reshape the array to the desired shape \n",
    "# and then create a DataFrame from it. \n",
    "# Here's an example:\n",
    "\n",
    "import pandas as pd\n",
    "import numpy as np\n",
    "\n",
    "# Create a NumPy array\n",
    "numpy_array = np.array([1, 2, 3, 4, 5, 6])  # Example array\n",
    "\n",
    "# Reshape the NumPy array to the desired shape, e.g., (2, 3)\n",
    "reshaped_array = numpy_array.reshape(2, 3)\n",
    "\n",
    "# Create a DataFrame from the reshaped array\n",
    "df = pd.DataFrame(reshaped_array, columns=['A', 'B', 'C'])\n",
    "df"
   ]
  },
  {
   "cell_type": "markdown",
   "id": "078a7bee",
   "metadata": {},
   "source": [
    "### 12. Create a DataFrame using Dictionary with a list and arrays\n"
   ]
  },
  {
   "cell_type": "code",
   "execution_count": null,
   "id": "55ab9eb4",
   "metadata": {},
   "outputs": [],
   "source": [
    "You can create a DataFrame using a dictionary where \n",
    "the values are lists or arrays. Each key-value pair in \n",
    "the dictionary represents a column in the DataFrame. "
   ]
  },
  {
   "cell_type": "code",
   "execution_count": 25,
   "id": "1d58f53f",
   "metadata": {},
   "outputs": [
    {
     "data": {
      "text/html": [
       "<div>\n",
       "<style scoped>\n",
       "    .dataframe tbody tr th:only-of-type {\n",
       "        vertical-align: middle;\n",
       "    }\n",
       "\n",
       "    .dataframe tbody tr th {\n",
       "        vertical-align: top;\n",
       "    }\n",
       "\n",
       "    .dataframe thead th {\n",
       "        text-align: right;\n",
       "    }\n",
       "</style>\n",
       "<table border=\"1\" class=\"dataframe\">\n",
       "  <thead>\n",
       "    <tr style=\"text-align: right;\">\n",
       "      <th></th>\n",
       "      <th>Name</th>\n",
       "      <th>Age</th>\n",
       "      <th>Scores</th>\n",
       "    </tr>\n",
       "  </thead>\n",
       "  <tbody>\n",
       "    <tr>\n",
       "      <th>0</th>\n",
       "      <td>Alice</td>\n",
       "      <td>25</td>\n",
       "      <td>90</td>\n",
       "    </tr>\n",
       "    <tr>\n",
       "      <th>1</th>\n",
       "      <td>Bob</td>\n",
       "      <td>30</td>\n",
       "      <td>85</td>\n",
       "    </tr>\n",
       "    <tr>\n",
       "      <th>2</th>\n",
       "      <td>Charlie</td>\n",
       "      <td>35</td>\n",
       "      <td>88</td>\n",
       "    </tr>\n",
       "  </tbody>\n",
       "</table>\n",
       "</div>"
      ],
      "text/plain": [
       "      Name  Age  Scores\n",
       "0    Alice   25      90\n",
       "1      Bob   30      85\n",
       "2  Charlie   35      88"
      ]
     },
     "execution_count": 25,
     "metadata": {},
     "output_type": "execute_result"
    }
   ],
   "source": [
    "# Here's an example:\n",
    "\n",
    "import pandas as pd\n",
    "\n",
    "data = { 'Name': ['Alice', 'Bob', 'Charlie'],\n",
    "         'Age': [25, 30, 35],\n",
    "         'Scores': [90, 85, 88]      }\n",
    "\n",
    "df = pd.DataFrame(data)\n",
    "df"
   ]
  },
  {
   "cell_type": "markdown",
   "id": "849855ed",
   "metadata": {},
   "source": [
    "### 13. How To Create A Copy Of The Series and DataFrame in Pandas?\n"
   ]
  },
  {
   "cell_type": "code",
   "execution_count": null,
   "id": "a14c9009",
   "metadata": {},
   "outputs": [],
   "source": [
    "To create a copy of a Series or DataFrame in Pandas, you can use the copy() method. \n",
    "This method creates a deep copy, ensuring that changes made to the original Series \n",
    "or DataFrame do not affect the copy, and vice versa. "
   ]
  },
  {
   "cell_type": "code",
   "execution_count": 26,
   "id": "f71e9f84",
   "metadata": {},
   "outputs": [
    {
     "data": {
      "text/plain": [
       "0    1\n",
       "1    2\n",
       "2    3\n",
       "3    4\n",
       "4    5\n",
       "dtype: int64"
      ]
     },
     "execution_count": 26,
     "metadata": {},
     "output_type": "execute_result"
    }
   ],
   "source": [
    "# Here's how to use it:\n",
    "\n",
    "import pandas as pd\n",
    "\n",
    "# Create a Series\n",
    "original_series = pd.Series([1, 2, 3, 4, 5])\n",
    "\n",
    "# Create a copy of the Series\n",
    "copied_series = original_series.copy()\n",
    "\n",
    "# Modify the original Series\n",
    "original_series[0] = 10\n",
    "\n",
    "# Check the copied Series\n",
    "copied_series"
   ]
  },
  {
   "cell_type": "code",
   "execution_count": 27,
   "id": "d150650e",
   "metadata": {},
   "outputs": [
    {
     "data": {
      "text/html": [
       "<div>\n",
       "<style scoped>\n",
       "    .dataframe tbody tr th:only-of-type {\n",
       "        vertical-align: middle;\n",
       "    }\n",
       "\n",
       "    .dataframe tbody tr th {\n",
       "        vertical-align: top;\n",
       "    }\n",
       "\n",
       "    .dataframe thead th {\n",
       "        text-align: right;\n",
       "    }\n",
       "</style>\n",
       "<table border=\"1\" class=\"dataframe\">\n",
       "  <thead>\n",
       "    <tr style=\"text-align: right;\">\n",
       "      <th></th>\n",
       "      <th>A</th>\n",
       "      <th>B</th>\n",
       "    </tr>\n",
       "  </thead>\n",
       "  <tbody>\n",
       "    <tr>\n",
       "      <th>0</th>\n",
       "      <td>1</td>\n",
       "      <td>4</td>\n",
       "    </tr>\n",
       "    <tr>\n",
       "      <th>1</th>\n",
       "      <td>2</td>\n",
       "      <td>5</td>\n",
       "    </tr>\n",
       "    <tr>\n",
       "      <th>2</th>\n",
       "      <td>3</td>\n",
       "      <td>6</td>\n",
       "    </tr>\n",
       "  </tbody>\n",
       "</table>\n",
       "</div>"
      ],
      "text/plain": [
       "   A  B\n",
       "0  1  4\n",
       "1  2  5\n",
       "2  3  6"
      ]
     },
     "execution_count": 27,
     "metadata": {},
     "output_type": "execute_result"
    }
   ],
   "source": [
    "import pandas as pd\n",
    "\n",
    "# Create a DataFrame\n",
    "data = {'A': [1, 2, 3], 'B': [4, 5, 6]}\n",
    "original_df = pd.DataFrame(data)\n",
    "\n",
    "# Create a copy of the DataFrame\n",
    "copied_df = original_df.copy()\n",
    "\n",
    "# Modify the original DataFrame\n",
    "original_df['A'][0] = 10\n",
    "\n",
    "# Check the copied DataFrame\n",
    "copied_df"
   ]
  },
  {
   "cell_type": "markdown",
   "id": "0177fcbc",
   "metadata": {},
   "source": [
    "### 14. How Will You Add An Index, Row, Or Column To A DataFrame In Pandas?\n"
   ]
  },
  {
   "cell_type": "code",
   "execution_count": null,
   "id": "45586190",
   "metadata": {},
   "outputs": [],
   "source": [
    "1. Adding an Index: You typically don't need to explicitly add an index to a DataFrame, \n",
    "                    as Pandas automatically assigns a default integer-based index (0, 1, 2, ...) \n",
    "                    when you create a DataFrame. However, you can set a specific column as the \n",
    "                    index using the set_index() method:"
   ]
  },
  {
   "cell_type": "code",
   "execution_count": 28,
   "id": "81b6334b",
   "metadata": {},
   "outputs": [
    {
     "data": {
      "text/html": [
       "<div>\n",
       "<style scoped>\n",
       "    .dataframe tbody tr th:only-of-type {\n",
       "        vertical-align: middle;\n",
       "    }\n",
       "\n",
       "    .dataframe tbody tr th {\n",
       "        vertical-align: top;\n",
       "    }\n",
       "\n",
       "    .dataframe thead th {\n",
       "        text-align: right;\n",
       "    }\n",
       "</style>\n",
       "<table border=\"1\" class=\"dataframe\">\n",
       "  <thead>\n",
       "    <tr style=\"text-align: right;\">\n",
       "      <th></th>\n",
       "      <th>Age</th>\n",
       "    </tr>\n",
       "    <tr>\n",
       "      <th>Name</th>\n",
       "      <th></th>\n",
       "    </tr>\n",
       "  </thead>\n",
       "  <tbody>\n",
       "    <tr>\n",
       "      <th>Alice</th>\n",
       "      <td>25</td>\n",
       "    </tr>\n",
       "    <tr>\n",
       "      <th>Bob</th>\n",
       "      <td>30</td>\n",
       "    </tr>\n",
       "    <tr>\n",
       "      <th>Charlie</th>\n",
       "      <td>35</td>\n",
       "    </tr>\n",
       "  </tbody>\n",
       "</table>\n",
       "</div>"
      ],
      "text/plain": [
       "         Age\n",
       "Name        \n",
       "Alice     25\n",
       "Bob       30\n",
       "Charlie   35"
      ]
     },
     "execution_count": 28,
     "metadata": {},
     "output_type": "execute_result"
    }
   ],
   "source": [
    "import pandas as pd\n",
    "\n",
    "# Create a DataFrame\n",
    "data = {'Name': ['Alice', 'Bob', 'Charlie'],\n",
    "        'Age': [25, 30, 35]}\n",
    "\n",
    "df = pd.DataFrame(data)\n",
    "\n",
    "# Set the 'Name' column as the index\n",
    "df = df.set_index('Name')\n",
    "df"
   ]
  },
  {
   "cell_type": "code",
   "execution_count": null,
   "id": "a9b4c60a",
   "metadata": {},
   "outputs": [],
   "source": [
    "2. Adding a Row: To add a new row to a DataFrame, you can use the append() method. \n",
    "                 You need to provide a dictionary with values for each column in the row:"
   ]
  },
  {
   "cell_type": "code",
   "execution_count": 29,
   "id": "04b78a59",
   "metadata": {},
   "outputs": [
    {
     "name": "stderr",
     "output_type": "stream",
     "text": [
      "C:\\Users\\prana\\AppData\\Local\\Temp\\ipykernel_140\\3993540971.py:11: FutureWarning: The frame.append method is deprecated and will be removed from pandas in a future version. Use pandas.concat instead.\n",
      "  df = df.append(new_row, ignore_index=True)\n"
     ]
    },
    {
     "data": {
      "text/html": [
       "<div>\n",
       "<style scoped>\n",
       "    .dataframe tbody tr th:only-of-type {\n",
       "        vertical-align: middle;\n",
       "    }\n",
       "\n",
       "    .dataframe tbody tr th {\n",
       "        vertical-align: top;\n",
       "    }\n",
       "\n",
       "    .dataframe thead th {\n",
       "        text-align: right;\n",
       "    }\n",
       "</style>\n",
       "<table border=\"1\" class=\"dataframe\">\n",
       "  <thead>\n",
       "    <tr style=\"text-align: right;\">\n",
       "      <th></th>\n",
       "      <th>Name</th>\n",
       "      <th>Age</th>\n",
       "    </tr>\n",
       "  </thead>\n",
       "  <tbody>\n",
       "    <tr>\n",
       "      <th>0</th>\n",
       "      <td>Alice</td>\n",
       "      <td>25</td>\n",
       "    </tr>\n",
       "    <tr>\n",
       "      <th>1</th>\n",
       "      <td>Bob</td>\n",
       "      <td>30</td>\n",
       "    </tr>\n",
       "    <tr>\n",
       "      <th>2</th>\n",
       "      <td>Charlie</td>\n",
       "      <td>35</td>\n",
       "    </tr>\n",
       "    <tr>\n",
       "      <th>3</th>\n",
       "      <td>David</td>\n",
       "      <td>28</td>\n",
       "    </tr>\n",
       "  </tbody>\n",
       "</table>\n",
       "</div>"
      ],
      "text/plain": [
       "      Name  Age\n",
       "0    Alice   25\n",
       "1      Bob   30\n",
       "2  Charlie   35\n",
       "3    David   28"
      ]
     },
     "execution_count": 29,
     "metadata": {},
     "output_type": "execute_result"
    }
   ],
   "source": [
    "import pandas as pd\n",
    "\n",
    "# Create a DataFrame\n",
    "data = {'Name': ['Alice', 'Bob', 'Charlie'],\n",
    "        'Age': [25, 30, 35]}\n",
    "\n",
    "df = pd.DataFrame(data)\n",
    "\n",
    "# Add a new row\n",
    "new_row = {'Name': 'David', 'Age': 28}\n",
    "df = df.append(new_row, ignore_index=True)\n",
    "df"
   ]
  },
  {
   "cell_type": "code",
   "execution_count": null,
   "id": "d96afb99",
   "metadata": {},
   "outputs": [],
   "source": [
    "3. Adding a Column: To add a new column to a DataFrame, you can simply \n",
    "                    assign a new Series or list to it. For example:"
   ]
  },
  {
   "cell_type": "code",
   "execution_count": 31,
   "id": "d329dc1a",
   "metadata": {},
   "outputs": [
    {
     "data": {
      "text/html": [
       "<div>\n",
       "<style scoped>\n",
       "    .dataframe tbody tr th:only-of-type {\n",
       "        vertical-align: middle;\n",
       "    }\n",
       "\n",
       "    .dataframe tbody tr th {\n",
       "        vertical-align: top;\n",
       "    }\n",
       "\n",
       "    .dataframe thead th {\n",
       "        text-align: right;\n",
       "    }\n",
       "</style>\n",
       "<table border=\"1\" class=\"dataframe\">\n",
       "  <thead>\n",
       "    <tr style=\"text-align: right;\">\n",
       "      <th></th>\n",
       "      <th>Name</th>\n",
       "      <th>Age</th>\n",
       "      <th>City</th>\n",
       "    </tr>\n",
       "  </thead>\n",
       "  <tbody>\n",
       "    <tr>\n",
       "      <th>0</th>\n",
       "      <td>Alice</td>\n",
       "      <td>25</td>\n",
       "      <td>New York</td>\n",
       "    </tr>\n",
       "    <tr>\n",
       "      <th>1</th>\n",
       "      <td>Bob</td>\n",
       "      <td>30</td>\n",
       "      <td>San Francisco</td>\n",
       "    </tr>\n",
       "    <tr>\n",
       "      <th>2</th>\n",
       "      <td>Charlie</td>\n",
       "      <td>35</td>\n",
       "      <td>Los Angeles</td>\n",
       "    </tr>\n",
       "  </tbody>\n",
       "</table>\n",
       "</div>"
      ],
      "text/plain": [
       "      Name  Age           City\n",
       "0    Alice   25       New York\n",
       "1      Bob   30  San Francisco\n",
       "2  Charlie   35    Los Angeles"
      ]
     },
     "execution_count": 31,
     "metadata": {},
     "output_type": "execute_result"
    }
   ],
   "source": [
    "import pandas as pd\n",
    "\n",
    "# Create a DataFrame\n",
    "data = {'Name': ['Alice', 'Bob', 'Charlie'],\n",
    "        'Age': [25, 30, 35]}\n",
    "\n",
    "df = pd.DataFrame(data)\n",
    "\n",
    "# Add a new 'City' column\n",
    "df['City'] = ['New York', 'San Francisco', 'Los Angeles']\n",
    "df"
   ]
  },
  {
   "cell_type": "markdown",
   "id": "191439b7",
   "metadata": {},
   "source": [
    "### 15. What Method Will You Use To Rename The Index Or Columns Of Pandas DataFrame?\n"
   ]
  },
  {
   "cell_type": "code",
   "execution_count": null,
   "id": "730f8691",
   "metadata": {},
   "outputs": [],
   "source": [
    "To rename the index or columns of a Pandas DataFrame, you can use the rename() method. \n",
    "This method allows you to provide new names for the index or columns, \n",
    "and you can specify whether you want to rename the index, columns, or both. \n",
    "Here's how to use it:"
   ]
  },
  {
   "cell_type": "code",
   "execution_count": null,
   "id": "64a45194",
   "metadata": {},
   "outputs": [],
   "source": [
    "1. Renaming Index: To rename the index of a DataFrame, you can use the \n",
    "                   rename() method with the index parameter."
   ]
  },
  {
   "cell_type": "code",
   "execution_count": 34,
   "id": "a888e18f",
   "metadata": {},
   "outputs": [
    {
     "data": {
      "text/html": [
       "<div>\n",
       "<style scoped>\n",
       "    .dataframe tbody tr th:only-of-type {\n",
       "        vertical-align: middle;\n",
       "    }\n",
       "\n",
       "    .dataframe tbody tr th {\n",
       "        vertical-align: top;\n",
       "    }\n",
       "\n",
       "    .dataframe thead th {\n",
       "        text-align: right;\n",
       "    }\n",
       "</style>\n",
       "<table border=\"1\" class=\"dataframe\">\n",
       "  <thead>\n",
       "    <tr style=\"text-align: right;\">\n",
       "      <th></th>\n",
       "      <th>A</th>\n",
       "      <th>B</th>\n",
       "    </tr>\n",
       "  </thead>\n",
       "  <tbody>\n",
       "    <tr>\n",
       "      <th>Row1</th>\n",
       "      <td>1</td>\n",
       "      <td>4</td>\n",
       "    </tr>\n",
       "    <tr>\n",
       "      <th>Row2</th>\n",
       "      <td>2</td>\n",
       "      <td>5</td>\n",
       "    </tr>\n",
       "    <tr>\n",
       "      <th>Row3</th>\n",
       "      <td>3</td>\n",
       "      <td>6</td>\n",
       "    </tr>\n",
       "  </tbody>\n",
       "</table>\n",
       "</div>"
      ],
      "text/plain": [
       "      A  B\n",
       "Row1  1  4\n",
       "Row2  2  5\n",
       "Row3  3  6"
      ]
     },
     "execution_count": 34,
     "metadata": {},
     "output_type": "execute_result"
    }
   ],
   "source": [
    "# For example:\n",
    "import pandas as pd\n",
    "\n",
    "# Create a DataFrame with an existing index\n",
    "data = {'A': [1, 2, 3], 'B': [4, 5, 6]}\n",
    "df = pd.DataFrame(data, index=['X', 'Y', 'Z'])\n",
    "\n",
    "# Rename the index\n",
    "df = df.rename(index={'X': 'Row1', 'Y': 'Row2', 'Z': 'Row3'})\n",
    "df"
   ]
  },
  {
   "cell_type": "code",
   "execution_count": null,
   "id": "c975c519",
   "metadata": {},
   "outputs": [],
   "source": [
    "2. Renaming Columns: To rename columns in a DataFrame, you can use the \n",
    "                     rename() method with the columns parameter. "
   ]
  },
  {
   "cell_type": "code",
   "execution_count": 35,
   "id": "6bb3e027",
   "metadata": {},
   "outputs": [
    {
     "data": {
      "text/html": [
       "<div>\n",
       "<style scoped>\n",
       "    .dataframe tbody tr th:only-of-type {\n",
       "        vertical-align: middle;\n",
       "    }\n",
       "\n",
       "    .dataframe tbody tr th {\n",
       "        vertical-align: top;\n",
       "    }\n",
       "\n",
       "    .dataframe thead th {\n",
       "        text-align: right;\n",
       "    }\n",
       "</style>\n",
       "<table border=\"1\" class=\"dataframe\">\n",
       "  <thead>\n",
       "    <tr style=\"text-align: right;\">\n",
       "      <th></th>\n",
       "      <th>Column1</th>\n",
       "      <th>Column2</th>\n",
       "    </tr>\n",
       "  </thead>\n",
       "  <tbody>\n",
       "    <tr>\n",
       "      <th>0</th>\n",
       "      <td>1</td>\n",
       "      <td>4</td>\n",
       "    </tr>\n",
       "    <tr>\n",
       "      <th>1</th>\n",
       "      <td>2</td>\n",
       "      <td>5</td>\n",
       "    </tr>\n",
       "    <tr>\n",
       "      <th>2</th>\n",
       "      <td>3</td>\n",
       "      <td>6</td>\n",
       "    </tr>\n",
       "  </tbody>\n",
       "</table>\n",
       "</div>"
      ],
      "text/plain": [
       "   Column1  Column2\n",
       "0        1        4\n",
       "1        2        5\n",
       "2        3        6"
      ]
     },
     "execution_count": 35,
     "metadata": {},
     "output_type": "execute_result"
    }
   ],
   "source": [
    "# For example:\n",
    "import pandas as pd\n",
    "\n",
    "# Create a DataFrame with existing column names\n",
    "data = {'A': [1, 2, 3], 'B': [4, 5, 6]}\n",
    "df = pd.DataFrame(data)\n",
    "\n",
    "# Rename the columns\n",
    "df = df.rename(columns={'A': 'Column1', 'B': 'Column2'})\n",
    "df"
   ]
  },
  {
   "cell_type": "code",
   "execution_count": null,
   "id": "7729bb30",
   "metadata": {},
   "outputs": [],
   "source": [
    "3. Renaming Both Index and Columns: You can also rename both the index and columns \n",
    "                                    simultaneously by providing both index and columns \n",
    "                                    parameters to the rename() method:"
   ]
  },
  {
   "cell_type": "code",
   "execution_count": 10,
   "id": "bb192499",
   "metadata": {},
   "outputs": [
    {
     "data": {
      "text/html": [
       "<div>\n",
       "<style scoped>\n",
       "    .dataframe tbody tr th:only-of-type {\n",
       "        vertical-align: middle;\n",
       "    }\n",
       "\n",
       "    .dataframe tbody tr th {\n",
       "        vertical-align: top;\n",
       "    }\n",
       "\n",
       "    .dataframe thead th {\n",
       "        text-align: right;\n",
       "    }\n",
       "</style>\n",
       "<table border=\"1\" class=\"dataframe\">\n",
       "  <thead>\n",
       "    <tr style=\"text-align: right;\">\n",
       "      <th></th>\n",
       "      <th>Column1</th>\n",
       "      <th>Column2</th>\n",
       "    </tr>\n",
       "  </thead>\n",
       "  <tbody>\n",
       "    <tr>\n",
       "      <th>Row1</th>\n",
       "      <td>1</td>\n",
       "      <td>4</td>\n",
       "    </tr>\n",
       "    <tr>\n",
       "      <th>Row2</th>\n",
       "      <td>2</td>\n",
       "      <td>5</td>\n",
       "    </tr>\n",
       "    <tr>\n",
       "      <th>Row3</th>\n",
       "      <td>3</td>\n",
       "      <td>6</td>\n",
       "    </tr>\n",
       "  </tbody>\n",
       "</table>\n",
       "</div>"
      ],
      "text/plain": [
       "      Column1  Column2\n",
       "Row1        1        4\n",
       "Row2        2        5\n",
       "Row3        3        6"
      ]
     },
     "execution_count": 10,
     "metadata": {},
     "output_type": "execute_result"
    }
   ],
   "source": [
    "# For example:\n",
    "import pandas as pd\n",
    "\n",
    "# Create a DataFrame with an existing index and columns\n",
    "data = {'A': [1, 2, 3], 'B': [4, 5, 6]}\n",
    "df = pd.DataFrame(data, index=['X', 'Y', 'Z'])\n",
    "\n",
    "# Rename both index and columns\n",
    "df = df.rename(index={'X': 'Row1', 'Y': 'Row2', 'Z': 'Row3'},\n",
    "               columns={'A': 'Column1', 'B': 'Column2'})\n",
    "\n",
    "df"
   ]
  },
  {
   "cell_type": "markdown",
   "id": "cb757836",
   "metadata": {},
   "source": [
    "### 16. How Can You Iterate Over DataFrame In Pandas?\n"
   ]
  },
  {
   "cell_type": "code",
   "execution_count": 19,
   "id": "e20530b2",
   "metadata": {},
   "outputs": [
    {
     "data": {
      "text/html": [
       "<div>\n",
       "<style scoped>\n",
       "    .dataframe tbody tr th:only-of-type {\n",
       "        vertical-align: middle;\n",
       "    }\n",
       "\n",
       "    .dataframe tbody tr th {\n",
       "        vertical-align: top;\n",
       "    }\n",
       "\n",
       "    .dataframe thead th {\n",
       "        text-align: right;\n",
       "    }\n",
       "</style>\n",
       "<table border=\"1\" class=\"dataframe\">\n",
       "  <thead>\n",
       "    <tr style=\"text-align: right;\">\n",
       "      <th></th>\n",
       "      <th>Name</th>\n",
       "      <th>Age</th>\n",
       "    </tr>\n",
       "  </thead>\n",
       "  <tbody>\n",
       "    <tr>\n",
       "      <th>0</th>\n",
       "      <td>Alice</td>\n",
       "      <td>25</td>\n",
       "    </tr>\n",
       "    <tr>\n",
       "      <th>1</th>\n",
       "      <td>Bob</td>\n",
       "      <td>30</td>\n",
       "    </tr>\n",
       "    <tr>\n",
       "      <th>2</th>\n",
       "      <td>Charlie</td>\n",
       "      <td>35</td>\n",
       "    </tr>\n",
       "  </tbody>\n",
       "</table>\n",
       "</div>"
      ],
      "text/plain": [
       "      Name  Age\n",
       "0    Alice   25\n",
       "1      Bob   30\n",
       "2  Charlie   35"
      ]
     },
     "execution_count": 19,
     "metadata": {},
     "output_type": "execute_result"
    }
   ],
   "source": [
    "import pandas as pd\n",
    "\n",
    "# Create a sample DataFrame\n",
    "data = {'Name': ['Alice', 'Bob', 'Charlie'],\n",
    "        'Age': [25, 30, 35]}\n",
    "\n",
    "df = pd.DataFrame(data)\n",
    "df"
   ]
  },
  {
   "cell_type": "code",
   "execution_count": 27,
   "id": "1e8cf483",
   "metadata": {},
   "outputs": [
    {
     "name": "stdout",
     "output_type": "stream",
     "text": [
      "0\n",
      "Alice 25\n",
      "1\n",
      "Bob 30\n",
      "2\n",
      "Charlie 35\n"
     ]
    }
   ],
   "source": [
    "# Using iterrows()\n",
    "for index, row in df.iterrows():\n",
    "    # Access data using row['column_name']\n",
    "    print(index)\n",
    "    print(row.Name, row.Age)"
   ]
  },
  {
   "cell_type": "code",
   "execution_count": 40,
   "id": "f79247a1",
   "metadata": {},
   "outputs": [
    {
     "name": "stdout",
     "output_type": "stream",
     "text": [
      "Alice 25\n",
      "Bob 30\n",
      "Charlie 35\n"
     ]
    }
   ],
   "source": [
    "# Using itertuples()\n",
    "for row in df.itertuples():\n",
    "    # Access data using row.column_name\n",
    "    print(row.Name, row.Age)"
   ]
  },
  {
   "cell_type": "code",
   "execution_count": 43,
   "id": "0c84d0dc",
   "metadata": {},
   "outputs": [
    {
     "name": "stdout",
     "output_type": "stream",
     "text": [
      "Name\n",
      "0      Alice\n",
      "1        Bob\n",
      "2    Charlie\n",
      "Name: Name, dtype: object\n",
      "Age\n",
      "0    25\n",
      "1    30\n",
      "2    35\n",
      "Name: Age, dtype: int64\n"
     ]
    }
   ],
   "source": [
    "# Using items() or iteritems() \n",
    "for column, values in df.items():\n",
    "    # Access data using values\n",
    "    print(column)\n",
    "    print(values)"
   ]
  },
  {
   "cell_type": "code",
   "execution_count": 47,
   "id": "357e055b",
   "metadata": {},
   "outputs": [
    {
     "data": {
      "text/plain": [
       "['Alice', 'Bob', 'Charlie']"
      ]
     },
     "execution_count": 47,
     "metadata": {},
     "output_type": "execute_result"
    }
   ],
   "source": [
    "# Using List Comprehension\n",
    "[value for value in df['Name']]  # Iterate over a column"
   ]
  },
  {
   "cell_type": "code",
   "execution_count": 48,
   "id": "a581fd7d",
   "metadata": {},
   "outputs": [
    {
     "data": {
      "text/html": [
       "<div>\n",
       "<style scoped>\n",
       "    .dataframe tbody tr th:only-of-type {\n",
       "        vertical-align: middle;\n",
       "    }\n",
       "\n",
       "    .dataframe tbody tr th {\n",
       "        vertical-align: top;\n",
       "    }\n",
       "\n",
       "    .dataframe thead th {\n",
       "        text-align: right;\n",
       "    }\n",
       "</style>\n",
       "<table border=\"1\" class=\"dataframe\">\n",
       "  <thead>\n",
       "    <tr style=\"text-align: right;\">\n",
       "      <th></th>\n",
       "      <th>Name</th>\n",
       "      <th>Age</th>\n",
       "    </tr>\n",
       "  </thead>\n",
       "  <tbody>\n",
       "    <tr>\n",
       "      <th>0</th>\n",
       "      <td>Alice</td>\n",
       "      <td>25</td>\n",
       "    </tr>\n",
       "    <tr>\n",
       "      <th>1</th>\n",
       "      <td>Bob</td>\n",
       "      <td>30</td>\n",
       "    </tr>\n",
       "    <tr>\n",
       "      <th>2</th>\n",
       "      <td>Charlie</td>\n",
       "      <td>35</td>\n",
       "    </tr>\n",
       "  </tbody>\n",
       "</table>\n",
       "</div>"
      ],
      "text/plain": [
       "      Name  Age\n",
       "0    Alice   25\n",
       "1      Bob   30\n",
       "2  Charlie   35"
      ]
     },
     "execution_count": 48,
     "metadata": {},
     "output_type": "execute_result"
    }
   ],
   "source": [
    "# Using filter()\n",
    "df.filter(items=['Name','Age'])  # Select specific columns"
   ]
  },
  {
   "cell_type": "code",
   "execution_count": null,
   "id": "b3e1af5f",
   "metadata": {},
   "outputs": [],
   "source": [
    "apply(): Applies a function along either the rows (axis=1) or columns (axis=0) of the DataFrame.\n",
    "df.apply(function, axis=1)  # Apply function to each row\n",
    "df.apply(function, axis=0)  # Apply function to each column"
   ]
  },
  {
   "cell_type": "code",
   "execution_count": null,
   "id": "f69f75e5",
   "metadata": {},
   "outputs": [],
   "source": [
    "applymap(): Applies a function element-wise to all elements in the DataFrame.\n",
    "df.applymap(function)  # Apply function to each element"
   ]
  },
  {
   "cell_type": "markdown",
   "id": "6882d892",
   "metadata": {},
   "source": [
    "### 17. How to create an array from DataFrame\n"
   ]
  },
  {
   "cell_type": "code",
   "execution_count": 10,
   "id": "c0a8acdb",
   "metadata": {},
   "outputs": [
    {
     "name": "stdout",
     "output_type": "stream",
     "text": [
      "\n",
      "Numpy Array\n",
      "----------\n",
      " [['Alice' 25]\n",
      " ['Bob' 30]\n",
      " ['Charlie' 35]]\n",
      "<class 'numpy.ndarray'>\n"
     ]
    }
   ],
   "source": [
    "import pandas as pd\n",
    "\n",
    "# Create a sample DataFrame\n",
    "data = pd.DataFrame( {'Name': ['Alice', 'Bob', 'Charlie'],\n",
    "                      'Age': [25, 30, 35]} )\n",
    "\n",
    "df = data\n",
    "arr = df.to_numpy()\n",
    "print('\\nNumpy Array\\n----------\\n', arr)\n",
    "print(type(arr))"
   ]
  },
  {
   "cell_type": "code",
   "execution_count": 11,
   "id": "1467b44b",
   "metadata": {},
   "outputs": [
    {
     "name": "stdout",
     "output_type": "stream",
     "text": [
      "\n",
      "Numpy Array\n",
      "----------\n",
      " [[ 1  2  3]\n",
      " [ 4  5  6]\n",
      " [ 7  8  9]\n",
      " [10 11 12]]\n",
      "<class 'numpy.ndarray'>\n"
     ]
    }
   ],
   "source": [
    "import pandas as pd\n",
    "\n",
    "# initialize a dataframe\n",
    "df = pd.DataFrame(\n",
    "    [[1, 2, 3],\n",
    "     [4, 5, 6],\n",
    "     [7, 8, 9],\n",
    "     [10, 11, 12]],\n",
    "    columns=['a', 'b', 'c'])\n",
    "\n",
    "# convert dataframe to numpy array\n",
    "arr = df.to_numpy()\n",
    "\n",
    "print('\\nNumpy Array\\n----------\\n', arr)\n",
    "print(type(arr))"
   ]
  },
  {
   "cell_type": "markdown",
   "id": "a225d5c3",
   "metadata": {},
   "source": [
    "### 18. How to create a list from DataFrame\n"
   ]
  },
  {
   "cell_type": "code",
   "execution_count": 13,
   "id": "64e415d6",
   "metadata": {},
   "outputs": [
    {
     "data": {
      "text/plain": [
       "[['Tablet', 250], ['Printer', 100], ['Laptop', 1200], ['Monitor', 300]]"
      ]
     },
     "execution_count": 13,
     "metadata": {},
     "output_type": "execute_result"
    }
   ],
   "source": [
    "import pandas as pd\n",
    "\n",
    "df = pd.DataFrame({'product': ['Tablet', 'Printer', 'Laptop', 'Monitor'],\n",
    "        'price': [250, 100, 1200, 300]\n",
    "        })\n",
    "\n",
    "products_list = df.values.tolist()\n",
    "products_list"
   ]
  },
  {
   "cell_type": "markdown",
   "id": "864780e4",
   "metadata": {},
   "source": [
    "### 19. How to Reset the dataframes index?\n"
   ]
  },
  {
   "cell_type": "code",
   "execution_count": 18,
   "id": "22654c30",
   "metadata": {},
   "outputs": [
    {
     "data": {
      "text/html": [
       "<div>\n",
       "<style scoped>\n",
       "    .dataframe tbody tr th:only-of-type {\n",
       "        vertical-align: middle;\n",
       "    }\n",
       "\n",
       "    .dataframe tbody tr th {\n",
       "        vertical-align: top;\n",
       "    }\n",
       "\n",
       "    .dataframe thead th {\n",
       "        text-align: right;\n",
       "    }\n",
       "</style>\n",
       "<table border=\"1\" class=\"dataframe\">\n",
       "  <thead>\n",
       "    <tr style=\"text-align: right;\">\n",
       "      <th></th>\n",
       "      <th>Name</th>\n",
       "      <th>Age</th>\n",
       "      <th>Address</th>\n",
       "      <th>Qualification</th>\n",
       "    </tr>\n",
       "  </thead>\n",
       "  <tbody>\n",
       "    <tr>\n",
       "      <th>0</th>\n",
       "      <td>Jai</td>\n",
       "      <td>27</td>\n",
       "      <td>Delhi</td>\n",
       "      <td>Msc</td>\n",
       "    </tr>\n",
       "    <tr>\n",
       "      <th>1</th>\n",
       "      <td>Princi</td>\n",
       "      <td>24</td>\n",
       "      <td>Kanpur</td>\n",
       "      <td>MA</td>\n",
       "    </tr>\n",
       "    <tr>\n",
       "      <th>2</th>\n",
       "      <td>Gaurav</td>\n",
       "      <td>22</td>\n",
       "      <td>Allahabad</td>\n",
       "      <td>MCA</td>\n",
       "    </tr>\n",
       "    <tr>\n",
       "      <th>3</th>\n",
       "      <td>Anuj</td>\n",
       "      <td>32</td>\n",
       "      <td>Kannauj</td>\n",
       "      <td>Phd</td>\n",
       "    </tr>\n",
       "    <tr>\n",
       "      <th>4</th>\n",
       "      <td>Geeku</td>\n",
       "      <td>15</td>\n",
       "      <td>Noida</td>\n",
       "      <td>10th</td>\n",
       "    </tr>\n",
       "  </tbody>\n",
       "</table>\n",
       "</div>"
      ],
      "text/plain": [
       "     Name  Age    Address Qualification\n",
       "0     Jai   27      Delhi           Msc\n",
       "1  Princi   24     Kanpur            MA\n",
       "2  Gaurav   22  Allahabad           MCA\n",
       "3    Anuj   32    Kannauj           Phd\n",
       "4   Geeku   15      Noida          10th"
      ]
     },
     "execution_count": 18,
     "metadata": {},
     "output_type": "execute_result"
    }
   ],
   "source": [
    "import pandas as pd\n",
    " \n",
    "# Create own index\n",
    "index = ['a', 'b', 'c', 'd', 'e']\n",
    " \n",
    "# Convert the dictionary into DataFrame\n",
    "# Make Own Index and Removing Default index\n",
    "df = pd.DataFrame({'Name':['Jai', 'Princi', 'Gaurav', 'Anuj', 'Geeku'],\n",
    "                    'Age':[27, 24, 22, 32, 15],\n",
    "                    'Address':['Delhi', 'Kanpur', 'Allahabad', 'Kannauj', 'Noida'],\n",
    "                    'Qualification':['Msc', 'MA', 'MCA', 'Phd', '10th'] }, \n",
    "                     index)\n",
    "df.reset_index(inplace = True, drop = True) \n",
    "df"
   ]
  },
  {
   "cell_type": "markdown",
   "id": "3f0d0c41",
   "metadata": {},
   "source": [
    "### 20. Write a Pandas program to count the number of rows and columns of a DataFrame\n"
   ]
  },
  {
   "cell_type": "code",
   "execution_count": 39,
   "id": "e8ae4cc8",
   "metadata": {},
   "outputs": [
    {
     "name": "stdout",
     "output_type": "stream",
     "text": [
      "Number of rows: 5\n",
      "Number of columns: 4\n"
     ]
    }
   ],
   "source": [
    "# Using shape()\n",
    "import pandas as pd\n",
    "df = pd.DataFrame({'Name':['Jai', 'Princi', 'Gaurav', 'Anuj', 'Geeku'],\n",
    "                    'Age':[27, 24, 22, 32, 15],\n",
    "                    'Address':['Delhi', 'Kanpur', 'Allahabad', 'Kannauj', 'Noida'],\n",
    "                    'Qualification':['Msc', 'MA', 'MCA', 'Phd', '10th'] } \n",
    "                     )\n",
    "print(\"Number of rows:\",df.shape[0])\n",
    "print(\"Number of columns:\",df.shape[1])"
   ]
  },
  {
   "cell_type": "code",
   "execution_count": 40,
   "id": "21dd66fe",
   "metadata": {},
   "outputs": [
    {
     "name": "stdout",
     "output_type": "stream",
     "text": [
      "Number of rows: 5\n",
      "Number of columns: 4\n"
     ]
    }
   ],
   "source": [
    "# Using len() and index()\n",
    "import pandas as pd\n",
    "df = pd.DataFrame({'Name':['Jai', 'Princi', 'Gaurav', 'Anuj', 'Geeku'],\n",
    "                    'Age':[27, 24, 22, 32, 15],\n",
    "                    'Address':['Delhi', 'Kanpur', 'Allahabad', 'Kannauj', 'Noida'],\n",
    "                    'Qualification':['Msc', 'MA', 'MCA', 'Phd', '10th'] } \n",
    "                     )\n",
    "\n",
    "rows = len(df.index)\n",
    "columns = len(df.columns)\n",
    "\n",
    "print(\"Number of rows:\", rows)\n",
    "print(\"Number of columns:\", columns)"
   ]
  },
  {
   "cell_type": "markdown",
   "id": "6140a30d",
   "metadata": {},
   "source": [
    "### 21. Write a Pandas program to add, subtract, multiple, and divide two Pandas Series\n"
   ]
  },
  {
   "cell_type": "code",
   "execution_count": 61,
   "id": "6f8b0e18",
   "metadata": {},
   "outputs": [
    {
     "name": "stdout",
     "output_type": "stream",
     "text": [
      "df1 0    [13, 17, 28, 6, 25]\n",
      "dtype: object\n",
      "df2 0    [27, 25, 34, 4, 23]\n",
      "dtype: object\n",
      "Addition: 0    [40, 42, 62, 10, 48]\n",
      "dtype: object\n",
      "Subtraction: 0    [-14, -8, -6, 2, 2]\n",
      "dtype: object\n",
      "Multiplication: 0    [351, 425, 952, 24, 575]\n",
      "dtype: object\n",
      "Division: 0    [0.48148148148148145, 0.68, 0.8235294117647058...\n",
      "dtype: object\n"
     ]
    }
   ],
   "source": [
    "import pandas as pd\n",
    "import numpy as np\n",
    "df1 = pd.Series([np.random.randint(1,35,5)])\n",
    "df2 = pd.Series([np.random.randint(1,35,5)])\n",
    "print(\"df1\",df1)\n",
    "print(\"df2\",df2)\n",
    "\n",
    "print(\"Addition:\",df1+df2)\n",
    "print(\"Subtraction:\",df1-df2)\n",
    "print(\"Multiplication:\",df1*df2)\n",
    "print(\"Division:\",df1/df2)"
   ]
  },
  {
   "cell_type": "markdown",
   "id": "9c983235",
   "metadata": {},
   "source": [
    "### 22. Write a Pandas program to import excel data into a Pandas dataframe\n"
   ]
  },
  {
   "cell_type": "code",
   "execution_count": 8,
   "id": "5526fa23",
   "metadata": {},
   "outputs": [
    {
     "data": {
      "text/html": [
       "<div>\n",
       "<style scoped>\n",
       "    .dataframe tbody tr th:only-of-type {\n",
       "        vertical-align: middle;\n",
       "    }\n",
       "\n",
       "    .dataframe tbody tr th {\n",
       "        vertical-align: top;\n",
       "    }\n",
       "\n",
       "    .dataframe thead th {\n",
       "        text-align: right;\n",
       "    }\n",
       "</style>\n",
       "<table border=\"1\" class=\"dataframe\">\n",
       "  <thead>\n",
       "    <tr style=\"text-align: right;\">\n",
       "      <th></th>\n",
       "      <th>Emp ID</th>\n",
       "      <th>First Name</th>\n",
       "      <th>Age in Yrs</th>\n",
       "      <th>Weight in Kgs</th>\n",
       "      <th>Age in Company</th>\n",
       "      <th>Salary</th>\n",
       "      <th>City</th>\n",
       "    </tr>\n",
       "  </thead>\n",
       "  <tbody>\n",
       "    <tr>\n",
       "      <th>0</th>\n",
       "      <td>677509</td>\n",
       "      <td>Lois</td>\n",
       "      <td>36.36</td>\n",
       "      <td>60</td>\n",
       "      <td>13.68</td>\n",
       "      <td>168251</td>\n",
       "      <td>Denver</td>\n",
       "    </tr>\n",
       "    <tr>\n",
       "      <th>1</th>\n",
       "      <td>940761</td>\n",
       "      <td>Brenda</td>\n",
       "      <td>47.02</td>\n",
       "      <td>60</td>\n",
       "      <td>9.01</td>\n",
       "      <td>51063</td>\n",
       "      <td>Stonewall</td>\n",
       "    </tr>\n",
       "    <tr>\n",
       "      <th>2</th>\n",
       "      <td>428945</td>\n",
       "      <td>Joe</td>\n",
       "      <td>54.15</td>\n",
       "      <td>68</td>\n",
       "      <td>0.98</td>\n",
       "      <td>50155</td>\n",
       "      <td>Michigantown</td>\n",
       "    </tr>\n",
       "    <tr>\n",
       "      <th>3</th>\n",
       "      <td>408351</td>\n",
       "      <td>Diane</td>\n",
       "      <td>39.67</td>\n",
       "      <td>51</td>\n",
       "      <td>18.30</td>\n",
       "      <td>180294</td>\n",
       "      <td>Hydetown</td>\n",
       "    </tr>\n",
       "    <tr>\n",
       "      <th>4</th>\n",
       "      <td>193819</td>\n",
       "      <td>Benjamin</td>\n",
       "      <td>40.31</td>\n",
       "      <td>58</td>\n",
       "      <td>4.01</td>\n",
       "      <td>117642</td>\n",
       "      <td>Fremont</td>\n",
       "    </tr>\n",
       "  </tbody>\n",
       "</table>\n",
       "</div>"
      ],
      "text/plain": [
       "   Emp ID First Name  Age in Yrs  Weight in Kgs  Age in Company  Salary  \\\n",
       "0  677509       Lois       36.36             60           13.68  168251   \n",
       "1  940761     Brenda       47.02             60            9.01   51063   \n",
       "2  428945        Joe       54.15             68            0.98   50155   \n",
       "3  408351      Diane       39.67             51           18.30  180294   \n",
       "4  193819   Benjamin       40.31             58            4.01  117642   \n",
       "\n",
       "           City  \n",
       "0        Denver  \n",
       "1     Stonewall  \n",
       "2  Michigantown  \n",
       "3      Hydetown  \n",
       "4       Fremont  "
      ]
     },
     "execution_count": 8,
     "metadata": {},
     "output_type": "execute_result"
    }
   ],
   "source": [
    "import pandas as pd\n",
    "# Use pandas.read_excel() to read the Excel file into a DataFrame\n",
    "# You can specify the sheet_name if your Excel file has multiple sheets.\n",
    "# By default, it reads the first sheet.\n",
    "sheet_1 = \"Emp_Records\"\n",
    "sheet_2 = \"emp_salary\"\n",
    "sheet_3 = \"emp_names\"\n",
    "df = pd.read_excel(r\"C:\\Users\\prana\\DS - Python\\datasets\\Emp_Records.xlsx\",  sheet_name=sheet_1 )\n",
    "\n",
    "# Now, you can work with the 'df' DataFrame as needed\n",
    "# For example, you can display the first few rows of the DataFrame\n",
    "df.head()"
   ]
  },
  {
   "cell_type": "markdown",
   "id": "4e49e5a0",
   "metadata": {},
   "source": [
    "### 23. Write a Pandas program to read specific columns from a given excel file\n"
   ]
  },
  {
   "cell_type": "code",
   "execution_count": 9,
   "id": "e3eb07a2",
   "metadata": {},
   "outputs": [
    {
     "data": {
      "text/html": [
       "<div>\n",
       "<style scoped>\n",
       "    .dataframe tbody tr th:only-of-type {\n",
       "        vertical-align: middle;\n",
       "    }\n",
       "\n",
       "    .dataframe tbody tr th {\n",
       "        vertical-align: top;\n",
       "    }\n",
       "\n",
       "    .dataframe thead th {\n",
       "        text-align: right;\n",
       "    }\n",
       "</style>\n",
       "<table border=\"1\" class=\"dataframe\">\n",
       "  <thead>\n",
       "    <tr style=\"text-align: right;\">\n",
       "      <th></th>\n",
       "      <th>First Name</th>\n",
       "      <th>Salary</th>\n",
       "    </tr>\n",
       "  </thead>\n",
       "  <tbody>\n",
       "    <tr>\n",
       "      <th>0</th>\n",
       "      <td>Lois</td>\n",
       "      <td>168251</td>\n",
       "    </tr>\n",
       "    <tr>\n",
       "      <th>1</th>\n",
       "      <td>Brenda</td>\n",
       "      <td>51063</td>\n",
       "    </tr>\n",
       "    <tr>\n",
       "      <th>2</th>\n",
       "      <td>Joe</td>\n",
       "      <td>50155</td>\n",
       "    </tr>\n",
       "    <tr>\n",
       "      <th>3</th>\n",
       "      <td>Diane</td>\n",
       "      <td>180294</td>\n",
       "    </tr>\n",
       "    <tr>\n",
       "      <th>4</th>\n",
       "      <td>Benjamin</td>\n",
       "      <td>117642</td>\n",
       "    </tr>\n",
       "  </tbody>\n",
       "</table>\n",
       "</div>"
      ],
      "text/plain": [
       "  First Name  Salary\n",
       "0       Lois  168251\n",
       "1     Brenda   51063\n",
       "2        Joe   50155\n",
       "3      Diane  180294\n",
       "4   Benjamin  117642"
      ]
     },
     "execution_count": 9,
     "metadata": {},
     "output_type": "execute_result"
    }
   ],
   "source": [
    "import pandas as pd\n",
    "# Use pandas.read_excel() to read the Excel file into a DataFrame\n",
    "# You can specify the sheet_name if your Excel file has multiple sheets.\n",
    "# By default, it reads the first sheet.\n",
    "sheet_1 = \"Emp_Records\"\n",
    "sheet_2 = \"emp_salary\"\n",
    "sheet_3 = \"emp_names\"\n",
    "\n",
    "# Use pandas.read_excel() with the usecols parameter to read specific columns\n",
    "df = pd.read_excel(r\"C:\\Users\\prana\\DS - Python\\datasets\\Emp_Records.xlsx\",  sheet_name=sheet_1, \n",
    "                   usecols=[\"First Name\", \"Salary\"] )\n",
    "\n",
    "# Now, you can work with the 'df' DataFrame as needed\n",
    "# For example, you can display the first few rows of the DataFrame\n",
    "df.head()"
   ]
  },
  {
   "cell_type": "markdown",
   "id": "6b4f6c06",
   "metadata": {},
   "source": [
    "### 24. Write a Pandas program to find the sum, mean, max, min value of of a dataset."
   ]
  },
  {
   "cell_type": "code",
   "execution_count": 12,
   "id": "41bfe448",
   "metadata": {},
   "outputs": [
    {
     "name": "stdout",
     "output_type": "stream",
     "text": [
      "Sum of values:\n",
      "Col1    100\n",
      "Col2     70\n",
      "Col3     87\n",
      "dtype: int64\n",
      "\n",
      "Mean of values:\n",
      "Col1    20.0\n",
      "Col2    14.0\n",
      "Col3    17.4\n",
      "dtype: float64\n",
      "\n",
      "Max values:\n",
      "Col1    30\n",
      "Col2    27\n",
      "Col3    31\n",
      "dtype: int64\n",
      "\n",
      "Min values:\n",
      "Col1    10\n",
      "Col2     5\n",
      "Col3     5\n",
      "dtype: int64\n"
     ]
    }
   ],
   "source": [
    "import pandas as pd\n",
    "\n",
    "# Create a sample DataFrame (replace this with your actual dataset)\n",
    "data = {\n",
    "    'Col1': [10, 15, 20, 25, 30],\n",
    "    'Col2': [5, 12, 18, 27, 8],\n",
    "    'Col3': [22, 17, 12, 31, 5]\n",
    "}\n",
    "\n",
    "df = pd.DataFrame(data)\n",
    "\n",
    "# Calculate the sum, mean, max, and min values for each column\n",
    "sum_values = df.sum()\n",
    "mean_values = df.mean()\n",
    "max_values = df.max()\n",
    "min_values = df.min()\n",
    "\n",
    "# Print the results\n",
    "print(\"Sum of values:\")\n",
    "print(sum_values)\n",
    "print(\"\\nMean of values:\")\n",
    "print(mean_values)\n",
    "print(\"\\nMax values:\")\n",
    "print(max_values)\n",
    "print(\"\\nMin values:\")\n",
    "print(min_values)"
   ]
  },
  {
   "cell_type": "markdown",
   "id": "210dabe7",
   "metadata": {},
   "source": [
    "### 25. How Can A DataFrame Be Converted To An Excel File and CSV file?\n"
   ]
  },
  {
   "cell_type": "code",
   "execution_count": 16,
   "id": "21ad74ae",
   "metadata": {},
   "outputs": [
    {
     "name": "stdout",
     "output_type": "stream",
     "text": [
      "DataFrame saved to my_data.xlsx\n"
     ]
    }
   ],
   "source": [
    "import pandas as pd\n",
    "\n",
    "# Create a sample DataFrame (replace this with your actual DataFrame)\n",
    "df = pd.DataFrame({'Column1': [1, 2, 3, 4, 5],\n",
    "                   'Column2': ['A', 'B', 'C', 'D', 'E']})\n",
    "\n",
    "# Specify the Excel file name (e.g., 'my_data.xlsx')\n",
    "file_name = 'my_data.xlsx'\n",
    "\n",
    "# Save the DataFrame to an Excel file\n",
    "df.to_excel(file_name, index=False)  # Set index=False to exclude row numbers in the Excel file\n",
    "print(f'DataFrame saved to {file_name}')"
   ]
  },
  {
   "cell_type": "code",
   "execution_count": 17,
   "id": "949dceaa",
   "metadata": {},
   "outputs": [
    {
     "name": "stdout",
     "output_type": "stream",
     "text": [
      "DataFrame saved to my_data.csv\n"
     ]
    }
   ],
   "source": [
    "import pandas as pd\n",
    "\n",
    "# Create a sample DataFrame (replace this with your actual DataFrame)\n",
    "df = pd.DataFrame({'Column1': [1, 2, 3, 4, 5],\n",
    "                   'Column2': ['A', 'B', 'C', 'D', 'E']})\n",
    "\n",
    "# Specify the csv file name (e.g., 'my_data.csv')\n",
    "file_name = 'my_data.csv'\n",
    "\n",
    "# Save the DataFrame to an Excel file\n",
    "df.to_csv(file_name, index=False)  # Set index=False to exclude row numbers in the csv file\n",
    "print(f'DataFrame saved to {file_name}')"
   ]
  },
  {
   "cell_type": "markdown",
   "id": "5975f677",
   "metadata": {},
   "source": [
    "### 26. What is Groupby Function In Pandas? Explain with example\n"
   ]
  },
  {
   "cell_type": "code",
   "execution_count": null,
   "id": "1cdc7133",
   "metadata": {},
   "outputs": [],
   "source": [
    "The groupby() function in Pandas is a powerful tool for grouping and \n",
    "aggregating data in a DataFrame based on one or more columns. \n",
    "It allows you to split your data into groups based on specified \n",
    "criteria and perform various operations within each group. \n",
    "This function is often used in conjunction with aggregation functions \n",
    "like sum(), mean(), count(), etc., to summarize data within each group.\n",
    "\n",
    "Here's an explanation of the groupby() function with an example:"
   ]
  },
  {
   "cell_type": "code",
   "execution_count": 25,
   "id": "8116cb7d",
   "metadata": {},
   "outputs": [
    {
     "name": "stdout",
     "output_type": "stream",
     "text": [
      "      Category  Price  Quantity\n",
      "0     Clothing  350.0         9\n",
      "1  Electronics  700.0         6\n"
     ]
    }
   ],
   "source": [
    "import pandas as pd\n",
    "\n",
    "# Sample sales dataframe\n",
    "df = pd.DataFrame({ 'Category': ['Electronics', 'Clothing', 'Electronics', 'Clothing', 'Electronics'],\n",
    "                    'Product': ['Laptop', 'T-Shirt', 'Smartphone', 'Jeans', 'Tablet'],\n",
    "                    'Price': [1000, 200, 800, 500, 300],\n",
    "                    'Quantity': [3, 5, 2, 4, 1] \n",
    "                  })\n",
    "\n",
    "# Grouping by 'Category' and calculating total sales and average price within each group\n",
    "category_summary = df.groupby('Category').agg({\"Price\": 'mean', \"Quantity\": 'sum'}).reset_index()\n",
    "print(category_summary)"
   ]
  },
  {
   "cell_type": "markdown",
   "id": "2f4bf727",
   "metadata": {},
   "source": [
    "### 27. What is the use of apply function in pandas?\n"
   ]
  },
  {
   "cell_type": "code",
   "execution_count": null,
   "id": "1fd9994a",
   "metadata": {},
   "outputs": [],
   "source": [
    "The apply() function in Pandas is a versatile method that is used to apply a \n",
    "custom function to one or more elements, rows, or columns of a DataFrame or Series. \n",
    "It provides a flexible way to transform data in your DataFrame by applying a \n",
    "user-defined function to each element or a specified axis.\n",
    "\n",
    "Here are some common use cases and scenarios where the apply() function is valuable:"
   ]
  },
  {
   "cell_type": "code",
   "execution_count": 28,
   "id": "b1936c63",
   "metadata": {},
   "outputs": [],
   "source": [
    "# Applying a Function Element-wise: You can use apply() to apply a \n",
    "# custom function to each element in a DataFrame or Series. \n",
    "import pandas as pd\n",
    "\n",
    "df = pd.DataFrame({'A': [1, 2, 3, 4]})\n",
    "\n",
    "# Applying a custom function to double each element\n",
    "df['A'] = df['A'].apply(lambda x: x * 2)"
   ]
  },
  {
   "cell_type": "code",
   "execution_count": 32,
   "id": "706bac22",
   "metadata": {},
   "outputs": [
    {
     "data": {
      "text/html": [
       "<div>\n",
       "<style scoped>\n",
       "    .dataframe tbody tr th:only-of-type {\n",
       "        vertical-align: middle;\n",
       "    }\n",
       "\n",
       "    .dataframe tbody tr th {\n",
       "        vertical-align: top;\n",
       "    }\n",
       "\n",
       "    .dataframe thead th {\n",
       "        text-align: right;\n",
       "    }\n",
       "</style>\n",
       "<table border=\"1\" class=\"dataframe\">\n",
       "  <thead>\n",
       "    <tr style=\"text-align: right;\">\n",
       "      <th></th>\n",
       "      <th>A</th>\n",
       "      <th>B</th>\n",
       "      <th>RowSum</th>\n",
       "    </tr>\n",
       "  </thead>\n",
       "  <tbody>\n",
       "    <tr>\n",
       "      <th>0</th>\n",
       "      <td>1</td>\n",
       "      <td>4</td>\n",
       "      <td>5</td>\n",
       "    </tr>\n",
       "    <tr>\n",
       "      <th>1</th>\n",
       "      <td>2</td>\n",
       "      <td>5</td>\n",
       "      <td>7</td>\n",
       "    </tr>\n",
       "    <tr>\n",
       "      <th>2</th>\n",
       "      <td>3</td>\n",
       "      <td>6</td>\n",
       "      <td>9</td>\n",
       "    </tr>\n",
       "  </tbody>\n",
       "</table>\n",
       "</div>"
      ],
      "text/plain": [
       "   A  B  RowSum\n",
       "0  1  4       5\n",
       "1  2  5       7\n",
       "2  3  6       9"
      ]
     },
     "execution_count": 32,
     "metadata": {},
     "output_type": "execute_result"
    }
   ],
   "source": [
    "# Applying a Function to Rows or Columns\n",
    "import pandas as pd\n",
    "\n",
    "df = pd.DataFrame({'A': [1, 2, 3], 'B': [4, 5, 6]})\n",
    "\n",
    "# Applying a custom function to calculate the sum of each row\n",
    "df['RowSum'] = df.apply(lambda row: row.sum(), axis=1)\n",
    "df"
   ]
  },
  {
   "cell_type": "code",
   "execution_count": 33,
   "id": "543a8663",
   "metadata": {},
   "outputs": [
    {
     "data": {
      "text/html": [
       "<div>\n",
       "<style scoped>\n",
       "    .dataframe tbody tr th:only-of-type {\n",
       "        vertical-align: middle;\n",
       "    }\n",
       "\n",
       "    .dataframe tbody tr th {\n",
       "        vertical-align: top;\n",
       "    }\n",
       "\n",
       "    .dataframe thead th {\n",
       "        text-align: right;\n",
       "    }\n",
       "</style>\n",
       "<table border=\"1\" class=\"dataframe\">\n",
       "  <thead>\n",
       "    <tr style=\"text-align: right;\">\n",
       "      <th></th>\n",
       "      <th>A</th>\n",
       "      <th>B</th>\n",
       "      <th>NewColumn</th>\n",
       "    </tr>\n",
       "  </thead>\n",
       "  <tbody>\n",
       "    <tr>\n",
       "      <th>0</th>\n",
       "      <td>1</td>\n",
       "      <td>4</td>\n",
       "      <td>6</td>\n",
       "    </tr>\n",
       "    <tr>\n",
       "      <th>1</th>\n",
       "      <td>2</td>\n",
       "      <td>5</td>\n",
       "      <td>9</td>\n",
       "    </tr>\n",
       "    <tr>\n",
       "      <th>2</th>\n",
       "      <td>3</td>\n",
       "      <td>6</td>\n",
       "      <td>12</td>\n",
       "    </tr>\n",
       "  </tbody>\n",
       "</table>\n",
       "</div>"
      ],
      "text/plain": [
       "   A  B  NewColumn\n",
       "0  1  4          6\n",
       "1  2  5          9\n",
       "2  3  6         12"
      ]
     },
     "execution_count": 33,
     "metadata": {},
     "output_type": "execute_result"
    }
   ],
   "source": [
    "# Complex Data Transformations\n",
    "import pandas as pd\n",
    "\n",
    "df = pd.DataFrame({'A': [1, 2, 3], 'B': [4, 5, 6]})\n",
    "\n",
    "# Applying a custom function for more complex transformations\n",
    "def custom_function(row):\n",
    "    return row['A'] * 2 + row['B']\n",
    "\n",
    "df['NewColumn'] = df.apply(custom_function, axis=1)\n",
    "df"
   ]
  },
  {
   "cell_type": "code",
   "execution_count": 35,
   "id": "30edd2cd",
   "metadata": {},
   "outputs": [
    {
     "data": {
      "text/html": [
       "<div>\n",
       "<style scoped>\n",
       "    .dataframe tbody tr th:only-of-type {\n",
       "        vertical-align: middle;\n",
       "    }\n",
       "\n",
       "    .dataframe tbody tr th {\n",
       "        vertical-align: top;\n",
       "    }\n",
       "\n",
       "    .dataframe thead th {\n",
       "        text-align: right;\n",
       "    }\n",
       "</style>\n",
       "<table border=\"1\" class=\"dataframe\">\n",
       "  <thead>\n",
       "    <tr style=\"text-align: right;\">\n",
       "      <th></th>\n",
       "      <th>A</th>\n",
       "    </tr>\n",
       "  </thead>\n",
       "  <tbody>\n",
       "    <tr>\n",
       "      <th>0</th>\n",
       "      <td>1.0</td>\n",
       "    </tr>\n",
       "    <tr>\n",
       "      <th>1</th>\n",
       "      <td>100.0</td>\n",
       "    </tr>\n",
       "    <tr>\n",
       "      <th>2</th>\n",
       "      <td>3.0</td>\n",
       "    </tr>\n",
       "    <tr>\n",
       "      <th>3</th>\n",
       "      <td>4.0</td>\n",
       "    </tr>\n",
       "  </tbody>\n",
       "</table>\n",
       "</div>"
      ],
      "text/plain": [
       "       A\n",
       "0    1.0\n",
       "1  100.0\n",
       "2    3.0\n",
       "3    4.0"
      ]
     },
     "execution_count": 35,
     "metadata": {},
     "output_type": "execute_result"
    }
   ],
   "source": [
    "# Handling Missing Data\n",
    "import pandas as pd\n",
    "import numpy as np\n",
    "\n",
    "df = pd.DataFrame({'A': [1, np.nan, 3, 4]})\n",
    "\n",
    "# Applying a custom function to replace missing values with 0\n",
    "df['A'] = df['A'].apply(lambda x: x if not pd.isna(x) else 100)\n",
    "df"
   ]
  },
  {
   "cell_type": "code",
   "execution_count": 37,
   "id": "ab699686",
   "metadata": {},
   "outputs": [
    {
     "data": {
      "text/html": [
       "<div>\n",
       "<style scoped>\n",
       "    .dataframe tbody tr th:only-of-type {\n",
       "        vertical-align: middle;\n",
       "    }\n",
       "\n",
       "    .dataframe tbody tr th {\n",
       "        vertical-align: top;\n",
       "    }\n",
       "\n",
       "    .dataframe thead th {\n",
       "        text-align: right;\n",
       "    }\n",
       "</style>\n",
       "<table border=\"1\" class=\"dataframe\">\n",
       "  <thead>\n",
       "    <tr style=\"text-align: right;\">\n",
       "      <th></th>\n",
       "      <th>Text</th>\n",
       "    </tr>\n",
       "  </thead>\n",
       "  <tbody>\n",
       "    <tr>\n",
       "      <th>0</th>\n",
       "      <td>APPLE</td>\n",
       "    </tr>\n",
       "    <tr>\n",
       "      <th>1</th>\n",
       "      <td>BANANA</td>\n",
       "    </tr>\n",
       "    <tr>\n",
       "      <th>2</th>\n",
       "      <td>CHERRY</td>\n",
       "    </tr>\n",
       "  </tbody>\n",
       "</table>\n",
       "</div>"
      ],
      "text/plain": [
       "     Text\n",
       "0   APPLE\n",
       "1  BANANA\n",
       "2  CHERRY"
      ]
     },
     "execution_count": 37,
     "metadata": {},
     "output_type": "execute_result"
    }
   ],
   "source": [
    "# String Manipulations\n",
    "import pandas as pd\n",
    "\n",
    "df = pd.DataFrame({'Text': ['apple', 'banana', 'cherry']})\n",
    "\n",
    "# Applying a custom function to convert text to uppercase\n",
    "df['Text'] = df['Text'].apply(lambda x: x.upper())\n",
    "df"
   ]
  },
  {
   "cell_type": "markdown",
   "id": "c3104bfc",
   "metadata": {},
   "source": [
    "### 28. How to use apply() with lambda function?\n"
   ]
  },
  {
   "cell_type": "code",
   "execution_count": 44,
   "id": "84c0de2a",
   "metadata": {},
   "outputs": [
    {
     "data": {
      "text/plain": [
       "0     2\n",
       "1     4\n",
       "2     6\n",
       "3     8\n",
       "4    10\n",
       "dtype: int64"
      ]
     },
     "execution_count": 44,
     "metadata": {},
     "output_type": "execute_result"
    }
   ],
   "source": [
    "# Using apply() with a Lambda Function on a Series:\n",
    "import pandas as pd\n",
    "\n",
    "# Create a sample Series\n",
    "series = pd.Series([1, 2, 3, 4, 5])\n",
    "\n",
    "# Apply a lambda function to double each element\n",
    "doubled_series = series.apply(lambda x: x * 2)\n",
    "\n",
    "doubled_series"
   ]
  },
  {
   "cell_type": "code",
   "execution_count": 45,
   "id": "905ae8f1",
   "metadata": {},
   "outputs": [
    {
     "data": {
      "text/html": [
       "<div>\n",
       "<style scoped>\n",
       "    .dataframe tbody tr th:only-of-type {\n",
       "        vertical-align: middle;\n",
       "    }\n",
       "\n",
       "    .dataframe tbody tr th {\n",
       "        vertical-align: top;\n",
       "    }\n",
       "\n",
       "    .dataframe thead th {\n",
       "        text-align: right;\n",
       "    }\n",
       "</style>\n",
       "<table border=\"1\" class=\"dataframe\">\n",
       "  <thead>\n",
       "    <tr style=\"text-align: right;\">\n",
       "      <th></th>\n",
       "      <th>A</th>\n",
       "      <th>B</th>\n",
       "      <th>RowSum</th>\n",
       "    </tr>\n",
       "  </thead>\n",
       "  <tbody>\n",
       "    <tr>\n",
       "      <th>0</th>\n",
       "      <td>1</td>\n",
       "      <td>4</td>\n",
       "      <td>5</td>\n",
       "    </tr>\n",
       "    <tr>\n",
       "      <th>1</th>\n",
       "      <td>4</td>\n",
       "      <td>5</td>\n",
       "      <td>9</td>\n",
       "    </tr>\n",
       "    <tr>\n",
       "      <th>2</th>\n",
       "      <td>9</td>\n",
       "      <td>6</td>\n",
       "      <td>15</td>\n",
       "    </tr>\n",
       "  </tbody>\n",
       "</table>\n",
       "</div>"
      ],
      "text/plain": [
       "   A  B  RowSum\n",
       "0  1  4       5\n",
       "1  4  5       9\n",
       "2  9  6      15"
      ]
     },
     "execution_count": 45,
     "metadata": {},
     "output_type": "execute_result"
    }
   ],
   "source": [
    "# Applying lambda on speciic roow and column\n",
    "import pandas as pd\n",
    "\n",
    "# Create a sample DataFrame\n",
    "data = {'A': [1, 2, 3], 'B': [4, 5, 6]}\n",
    "df = pd.DataFrame(data)\n",
    "\n",
    "# Apply a lambda function to a specific column ('A' in this case)\n",
    "df['A'] = df['A'].apply(lambda x: x ** 2)\n",
    "\n",
    "# Apply a lambda function to each row to calculate the sum of values in each row\n",
    "df['RowSum'] = df.apply(lambda row: row['A'] + row['B'], axis=1)\n",
    "df"
   ]
  },
  {
   "cell_type": "markdown",
   "id": "d81d8978",
   "metadata": {},
   "source": [
    "### 29. Explain is the use of info, describe, head, head, and tail functions\n"
   ]
  },
  {
   "cell_type": "code",
   "execution_count": null,
   "id": "3ec9a873",
   "metadata": {},
   "outputs": [],
   "source": [
    "The info(), describe(), head(), and tail() functions are commonly used methods \n",
    "in Pandas to quickly inspect, summarize, and view the contents of a DataFrame. \n",
    "Here's an explanation of each:\n",
    "\n",
    "1) info() Function:\n",
    "Use: The info() function is used to get a concise summary of the DataFrame, \n",
    "     including the data types of each column, the number of non-null values, and memory usage.   \n",
    "Output: This will display information about the DataFrame, including column names, data types,\n",
    "        and non-null counts, which is helpful for understanding the dataset's \n",
    "        structure and identifying missing values.\n",
    "    \n",
    "2) describe() Function:\n",
    "Use: The describe() function generates basic statistical summaries of \n",
    "     the numerical columns in the DataFrame. It provides statistics like \n",
    "     count, mean, standard deviation, minimum, 25th percentile, median (50th percentile), \n",
    "     75th percentile, and maximum values.\n",
    "    \n",
    "3) head() Function:\n",
    "Use: The head() function is used to display the first few rows of the DataFrame. \n",
    "     By default, it shows the first 5 rows, but you can specify the number \n",
    "     of rows you want to see by passing an argument.\n",
    "Output: This displays the specified number of rows (default is 5) from \n",
    "        the top of the DataFrame, allowing you to quickly inspect the dataset's structure and content.\n",
    "\n",
    "4) tail() Function:\n",
    "Use: The tail() function is similar to head(), but it displays the last few \n",
    "     rows of the DataFrame. Like head(), you can specify the number of rows to display.\n",
    "Output: This displays the specified number of rows (default is 5) from the \n",
    "        bottom of the DataFrame, which can be helpful for checking the end of the dataset.        "
   ]
  },
  {
   "cell_type": "code",
   "execution_count": 47,
   "id": "c4b3f4f0",
   "metadata": {},
   "outputs": [],
   "source": [
    "import pandas as pd\n",
    "df = pd.read_csv(r'C:\\Users\\prana\\DS - Python\\datasets\\medical_insurance.csv')"
   ]
  },
  {
   "cell_type": "code",
   "execution_count": 48,
   "id": "051e7d81",
   "metadata": {},
   "outputs": [
    {
     "name": "stdout",
     "output_type": "stream",
     "text": [
      "<class 'pandas.core.frame.DataFrame'>\n",
      "RangeIndex: 1338 entries, 0 to 1337\n",
      "Data columns (total 7 columns):\n",
      " #   Column    Non-Null Count  Dtype  \n",
      "---  ------    --------------  -----  \n",
      " 0   age       1338 non-null   int64  \n",
      " 1   sex       1338 non-null   object \n",
      " 2   bmi       1338 non-null   float64\n",
      " 3   children  1338 non-null   int64  \n",
      " 4   smoker    1338 non-null   object \n",
      " 5   region    1338 non-null   object \n",
      " 6   charges   1338 non-null   float64\n",
      "dtypes: float64(2), int64(2), object(3)\n",
      "memory usage: 73.3+ KB\n"
     ]
    }
   ],
   "source": [
    "df.info()"
   ]
  },
  {
   "cell_type": "code",
   "execution_count": 49,
   "id": "223914cb",
   "metadata": {},
   "outputs": [
    {
     "data": {
      "text/html": [
       "<div>\n",
       "<style scoped>\n",
       "    .dataframe tbody tr th:only-of-type {\n",
       "        vertical-align: middle;\n",
       "    }\n",
       "\n",
       "    .dataframe tbody tr th {\n",
       "        vertical-align: top;\n",
       "    }\n",
       "\n",
       "    .dataframe thead th {\n",
       "        text-align: right;\n",
       "    }\n",
       "</style>\n",
       "<table border=\"1\" class=\"dataframe\">\n",
       "  <thead>\n",
       "    <tr style=\"text-align: right;\">\n",
       "      <th></th>\n",
       "      <th>age</th>\n",
       "      <th>bmi</th>\n",
       "      <th>children</th>\n",
       "      <th>charges</th>\n",
       "    </tr>\n",
       "  </thead>\n",
       "  <tbody>\n",
       "    <tr>\n",
       "      <th>count</th>\n",
       "      <td>1338.000000</td>\n",
       "      <td>1338.000000</td>\n",
       "      <td>1338.000000</td>\n",
       "      <td>1338.000000</td>\n",
       "    </tr>\n",
       "    <tr>\n",
       "      <th>mean</th>\n",
       "      <td>39.207025</td>\n",
       "      <td>30.663397</td>\n",
       "      <td>1.094918</td>\n",
       "      <td>13270.422265</td>\n",
       "    </tr>\n",
       "    <tr>\n",
       "      <th>std</th>\n",
       "      <td>14.049960</td>\n",
       "      <td>6.098187</td>\n",
       "      <td>1.205493</td>\n",
       "      <td>12110.011237</td>\n",
       "    </tr>\n",
       "    <tr>\n",
       "      <th>min</th>\n",
       "      <td>18.000000</td>\n",
       "      <td>15.960000</td>\n",
       "      <td>0.000000</td>\n",
       "      <td>1121.873900</td>\n",
       "    </tr>\n",
       "    <tr>\n",
       "      <th>25%</th>\n",
       "      <td>27.000000</td>\n",
       "      <td>26.296250</td>\n",
       "      <td>0.000000</td>\n",
       "      <td>4740.287150</td>\n",
       "    </tr>\n",
       "    <tr>\n",
       "      <th>50%</th>\n",
       "      <td>39.000000</td>\n",
       "      <td>30.400000</td>\n",
       "      <td>1.000000</td>\n",
       "      <td>9382.033000</td>\n",
       "    </tr>\n",
       "    <tr>\n",
       "      <th>75%</th>\n",
       "      <td>51.000000</td>\n",
       "      <td>34.693750</td>\n",
       "      <td>2.000000</td>\n",
       "      <td>16639.912515</td>\n",
       "    </tr>\n",
       "    <tr>\n",
       "      <th>max</th>\n",
       "      <td>64.000000</td>\n",
       "      <td>53.130000</td>\n",
       "      <td>5.000000</td>\n",
       "      <td>63770.428010</td>\n",
       "    </tr>\n",
       "  </tbody>\n",
       "</table>\n",
       "</div>"
      ],
      "text/plain": [
       "               age          bmi     children       charges\n",
       "count  1338.000000  1338.000000  1338.000000   1338.000000\n",
       "mean     39.207025    30.663397     1.094918  13270.422265\n",
       "std      14.049960     6.098187     1.205493  12110.011237\n",
       "min      18.000000    15.960000     0.000000   1121.873900\n",
       "25%      27.000000    26.296250     0.000000   4740.287150\n",
       "50%      39.000000    30.400000     1.000000   9382.033000\n",
       "75%      51.000000    34.693750     2.000000  16639.912515\n",
       "max      64.000000    53.130000     5.000000  63770.428010"
      ]
     },
     "execution_count": 49,
     "metadata": {},
     "output_type": "execute_result"
    }
   ],
   "source": [
    "df.describe()"
   ]
  },
  {
   "cell_type": "code",
   "execution_count": 50,
   "id": "0401bbef",
   "metadata": {},
   "outputs": [
    {
     "data": {
      "text/html": [
       "<div>\n",
       "<style scoped>\n",
       "    .dataframe tbody tr th:only-of-type {\n",
       "        vertical-align: middle;\n",
       "    }\n",
       "\n",
       "    .dataframe tbody tr th {\n",
       "        vertical-align: top;\n",
       "    }\n",
       "\n",
       "    .dataframe thead th {\n",
       "        text-align: right;\n",
       "    }\n",
       "</style>\n",
       "<table border=\"1\" class=\"dataframe\">\n",
       "  <thead>\n",
       "    <tr style=\"text-align: right;\">\n",
       "      <th></th>\n",
       "      <th>age</th>\n",
       "      <th>sex</th>\n",
       "      <th>bmi</th>\n",
       "      <th>children</th>\n",
       "      <th>smoker</th>\n",
       "      <th>region</th>\n",
       "      <th>charges</th>\n",
       "    </tr>\n",
       "  </thead>\n",
       "  <tbody>\n",
       "    <tr>\n",
       "      <th>0</th>\n",
       "      <td>19</td>\n",
       "      <td>female</td>\n",
       "      <td>27.900</td>\n",
       "      <td>0</td>\n",
       "      <td>yes</td>\n",
       "      <td>southwest</td>\n",
       "      <td>16884.92400</td>\n",
       "    </tr>\n",
       "    <tr>\n",
       "      <th>1</th>\n",
       "      <td>18</td>\n",
       "      <td>male</td>\n",
       "      <td>33.770</td>\n",
       "      <td>1</td>\n",
       "      <td>no</td>\n",
       "      <td>southeast</td>\n",
       "      <td>1725.55230</td>\n",
       "    </tr>\n",
       "    <tr>\n",
       "      <th>2</th>\n",
       "      <td>28</td>\n",
       "      <td>male</td>\n",
       "      <td>33.000</td>\n",
       "      <td>3</td>\n",
       "      <td>no</td>\n",
       "      <td>southeast</td>\n",
       "      <td>4449.46200</td>\n",
       "    </tr>\n",
       "    <tr>\n",
       "      <th>3</th>\n",
       "      <td>33</td>\n",
       "      <td>male</td>\n",
       "      <td>22.705</td>\n",
       "      <td>0</td>\n",
       "      <td>no</td>\n",
       "      <td>northwest</td>\n",
       "      <td>21984.47061</td>\n",
       "    </tr>\n",
       "    <tr>\n",
       "      <th>4</th>\n",
       "      <td>32</td>\n",
       "      <td>male</td>\n",
       "      <td>28.880</td>\n",
       "      <td>0</td>\n",
       "      <td>no</td>\n",
       "      <td>northwest</td>\n",
       "      <td>3866.85520</td>\n",
       "    </tr>\n",
       "  </tbody>\n",
       "</table>\n",
       "</div>"
      ],
      "text/plain": [
       "   age     sex     bmi  children smoker     region      charges\n",
       "0   19  female  27.900         0    yes  southwest  16884.92400\n",
       "1   18    male  33.770         1     no  southeast   1725.55230\n",
       "2   28    male  33.000         3     no  southeast   4449.46200\n",
       "3   33    male  22.705         0     no  northwest  21984.47061\n",
       "4   32    male  28.880         0     no  northwest   3866.85520"
      ]
     },
     "execution_count": 50,
     "metadata": {},
     "output_type": "execute_result"
    }
   ],
   "source": [
    "df.head()"
   ]
  },
  {
   "cell_type": "code",
   "execution_count": 51,
   "id": "7d561b1d",
   "metadata": {},
   "outputs": [
    {
     "data": {
      "text/html": [
       "<div>\n",
       "<style scoped>\n",
       "    .dataframe tbody tr th:only-of-type {\n",
       "        vertical-align: middle;\n",
       "    }\n",
       "\n",
       "    .dataframe tbody tr th {\n",
       "        vertical-align: top;\n",
       "    }\n",
       "\n",
       "    .dataframe thead th {\n",
       "        text-align: right;\n",
       "    }\n",
       "</style>\n",
       "<table border=\"1\" class=\"dataframe\">\n",
       "  <thead>\n",
       "    <tr style=\"text-align: right;\">\n",
       "      <th></th>\n",
       "      <th>age</th>\n",
       "      <th>sex</th>\n",
       "      <th>bmi</th>\n",
       "      <th>children</th>\n",
       "      <th>smoker</th>\n",
       "      <th>region</th>\n",
       "      <th>charges</th>\n",
       "    </tr>\n",
       "  </thead>\n",
       "  <tbody>\n",
       "    <tr>\n",
       "      <th>1333</th>\n",
       "      <td>50</td>\n",
       "      <td>male</td>\n",
       "      <td>30.97</td>\n",
       "      <td>3</td>\n",
       "      <td>no</td>\n",
       "      <td>northwest</td>\n",
       "      <td>10600.5483</td>\n",
       "    </tr>\n",
       "    <tr>\n",
       "      <th>1334</th>\n",
       "      <td>18</td>\n",
       "      <td>female</td>\n",
       "      <td>31.92</td>\n",
       "      <td>0</td>\n",
       "      <td>no</td>\n",
       "      <td>northeast</td>\n",
       "      <td>2205.9808</td>\n",
       "    </tr>\n",
       "    <tr>\n",
       "      <th>1335</th>\n",
       "      <td>18</td>\n",
       "      <td>female</td>\n",
       "      <td>36.85</td>\n",
       "      <td>0</td>\n",
       "      <td>no</td>\n",
       "      <td>southeast</td>\n",
       "      <td>1629.8335</td>\n",
       "    </tr>\n",
       "    <tr>\n",
       "      <th>1336</th>\n",
       "      <td>21</td>\n",
       "      <td>female</td>\n",
       "      <td>25.80</td>\n",
       "      <td>0</td>\n",
       "      <td>no</td>\n",
       "      <td>southwest</td>\n",
       "      <td>2007.9450</td>\n",
       "    </tr>\n",
       "    <tr>\n",
       "      <th>1337</th>\n",
       "      <td>61</td>\n",
       "      <td>female</td>\n",
       "      <td>29.07</td>\n",
       "      <td>0</td>\n",
       "      <td>yes</td>\n",
       "      <td>northwest</td>\n",
       "      <td>29141.3603</td>\n",
       "    </tr>\n",
       "  </tbody>\n",
       "</table>\n",
       "</div>"
      ],
      "text/plain": [
       "      age     sex    bmi  children smoker     region     charges\n",
       "1333   50    male  30.97         3     no  northwest  10600.5483\n",
       "1334   18  female  31.92         0     no  northeast   2205.9808\n",
       "1335   18  female  36.85         0     no  southeast   1629.8335\n",
       "1336   21  female  25.80         0     no  southwest   2007.9450\n",
       "1337   61  female  29.07         0    yes  northwest  29141.3603"
      ]
     },
     "execution_count": 51,
     "metadata": {},
     "output_type": "execute_result"
    }
   ],
   "source": [
    "df.tail()"
   ]
  },
  {
   "cell_type": "markdown",
   "id": "8cc03abb",
   "metadata": {},
   "source": [
    "### 30. Write a Pandas program to check whether only a title case is present in a given column of a DataFrame.\n"
   ]
  },
  {
   "cell_type": "code",
   "execution_count": 58,
   "id": "35a68f33",
   "metadata": {},
   "outputs": [
    {
     "data": {
      "text/plain": [
       "0     True\n",
       "1     True\n",
       "2    False\n",
       "3     True\n",
       "Name: Name, dtype: bool"
      ]
     },
     "execution_count": 58,
     "metadata": {},
     "output_type": "execute_result"
    }
   ],
   "source": [
    "import pandas as pd\n",
    "\n",
    "# Create a DataFrame\n",
    "df = pd.DataFrame({'Name': ['John Doe', 'Jane Doe', 'peter Smith', 'Mary Johnson']})\n",
    "\n",
    "# Check if the values in the 'Name' column are all title case\n",
    "df['Name'].str.istitle()"
   ]
  },
  {
   "cell_type": "markdown",
   "id": "a9339923",
   "metadata": {},
   "source": [
    "### 31. What is the map Function In Pandas?\n"
   ]
  },
  {
   "cell_type": "code",
   "execution_count": 62,
   "id": "159f40b4",
   "metadata": {},
   "outputs": [
    {
     "data": {
      "text/html": [
       "<div>\n",
       "<style scoped>\n",
       "    .dataframe tbody tr th:only-of-type {\n",
       "        vertical-align: middle;\n",
       "    }\n",
       "\n",
       "    .dataframe tbody tr th {\n",
       "        vertical-align: top;\n",
       "    }\n",
       "\n",
       "    .dataframe thead th {\n",
       "        text-align: right;\n",
       "    }\n",
       "</style>\n",
       "<table border=\"1\" class=\"dataframe\">\n",
       "  <thead>\n",
       "    <tr style=\"text-align: right;\">\n",
       "      <th></th>\n",
       "      <th>Status</th>\n",
       "      <th>Status_Code</th>\n",
       "    </tr>\n",
       "  </thead>\n",
       "  <tbody>\n",
       "    <tr>\n",
       "      <th>0</th>\n",
       "      <td>Active</td>\n",
       "      <td>1</td>\n",
       "    </tr>\n",
       "    <tr>\n",
       "      <th>1</th>\n",
       "      <td>Inactive</td>\n",
       "      <td>0</td>\n",
       "    </tr>\n",
       "    <tr>\n",
       "      <th>2</th>\n",
       "      <td>Active</td>\n",
       "      <td>1</td>\n",
       "    </tr>\n",
       "    <tr>\n",
       "      <th>3</th>\n",
       "      <td>Inactive</td>\n",
       "      <td>0</td>\n",
       "    </tr>\n",
       "  </tbody>\n",
       "</table>\n",
       "</div>"
      ],
      "text/plain": [
       "     Status  Status_Code\n",
       "0    Active            1\n",
       "1  Inactive            0\n",
       "2    Active            1\n",
       "3  Inactive            0"
      ]
     },
     "execution_count": 62,
     "metadata": {},
     "output_type": "execute_result"
    }
   ],
   "source": [
    "# Mapping Values to a New Column:\n",
    "# You can create a new column based on the values of an existing column using the map() function.\n",
    "\n",
    "# Replacing Values:\n",
    "# You can replace specific values in a column using the map() function.\n",
    "import pandas as pd\n",
    "\n",
    "df = pd.DataFrame({'Status': ['Active', 'Inactive', 'Active', 'Inactive']})\n",
    "\n",
    "# Replace 'Active' with 1 and 'Inactive' with 0\n",
    "df['Status_Code'] = df['Status'].map({'Active': 1, 'Inactive': 0})\n",
    "df"
   ]
  },
  {
   "cell_type": "code",
   "execution_count": 65,
   "id": "f692b271",
   "metadata": {},
   "outputs": [
    {
     "data": {
      "text/html": [
       "<div>\n",
       "<style scoped>\n",
       "    .dataframe tbody tr th:only-of-type {\n",
       "        vertical-align: middle;\n",
       "    }\n",
       "\n",
       "    .dataframe tbody tr th {\n",
       "        vertical-align: top;\n",
       "    }\n",
       "\n",
       "    .dataframe thead th {\n",
       "        text-align: right;\n",
       "    }\n",
       "</style>\n",
       "<table border=\"1\" class=\"dataframe\">\n",
       "  <thead>\n",
       "    <tr style=\"text-align: right;\">\n",
       "      <th></th>\n",
       "      <th>Numbers</th>\n",
       "      <th>Squared</th>\n",
       "    </tr>\n",
       "  </thead>\n",
       "  <tbody>\n",
       "    <tr>\n",
       "      <th>0</th>\n",
       "      <td>2</td>\n",
       "      <td>4</td>\n",
       "    </tr>\n",
       "    <tr>\n",
       "      <th>1</th>\n",
       "      <td>3</td>\n",
       "      <td>9</td>\n",
       "    </tr>\n",
       "    <tr>\n",
       "      <th>2</th>\n",
       "      <td>4</td>\n",
       "      <td>16</td>\n",
       "    </tr>\n",
       "  </tbody>\n",
       "</table>\n",
       "</div>"
      ],
      "text/plain": [
       "   Numbers  Squared\n",
       "0        2        4\n",
       "1        3        9\n",
       "2        4       16"
      ]
     },
     "execution_count": 65,
     "metadata": {},
     "output_type": "execute_result"
    }
   ],
   "source": [
    "# Applying a Function:\n",
    "# You can apply a custom function to transform values in a column.\n",
    "import pandas as pd\n",
    "\n",
    "df = pd.DataFrame({'Numbers': [2, 3, 4]})\n",
    "\n",
    "# Define a function to square each number\n",
    "def square(x):\n",
    "    return x ** 2\n",
    "\n",
    "# Square the values in the 'Numbers' column\n",
    "df['Squared'] = df['Numbers'].map(square)\n",
    "df"
   ]
  },
  {
   "cell_type": "markdown",
   "id": "e4166ce1",
   "metadata": {},
   "source": [
    "### 32. How will you add a column to a pandas DataFrame?\n"
   ]
  },
  {
   "cell_type": "code",
   "execution_count": 67,
   "id": "f447c7de",
   "metadata": {},
   "outputs": [
    {
     "data": {
      "text/html": [
       "<div>\n",
       "<style scoped>\n",
       "    .dataframe tbody tr th:only-of-type {\n",
       "        vertical-align: middle;\n",
       "    }\n",
       "\n",
       "    .dataframe tbody tr th {\n",
       "        vertical-align: top;\n",
       "    }\n",
       "\n",
       "    .dataframe thead th {\n",
       "        text-align: right;\n",
       "    }\n",
       "</style>\n",
       "<table border=\"1\" class=\"dataframe\">\n",
       "  <thead>\n",
       "    <tr style=\"text-align: right;\">\n",
       "      <th></th>\n",
       "      <th>Column1</th>\n",
       "      <th>Column2</th>\n",
       "      <th>NewColumn</th>\n",
       "      <th>ConstantColumn</th>\n",
       "    </tr>\n",
       "  </thead>\n",
       "  <tbody>\n",
       "    <tr>\n",
       "      <th>0</th>\n",
       "      <td>1</td>\n",
       "      <td>A</td>\n",
       "      <td>5</td>\n",
       "      <td>X</td>\n",
       "    </tr>\n",
       "    <tr>\n",
       "      <th>1</th>\n",
       "      <td>2</td>\n",
       "      <td>B</td>\n",
       "      <td>6</td>\n",
       "      <td>X</td>\n",
       "    </tr>\n",
       "    <tr>\n",
       "      <th>2</th>\n",
       "      <td>3</td>\n",
       "      <td>C</td>\n",
       "      <td>7</td>\n",
       "      <td>X</td>\n",
       "    </tr>\n",
       "    <tr>\n",
       "      <th>3</th>\n",
       "      <td>4</td>\n",
       "      <td>D</td>\n",
       "      <td>8</td>\n",
       "      <td>X</td>\n",
       "    </tr>\n",
       "  </tbody>\n",
       "</table>\n",
       "</div>"
      ],
      "text/plain": [
       "   Column1 Column2  NewColumn ConstantColumn\n",
       "0        1       A          5              X\n",
       "1        2       B          6              X\n",
       "2        3       C          7              X\n",
       "3        4       D          8              X"
      ]
     },
     "execution_count": 67,
     "metadata": {},
     "output_type": "execute_result"
    }
   ],
   "source": [
    "import pandas as pd\n",
    "\n",
    "# Create a sample DataFrame\n",
    "df = pd.DataFrame( {'Column1': [1, 2, 3, 4],\n",
    "                    'Column2': ['A', 'B', 'C', 'D'] } )\n",
    "\n",
    "# Adding a new column 'NewColumn' with values\n",
    "df['NewColumn'] = [5, 6, 7, 8]\n",
    "\n",
    "# Alternatively, you can add a new column with a constant value\n",
    "df['ConstantColumn'] = 'X'\n",
    "df"
   ]
  },
  {
   "cell_type": "markdown",
   "id": "0fda9533",
   "metadata": {},
   "source": [
    "### 33. How will you add a column at a specific index to a pandas DataFrame?\n"
   ]
  },
  {
   "cell_type": "code",
   "execution_count": 68,
   "id": "d17509e1",
   "metadata": {},
   "outputs": [
    {
     "data": {
      "text/html": [
       "<div>\n",
       "<style scoped>\n",
       "    .dataframe tbody tr th:only-of-type {\n",
       "        vertical-align: middle;\n",
       "    }\n",
       "\n",
       "    .dataframe tbody tr th {\n",
       "        vertical-align: top;\n",
       "    }\n",
       "\n",
       "    .dataframe thead th {\n",
       "        text-align: right;\n",
       "    }\n",
       "</style>\n",
       "<table border=\"1\" class=\"dataframe\">\n",
       "  <thead>\n",
       "    <tr style=\"text-align: right;\">\n",
       "      <th></th>\n",
       "      <th>Column1</th>\n",
       "      <th>NewColumn</th>\n",
       "      <th>Column2</th>\n",
       "    </tr>\n",
       "  </thead>\n",
       "  <tbody>\n",
       "    <tr>\n",
       "      <th>0</th>\n",
       "      <td>1</td>\n",
       "      <td>5</td>\n",
       "      <td>A</td>\n",
       "    </tr>\n",
       "    <tr>\n",
       "      <th>1</th>\n",
       "      <td>2</td>\n",
       "      <td>6</td>\n",
       "      <td>B</td>\n",
       "    </tr>\n",
       "    <tr>\n",
       "      <th>2</th>\n",
       "      <td>3</td>\n",
       "      <td>7</td>\n",
       "      <td>C</td>\n",
       "    </tr>\n",
       "    <tr>\n",
       "      <th>3</th>\n",
       "      <td>4</td>\n",
       "      <td>8</td>\n",
       "      <td>D</td>\n",
       "    </tr>\n",
       "  </tbody>\n",
       "</table>\n",
       "</div>"
      ],
      "text/plain": [
       "   Column1  NewColumn Column2\n",
       "0        1          5       A\n",
       "1        2          6       B\n",
       "2        3          7       C\n",
       "3        4          8       D"
      ]
     },
     "execution_count": 68,
     "metadata": {},
     "output_type": "execute_result"
    }
   ],
   "source": [
    "# The insert() method allows you to specify the desired position (index) \n",
    "# for the new column. Here's how you can do it:\n",
    "\n",
    "import pandas as pd\n",
    "\n",
    "# Create a sample DataFrame\n",
    "df = pd.DataFrame( {'Column1': [1, 2, 3, 4],\n",
    "                    'Column2': ['A', 'B', 'C', 'D'] } )\n",
    "\n",
    "# Adding a new column 'NewColumn' with values at index 1\n",
    "new_column_values = [5, 6, 7, 8]\n",
    "df.insert(1, 'NewColumn', new_column_values)  # 1 is Index where the new column should be inserted\n",
    "df"
   ]
  },
  {
   "cell_type": "markdown",
   "id": "26a23386",
   "metadata": {},
   "source": [
    "### 34. How to Delete Indices, Rows, or Columns From a Pandas DataFrame?\n"
   ]
  },
  {
   "cell_type": "code",
   "execution_count": 81,
   "id": "8b1f1ab2",
   "metadata": {},
   "outputs": [
    {
     "data": {
      "text/html": [
       "<div>\n",
       "<style scoped>\n",
       "    .dataframe tbody tr th:only-of-type {\n",
       "        vertical-align: middle;\n",
       "    }\n",
       "\n",
       "    .dataframe tbody tr th {\n",
       "        vertical-align: top;\n",
       "    }\n",
       "\n",
       "    .dataframe thead th {\n",
       "        text-align: right;\n",
       "    }\n",
       "</style>\n",
       "<table border=\"1\" class=\"dataframe\">\n",
       "  <thead>\n",
       "    <tr style=\"text-align: right;\">\n",
       "      <th></th>\n",
       "      <th>A</th>\n",
       "      <th>B</th>\n",
       "    </tr>\n",
       "  </thead>\n",
       "  <tbody>\n",
       "    <tr>\n",
       "      <th>3</th>\n",
       "      <td>4</td>\n",
       "      <td>7</td>\n",
       "    </tr>\n",
       "    <tr>\n",
       "      <th>4</th>\n",
       "      <td>5</td>\n",
       "      <td>8</td>\n",
       "    </tr>\n",
       "  </tbody>\n",
       "</table>\n",
       "</div>"
      ],
      "text/plain": [
       "   A  B\n",
       "3  4  7\n",
       "4  5  8"
      ]
     },
     "execution_count": 81,
     "metadata": {},
     "output_type": "execute_result"
    }
   ],
   "source": [
    "# Deleting Rows:\n",
    "\n",
    "import pandas as pd \n",
    "df = pd.DataFrame({'A': [1, 2, 3, 4, 5], 'B': [4, 5, 6, 7, 8]})\n",
    "\n",
    "# Delete row with index 1\n",
    "df = df.drop(1)\n",
    "\n",
    "# Delete multiple rows with indices 0 and 2\n",
    "df = df.drop([0, 2])\n",
    "df"
   ]
  },
  {
   "cell_type": "code",
   "execution_count": 82,
   "id": "2f1c59dd",
   "metadata": {},
   "outputs": [
    {
     "data": {
      "text/html": [
       "<div>\n",
       "<style scoped>\n",
       "    .dataframe tbody tr th:only-of-type {\n",
       "        vertical-align: middle;\n",
       "    }\n",
       "\n",
       "    .dataframe tbody tr th {\n",
       "        vertical-align: top;\n",
       "    }\n",
       "\n",
       "    .dataframe thead th {\n",
       "        text-align: right;\n",
       "    }\n",
       "</style>\n",
       "<table border=\"1\" class=\"dataframe\">\n",
       "  <thead>\n",
       "    <tr style=\"text-align: right;\">\n",
       "      <th></th>\n",
       "      <th>A</th>\n",
       "      <th>B</th>\n",
       "    </tr>\n",
       "  </thead>\n",
       "  <tbody>\n",
       "    <tr>\n",
       "      <th>0</th>\n",
       "      <td>1</td>\n",
       "      <td>4</td>\n",
       "    </tr>\n",
       "    <tr>\n",
       "      <th>1</th>\n",
       "      <td>2</td>\n",
       "      <td>5</td>\n",
       "    </tr>\n",
       "  </tbody>\n",
       "</table>\n",
       "</div>"
      ],
      "text/plain": [
       "   A  B\n",
       "0  1  4\n",
       "1  2  5"
      ]
     },
     "execution_count": 82,
     "metadata": {},
     "output_type": "execute_result"
    }
   ],
   "source": [
    "import pandas as pd \n",
    "df = pd.DataFrame({'A': [1, 2, 3, 4, 5], 'B': [4, 5, 6, 7, 8]})\n",
    "\n",
    "# Delete rows where column 'A' is greater than 2\n",
    "df = df[df['A'] <= 2]\n",
    "df"
   ]
  },
  {
   "cell_type": "code",
   "execution_count": 83,
   "id": "ef39e73b",
   "metadata": {},
   "outputs": [
    {
     "data": {
      "text/html": [
       "<div>\n",
       "<style scoped>\n",
       "    .dataframe tbody tr th:only-of-type {\n",
       "        vertical-align: middle;\n",
       "    }\n",
       "\n",
       "    .dataframe tbody tr th {\n",
       "        vertical-align: top;\n",
       "    }\n",
       "\n",
       "    .dataframe thead th {\n",
       "        text-align: right;\n",
       "    }\n",
       "</style>\n",
       "<table border=\"1\" class=\"dataframe\">\n",
       "  <thead>\n",
       "    <tr style=\"text-align: right;\">\n",
       "      <th></th>\n",
       "      <th>D</th>\n",
       "    </tr>\n",
       "  </thead>\n",
       "  <tbody>\n",
       "    <tr>\n",
       "      <th>0</th>\n",
       "      <td>10</td>\n",
       "    </tr>\n",
       "    <tr>\n",
       "      <th>1</th>\n",
       "      <td>11</td>\n",
       "    </tr>\n",
       "    <tr>\n",
       "      <th>2</th>\n",
       "      <td>12</td>\n",
       "    </tr>\n",
       "  </tbody>\n",
       "</table>\n",
       "</div>"
      ],
      "text/plain": [
       "    D\n",
       "0  10\n",
       "1  11\n",
       "2  12"
      ]
     },
     "execution_count": 83,
     "metadata": {},
     "output_type": "execute_result"
    }
   ],
   "source": [
    "# Deleting Columns: Using drop() Method with axis=1:\n",
    "\n",
    "import pandas as pd\n",
    "df = pd.DataFrame({'A': [1, 2, 3], 'B': [4, 5, 6],  'C': [7, 8, 9], 'D': [10, 11, 12]})\n",
    "\n",
    "# Delete column 'B'\n",
    "df = df.drop('B', axis=1)\n",
    "\n",
    "# Delete multiple columns 'A' and 'B'\n",
    "df = df.drop(['A', 'C'], axis=1)\n",
    "df"
   ]
  },
  {
   "cell_type": "code",
   "execution_count": 84,
   "id": "e90f83f7",
   "metadata": {},
   "outputs": [
    {
     "data": {
      "text/html": [
       "<div>\n",
       "<style scoped>\n",
       "    .dataframe tbody tr th:only-of-type {\n",
       "        vertical-align: middle;\n",
       "    }\n",
       "\n",
       "    .dataframe tbody tr th {\n",
       "        vertical-align: top;\n",
       "    }\n",
       "\n",
       "    .dataframe thead th {\n",
       "        text-align: right;\n",
       "    }\n",
       "</style>\n",
       "<table border=\"1\" class=\"dataframe\">\n",
       "  <thead>\n",
       "    <tr style=\"text-align: right;\">\n",
       "      <th></th>\n",
       "      <th>A</th>\n",
       "    </tr>\n",
       "  </thead>\n",
       "  <tbody>\n",
       "    <tr>\n",
       "      <th>0</th>\n",
       "      <td>1</td>\n",
       "    </tr>\n",
       "    <tr>\n",
       "      <th>1</th>\n",
       "      <td>2</td>\n",
       "    </tr>\n",
       "    <tr>\n",
       "      <th>2</th>\n",
       "      <td>3</td>\n",
       "    </tr>\n",
       "  </tbody>\n",
       "</table>\n",
       "</div>"
      ],
      "text/plain": [
       "   A\n",
       "0  1\n",
       "1  2\n",
       "2  3"
      ]
     },
     "execution_count": 84,
     "metadata": {},
     "output_type": "execute_result"
    }
   ],
   "source": [
    "# Using del Statement:\n",
    "import pandas as pd\n",
    "df = pd.DataFrame({'A': [1, 2, 3], 'B': [4, 5, 6]})\n",
    "\n",
    "# Delete column 'B' in-place\n",
    "del df['B']\n",
    "df"
   ]
  },
  {
   "cell_type": "markdown",
   "id": "9b92c6db",
   "metadata": {},
   "source": [
    "### 35. How to get the items which are not common to both series A and series B?\n"
   ]
  },
  {
   "cell_type": "code",
   "execution_count": 86,
   "id": "79752223",
   "metadata": {},
   "outputs": [
    {
     "data": {
      "text/plain": [
       "0    1\n",
       "1    2\n",
       "5    6\n",
       "6    7\n",
       "dtype: int64"
      ]
     },
     "execution_count": 86,
     "metadata": {},
     "output_type": "execute_result"
    }
   ],
   "source": [
    "import pandas as pd\n",
    "\n",
    "# Create two series\n",
    "sr1 = pd.Series([1, 2, 3, 4, 5])\n",
    "sr2 = pd.Series([3, 4, 5, 6, 7])\n",
    "\n",
    "# Find the union of the two series\n",
    "union = pd.Series(np.union1d(sr1, sr2))\n",
    "\n",
    "# Find the intersection of the two series\n",
    "intersection = pd.Series(np.intersect1d(sr1, sr2))\n",
    "\n",
    "# Find the difference between the union and the intersection\n",
    "difference = union[~union.isin(intersection)]\n",
    "difference"
   ]
  },
  {
   "cell_type": "markdown",
   "id": "b1023e33",
   "metadata": {},
   "source": [
    "### 36. How to get the minimum, 25th percentile, median, 75th, and max of a numeric series?\n"
   ]
  },
  {
   "cell_type": "code",
   "execution_count": 8,
   "id": "4938ac4b",
   "metadata": {},
   "outputs": [
    {
     "name": "stdout",
     "output_type": "stream",
     "text": [
      "Minimum: 10.0\n",
      "25th Percentile (Q1): 20.0\n",
      "Median (50th Percentile or Q2): 30.0\n",
      "75th Percentile (Q3): 40.0\n",
      "Maximum: 50.0\n"
     ]
    }
   ],
   "source": [
    "# Using Pandas describe()\n",
    "\n",
    "import pandas as pd\n",
    "\n",
    "# Create a numeric Series (replace this with your actual data)\n",
    "data = pd.Series([10, 15, 20, 25, 30, 35, 40, 45, 50])\n",
    "\n",
    "# Use the describe() method to get summary statistics\n",
    "summary_stats = data.describe(percentiles=[.25, .5, .75])\n",
    "\n",
    "# Extract the specific statistics\n",
    "minimum = summary_stats['min']\n",
    "q1 = summary_stats['25%']\n",
    "median = summary_stats['50%']\n",
    "q3 = summary_stats['75%']\n",
    "maximum = summary_stats['max']\n",
    "\n",
    "print(\"Minimum:\", minimum)\n",
    "print(\"25th Percentile (Q1):\", q1)\n",
    "print(\"Median (50th Percentile or Q2):\", median)\n",
    "print(\"75th Percentile (Q3):\", q3)\n",
    "print(\"Maximum:\", maximum)"
   ]
  },
  {
   "cell_type": "code",
   "execution_count": 3,
   "id": "c901fb27",
   "metadata": {},
   "outputs": [
    {
     "name": "stdout",
     "output_type": "stream",
     "text": [
      "Minimum: 10\n",
      "25th Percentile (Q1): 20.0\n",
      "Median (50th Percentile or Q2): 30.0\n",
      "75th Percentile (Q3): 40.0\n",
      "Maximum: 50\n"
     ]
    }
   ],
   "source": [
    "# Using Numpy functions, percentile(), median(), min(), max()\n",
    "\n",
    "import pandas as pd\n",
    "import numpy as np\n",
    "\n",
    "# Create a numeric Series (replace this with your actual data)\n",
    "data = pd.Series([10, 15, 20, 25, 30, 35, 40, 45, 50])\n",
    "\n",
    "# Calculate the minimum\n",
    "minimum = np.min(data)\n",
    "\n",
    "# Calculate the 25th percentile (Q1)\n",
    "q1 = np.percentile(data, 25)\n",
    "\n",
    "# Calculate the median (50th percentile or Q2)\n",
    "median = np.median(data)\n",
    "\n",
    "# Calculate the 75th percentile (Q3)\n",
    "q3 = np.percentile(data, 75)\n",
    "\n",
    "# Calculate the maximum\n",
    "maximum = np.max(data)\n",
    "\n",
    "print(\"Minimum:\", minimum)\n",
    "print(\"25th Percentile (Q1):\", q1)\n",
    "print(\"Median (50th Percentile or Q2):\", median)\n",
    "print(\"75th Percentile (Q3):\", q3)\n",
    "print(\"Maximum:\", maximum)"
   ]
  },
  {
   "cell_type": "markdown",
   "id": "fae23b03",
   "metadata": {},
   "source": [
    "### 37. How can we sort the DataFrame?\n"
   ]
  },
  {
   "cell_type": "code",
   "execution_count": 3,
   "id": "f1dd3fcc",
   "metadata": {},
   "outputs": [
    {
     "data": {
      "text/html": [
       "<div>\n",
       "<style scoped>\n",
       "    .dataframe tbody tr th:only-of-type {\n",
       "        vertical-align: middle;\n",
       "    }\n",
       "\n",
       "    .dataframe tbody tr th {\n",
       "        vertical-align: top;\n",
       "    }\n",
       "\n",
       "    .dataframe thead th {\n",
       "        text-align: right;\n",
       "    }\n",
       "</style>\n",
       "<table border=\"1\" class=\"dataframe\">\n",
       "  <thead>\n",
       "    <tr style=\"text-align: right;\">\n",
       "      <th></th>\n",
       "      <th>A</th>\n",
       "      <th>B</th>\n",
       "    </tr>\n",
       "  </thead>\n",
       "  <tbody>\n",
       "    <tr>\n",
       "      <th>1</th>\n",
       "      <td>1</td>\n",
       "      <td>8</td>\n",
       "    </tr>\n",
       "    <tr>\n",
       "      <th>2</th>\n",
       "      <td>2</td>\n",
       "      <td>9</td>\n",
       "    </tr>\n",
       "    <tr>\n",
       "      <th>0</th>\n",
       "      <td>3</td>\n",
       "      <td>10</td>\n",
       "    </tr>\n",
       "    <tr>\n",
       "      <th>3</th>\n",
       "      <td>4</td>\n",
       "      <td>7</td>\n",
       "    </tr>\n",
       "  </tbody>\n",
       "</table>\n",
       "</div>"
      ],
      "text/plain": [
       "   A   B\n",
       "1  1   8\n",
       "2  2   9\n",
       "0  3  10\n",
       "3  4   7"
      ]
     },
     "execution_count": 3,
     "metadata": {},
     "output_type": "execute_result"
    }
   ],
   "source": [
    "import pandas as pd\n",
    "\n",
    "# Create a sample DataFrame\n",
    "df = pd.DataFrame({'A': [3, 1, 2, 4],\n",
    "                   'B': [10, 8, 9, 7]})\n",
    "\n",
    "# Sort by a single column\n",
    "df_sorted = df.sort_values(by='A')  # Sort by column 'A' in ascending order\n",
    "# To sort in descending order, you can use df.sort_values(by='A', ascending=False)\n",
    "df_sorted"
   ]
  },
  {
   "cell_type": "markdown",
   "id": "f98fefc8",
   "metadata": {},
   "source": [
    "### 38. How to drop duplicate rows from DataFrame?\n"
   ]
  },
  {
   "cell_type": "code",
   "execution_count": 24,
   "id": "3b603e7f",
   "metadata": {},
   "outputs": [
    {
     "name": "stdout",
     "output_type": "stream",
     "text": [
      "DataFrame with all columns:\n"
     ]
    },
    {
     "data": {
      "text/html": [
       "<div>\n",
       "<style scoped>\n",
       "    .dataframe tbody tr th:only-of-type {\n",
       "        vertical-align: middle;\n",
       "    }\n",
       "\n",
       "    .dataframe tbody tr th {\n",
       "        vertical-align: top;\n",
       "    }\n",
       "\n",
       "    .dataframe thead th {\n",
       "        text-align: right;\n",
       "    }\n",
       "</style>\n",
       "<table border=\"1\" class=\"dataframe\">\n",
       "  <thead>\n",
       "    <tr style=\"text-align: right;\">\n",
       "      <th></th>\n",
       "      <th>A</th>\n",
       "      <th>B</th>\n",
       "    </tr>\n",
       "  </thead>\n",
       "  <tbody>\n",
       "    <tr>\n",
       "      <th>0</th>\n",
       "      <td>1</td>\n",
       "      <td>foo</td>\n",
       "    </tr>\n",
       "    <tr>\n",
       "      <th>1</th>\n",
       "      <td>2</td>\n",
       "      <td>bar</td>\n",
       "    </tr>\n",
       "    <tr>\n",
       "      <th>3</th>\n",
       "      <td>3</td>\n",
       "      <td>baz</td>\n",
       "    </tr>\n",
       "    <tr>\n",
       "      <th>4</th>\n",
       "      <td>4</td>\n",
       "      <td>far</td>\n",
       "    </tr>\n",
       "  </tbody>\n",
       "</table>\n",
       "</div>"
      ],
      "text/plain": [
       "   A    B\n",
       "0  1  foo\n",
       "1  2  bar\n",
       "3  3  baz\n",
       "4  4  far"
      ]
     },
     "execution_count": 24,
     "metadata": {},
     "output_type": "execute_result"
    }
   ],
   "source": [
    "import pandas as pd\n",
    "\n",
    "# Create a sample DataFrame with duplicate rows\n",
    "df = pd.DataFrame({'A': [1, 2, 2, 3, 4],\n",
    "                   'B': ['foo', 'bar', 'bar', 'baz', 'far']})\n",
    "\n",
    "# Drop duplicate rows based on all columns\n",
    "df_no_duplicates = df.drop_duplicates()\n",
    "\n",
    "# Display the resulting DataFrames\n",
    "print(\"DataFrame with all columns:\")\n",
    "df_no_duplicates"
   ]
  },
  {
   "cell_type": "code",
   "execution_count": 25,
   "id": "73e75cd9",
   "metadata": {},
   "outputs": [
    {
     "name": "stdout",
     "output_type": "stream",
     "text": [
      "\n",
      "DataFrame with duplicates based on subset of columns:\n"
     ]
    },
    {
     "data": {
      "text/html": [
       "<div>\n",
       "<style scoped>\n",
       "    .dataframe tbody tr th:only-of-type {\n",
       "        vertical-align: middle;\n",
       "    }\n",
       "\n",
       "    .dataframe tbody tr th {\n",
       "        vertical-align: top;\n",
       "    }\n",
       "\n",
       "    .dataframe thead th {\n",
       "        text-align: right;\n",
       "    }\n",
       "</style>\n",
       "<table border=\"1\" class=\"dataframe\">\n",
       "  <thead>\n",
       "    <tr style=\"text-align: right;\">\n",
       "      <th></th>\n",
       "      <th>A</th>\n",
       "      <th>B</th>\n",
       "    </tr>\n",
       "  </thead>\n",
       "  <tbody>\n",
       "    <tr>\n",
       "      <th>0</th>\n",
       "      <td>1</td>\n",
       "      <td>foo</td>\n",
       "    </tr>\n",
       "    <tr>\n",
       "      <th>1</th>\n",
       "      <td>2</td>\n",
       "      <td>bar</td>\n",
       "    </tr>\n",
       "    <tr>\n",
       "      <th>2</th>\n",
       "      <td>2</td>\n",
       "      <td>baz</td>\n",
       "    </tr>\n",
       "    <tr>\n",
       "      <th>4</th>\n",
       "      <td>4</td>\n",
       "      <td>far</td>\n",
       "    </tr>\n",
       "  </tbody>\n",
       "</table>\n",
       "</div>"
      ],
      "text/plain": [
       "   A    B\n",
       "0  1  foo\n",
       "1  2  bar\n",
       "2  2  baz\n",
       "4  4  far"
      ]
     },
     "execution_count": 25,
     "metadata": {},
     "output_type": "execute_result"
    }
   ],
   "source": [
    "import pandas as pd\n",
    "\n",
    "# Create a sample DataFrame with duplicate rows\n",
    "df = pd.DataFrame({'A': [1, 2, 2, 3, 4],\n",
    "                   'B': ['foo', 'bar', 'baz', 'baz', 'far']})\n",
    "\n",
    "# Drop duplicate rows based on a subset of columns\n",
    "df_no_duplicates_subset = df.drop_duplicates(subset=['B'])\n",
    "\n",
    "# Display the resulting DataFrames\n",
    "print(\"\\nDataFrame with duplicates based on subset of columns:\")\n",
    "df_no_duplicates_subset"
   ]
  },
  {
   "cell_type": "markdown",
   "id": "1c40b7a6",
   "metadata": {},
   "source": [
    "### 39. How to drop duplicate columns from DataFrame?\n"
   ]
  },
  {
   "cell_type": "code",
   "execution_count": 29,
   "id": "fdde151b",
   "metadata": {},
   "outputs": [
    {
     "data": {
      "text/html": [
       "<div>\n",
       "<style scoped>\n",
       "    .dataframe tbody tr th:only-of-type {\n",
       "        vertical-align: middle;\n",
       "    }\n",
       "\n",
       "    .dataframe tbody tr th {\n",
       "        vertical-align: top;\n",
       "    }\n",
       "\n",
       "    .dataframe thead th {\n",
       "        text-align: right;\n",
       "    }\n",
       "</style>\n",
       "<table border=\"1\" class=\"dataframe\">\n",
       "  <thead>\n",
       "    <tr style=\"text-align: right;\">\n",
       "      <th></th>\n",
       "      <th>A</th>\n",
       "      <th>B</th>\n",
       "      <th>C</th>\n",
       "    </tr>\n",
       "  </thead>\n",
       "  <tbody>\n",
       "    <tr>\n",
       "      <th>0</th>\n",
       "      <td>1</td>\n",
       "      <td>4</td>\n",
       "      <td>7</td>\n",
       "    </tr>\n",
       "    <tr>\n",
       "      <th>1</th>\n",
       "      <td>2</td>\n",
       "      <td>5</td>\n",
       "      <td>8</td>\n",
       "    </tr>\n",
       "    <tr>\n",
       "      <th>2</th>\n",
       "      <td>3</td>\n",
       "      <td>6</td>\n",
       "      <td>9</td>\n",
       "    </tr>\n",
       "  </tbody>\n",
       "</table>\n",
       "</div>"
      ],
      "text/plain": [
       "   A  B  C\n",
       "0  1  4  7\n",
       "1  2  5  8\n",
       "2  3  6  9"
      ]
     },
     "execution_count": 29,
     "metadata": {},
     "output_type": "execute_result"
    }
   ],
   "source": [
    "import pandas as pd\n",
    "\n",
    "# Create a sample DataFrame with duplicate columns\n",
    "df = pd.DataFrame( {'A': [1, 2, 3],\n",
    "                    'B': [4, 5, 6],\n",
    "                    'C': [7, 8, 9],\n",
    "                    'D': [1, 2, 3],\n",
    "                    'E': [4, 5, 6]} )\n",
    "\n",
    "# Identify and drop duplicate columns based on column values\n",
    "df_no_duplicate_columns = df.T.drop_duplicates().T\n",
    "\n",
    "# Display the resulting DataFrame\n",
    "df_no_duplicate_columns"
   ]
  },
  {
   "cell_type": "markdown",
   "id": "4c46ac12",
   "metadata": {},
   "source": [
    "### 40. Write a Pandas program to split a string of a column of a given DataFrame into multiple columns(Split Name and Surname)"
   ]
  },
  {
   "cell_type": "code",
   "execution_count": 30,
   "id": "322ddb27",
   "metadata": {},
   "outputs": [
    {
     "data": {
      "text/html": [
       "<div>\n",
       "<style scoped>\n",
       "    .dataframe tbody tr th:only-of-type {\n",
       "        vertical-align: middle;\n",
       "    }\n",
       "\n",
       "    .dataframe tbody tr th {\n",
       "        vertical-align: top;\n",
       "    }\n",
       "\n",
       "    .dataframe thead th {\n",
       "        text-align: right;\n",
       "    }\n",
       "</style>\n",
       "<table border=\"1\" class=\"dataframe\">\n",
       "  <thead>\n",
       "    <tr style=\"text-align: right;\">\n",
       "      <th></th>\n",
       "      <th>Full Name</th>\n",
       "      <th>First Name</th>\n",
       "      <th>Last Name</th>\n",
       "    </tr>\n",
       "  </thead>\n",
       "  <tbody>\n",
       "    <tr>\n",
       "      <th>0</th>\n",
       "      <td>John Doe</td>\n",
       "      <td>John</td>\n",
       "      <td>Doe</td>\n",
       "    </tr>\n",
       "    <tr>\n",
       "      <th>1</th>\n",
       "      <td>Jane Smith</td>\n",
       "      <td>Jane</td>\n",
       "      <td>Smith</td>\n",
       "    </tr>\n",
       "    <tr>\n",
       "      <th>2</th>\n",
       "      <td>Alice Johnson</td>\n",
       "      <td>Alice</td>\n",
       "      <td>Johnson</td>\n",
       "    </tr>\n",
       "  </tbody>\n",
       "</table>\n",
       "</div>"
      ],
      "text/plain": [
       "       Full Name First Name Last Name\n",
       "0       John Doe       John       Doe\n",
       "1     Jane Smith       Jane     Smith\n",
       "2  Alice Johnson      Alice   Johnson"
      ]
     },
     "execution_count": 30,
     "metadata": {},
     "output_type": "execute_result"
    }
   ],
   "source": [
    "import pandas as pd\n",
    "\n",
    "# Create a sample DataFrame with a 'Full Name' column\n",
    "data = {'Full Name': ['John Doe', 'Jane Smith', 'Alice Johnson']}\n",
    "df = pd.DataFrame(data)\n",
    "\n",
    "# Split the 'Full Name' column into 'First Name' and 'Last Name' columns\n",
    "df[['First Name', 'Last Name']] = df['Full Name'].str.split(' ', n=1, expand=True)\n",
    "\n",
    "# Display the resulting DataFrame\n",
    "df"
   ]
  }
 ],
 "metadata": {
  "kernelspec": {
   "display_name": "Python 3 (ipykernel)",
   "language": "python",
   "name": "python3"
  },
  "language_info": {
   "codemirror_mode": {
    "name": "ipython",
    "version": 3
   },
   "file_extension": ".py",
   "mimetype": "text/x-python",
   "name": "python",
   "nbconvert_exporter": "python",
   "pygments_lexer": "ipython3",
   "version": "3.9.17"
  }
 },
 "nbformat": 4,
 "nbformat_minor": 5
}
