{
 "cells": [
  {
   "cell_type": "markdown",
   "id": "51172369",
   "metadata": {},
   "source": [
    "#  ASSIGNMENT - 20(Naive Bayes Algorithm)\n",
    "## Solution/Ans  by - Pranav Rode"
   ]
  },
  {
   "cell_type": "markdown",
   "id": "a2a76db9",
   "metadata": {},
   "source": [
    "## 1. What is a Naïve Bayes Classifier?\n"
   ]
  },
  {
   "cell_type": "code",
   "execution_count": null,
   "id": "36a909a3",
   "metadata": {},
   "outputs": [],
   "source": []
  },
  {
   "cell_type": "markdown",
   "id": "5ba7cac0",
   "metadata": {},
   "source": [
    "## 2. What are the different types of Naive Bayes classifiers?\n"
   ]
  },
  {
   "cell_type": "code",
   "execution_count": null,
   "id": "89dcf65c",
   "metadata": {},
   "outputs": [],
   "source": []
  },
  {
   "cell_type": "markdown",
   "id": "bf6b6adb",
   "metadata": {},
   "source": [
    "## 3. Why Naive Bayes is called Naive?\n"
   ]
  },
  {
   "cell_type": "code",
   "execution_count": null,
   "id": "a41efd49",
   "metadata": {},
   "outputs": [],
   "source": []
  },
  {
   "cell_type": "markdown",
   "id": "df233132",
   "metadata": {},
   "source": [
    "## 4. Can you choose a classifier based on the size <br> of the training set?\n"
   ]
  },
  {
   "cell_type": "code",
   "execution_count": null,
   "id": "95526efd",
   "metadata": {},
   "outputs": [],
   "source": []
  },
  {
   "cell_type": "markdown",
   "id": "9e8cc22b",
   "metadata": {},
   "source": [
    "## 5. Explain Bayes Theorem in detail?\n"
   ]
  },
  {
   "cell_type": "code",
   "execution_count": null,
   "id": "33002fd9",
   "metadata": {},
   "outputs": [],
   "source": []
  },
  {
   "cell_type": "markdown",
   "id": "390b5808",
   "metadata": {},
   "source": [
    "## 6. What is the formula given by the Bayes theorem?\n"
   ]
  },
  {
   "cell_type": "code",
   "execution_count": null,
   "id": "1a5a3d67",
   "metadata": {},
   "outputs": [],
   "source": []
  },
  {
   "cell_type": "markdown",
   "id": "d88b5a76",
   "metadata": {},
   "source": [
    "## 7. What is posterior probability and prior <br> probability in Naïve Bayes?\n"
   ]
  },
  {
   "cell_type": "code",
   "execution_count": null,
   "id": "2f3bdae0",
   "metadata": {},
   "outputs": [],
   "source": []
  },
  {
   "cell_type": "markdown",
   "id": "28455642",
   "metadata": {},
   "source": [
    "## 8. Define likelihood and evidence in Naive Bayes?\n"
   ]
  },
  {
   "cell_type": "code",
   "execution_count": null,
   "id": "f8d99c0a",
   "metadata": {},
   "outputs": [],
   "source": []
  },
  {
   "cell_type": "markdown",
   "id": "a302a0fe",
   "metadata": {},
   "source": [
    "## 9. Define Bayes theorem in terms of prior, <br> evidence, and likelihood.\n"
   ]
  },
  {
   "cell_type": "code",
   "execution_count": null,
   "id": "bfa22335",
   "metadata": {},
   "outputs": [],
   "source": []
  },
  {
   "cell_type": "markdown",
   "id": "b719071c",
   "metadata": {},
   "source": [
    "## 10. How does the Naive Bayes classifier work?\n"
   ]
  },
  {
   "cell_type": "code",
   "execution_count": null,
   "id": "ec00b0a2",
   "metadata": {},
   "outputs": [],
   "source": []
  },
  {
   "cell_type": "markdown",
   "id": "bdbb59cd",
   "metadata": {},
   "source": [
    "## 11. While calculating the probability of a given <br> situation, what error can we run into in Naïve Bayes <br> and how can we solve it?\n"
   ]
  },
  {
   "cell_type": "code",
   "execution_count": null,
   "id": "bbb9e13c",
   "metadata": {},
   "outputs": [],
   "source": []
  },
  {
   "cell_type": "markdown",
   "id": "f4ad8a9a",
   "metadata": {},
   "source": [
    "## 12. How would you use Naive Bayes classifier for <br> categorical features? <br>What if some features are numerical?\n"
   ]
  },
  {
   "cell_type": "code",
   "execution_count": null,
   "id": "1e8c5e51",
   "metadata": {},
   "outputs": [],
   "source": []
  },
  {
   "cell_type": "markdown",
   "id": "e8cdbe4b",
   "metadata": {},
   "source": [
    "## 13. What's the difference between Generative<br> Classifiers and Discriminative Classifiers?<br>Name some examples of each one\n"
   ]
  },
  {
   "cell_type": "code",
   "execution_count": null,
   "id": "7b916cae",
   "metadata": {},
   "outputs": [],
   "source": []
  },
  {
   "cell_type": "markdown",
   "id": "4f42cc66",
   "metadata": {},
   "source": [
    "## 14. Is Naive Bayes a discriminative classifier or <br> generative classifier?\n"
   ]
  },
  {
   "cell_type": "code",
   "execution_count": null,
   "id": "f383ef68",
   "metadata": {},
   "outputs": [],
   "source": []
  },
  {
   "cell_type": "markdown",
   "id": "1368337a",
   "metadata": {},
   "source": [
    "## 15. Whether Feature Scaling is required?\n"
   ]
  },
  {
   "cell_type": "code",
   "execution_count": null,
   "id": "f3eeec95",
   "metadata": {},
   "outputs": [],
   "source": []
  },
  {
   "cell_type": "markdown",
   "id": "a4eb957d",
   "metadata": {},
   "source": [
    "## 16. Impact of outliers on NB Classifier?\n"
   ]
  },
  {
   "cell_type": "code",
   "execution_count": null,
   "id": "1881ee8c",
   "metadata": {},
   "outputs": [],
   "source": []
  },
  {
   "cell_type": "markdown",
   "id": "2100f835",
   "metadata": {},
   "source": [
    "## 17. What is the Bernoulli distribution in Naïve Bayes?\n"
   ]
  },
  {
   "cell_type": "code",
   "execution_count": null,
   "id": "0f740f5e",
   "metadata": {},
   "outputs": [],
   "source": []
  },
  {
   "cell_type": "markdown",
   "id": "94333184",
   "metadata": {},
   "source": [
    "## 18. What are the advantages of the Naive Bayes Algorithm?\n"
   ]
  },
  {
   "cell_type": "code",
   "execution_count": null,
   "id": "e193e4f7",
   "metadata": {},
   "outputs": [],
   "source": []
  },
  {
   "cell_type": "markdown",
   "id": "00d6aea6",
   "metadata": {},
   "source": [
    "## 19. What are the disadvantages of the Naive Bayes Algorithm?\n"
   ]
  },
  {
   "cell_type": "code",
   "execution_count": null,
   "id": "33a26161",
   "metadata": {},
   "outputs": [],
   "source": []
  },
  {
   "cell_type": "markdown",
   "id": "f9399461",
   "metadata": {},
   "source": [
    "## 20. What are the applications of Naive Bayes?"
   ]
  },
  {
   "cell_type": "code",
   "execution_count": null,
   "id": "84cd0c83",
   "metadata": {},
   "outputs": [],
   "source": []
  }
 ],
 "metadata": {
  "kernelspec": {
   "display_name": "Python 3 (ipykernel)",
   "language": "python",
   "name": "python3"
  },
  "language_info": {
   "codemirror_mode": {
    "name": "ipython",
    "version": 3
   },
   "file_extension": ".py",
   "mimetype": "text/x-python",
   "name": "python",
   "nbconvert_exporter": "python",
   "pygments_lexer": "ipython3",
   "version": "3.11.5"
  }
 },
 "nbformat": 4,
 "nbformat_minor": 5
}
