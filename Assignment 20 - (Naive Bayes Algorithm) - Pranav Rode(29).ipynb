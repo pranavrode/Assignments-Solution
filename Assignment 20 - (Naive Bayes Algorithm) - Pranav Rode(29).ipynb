{
 "cells": [
  {
   "cell_type": "markdown",
   "id": "9def9744",
   "metadata": {},
   "source": [
    "#  ASSIGNMENT - 20(Naive Bayes Algorithm)\n",
    "## Solution/Ans  by - Pranav Rode"
   ]
  },
  {
   "cell_type": "markdown",
   "id": "7b4726e3",
   "metadata": {},
   "source": [
    "## 1. What is a Naïve Bayes Classifier?\n"
   ]
  },
  {
   "cell_type": "code",
   "execution_count": null,
   "id": "459d0dd6",
   "metadata": {},
   "outputs": [],
   "source": []
  },
  {
   "cell_type": "markdown",
   "id": "a8702e2f",
   "metadata": {},
   "source": [
    "## 2. What are the different types of Naive Bayes classifiers?\n"
   ]
  },
  {
   "cell_type": "code",
   "execution_count": null,
   "id": "aea44bda",
   "metadata": {},
   "outputs": [],
   "source": []
  },
  {
   "cell_type": "markdown",
   "id": "9e315cb0",
   "metadata": {},
   "source": [
    "## 3. Why Naive Bayes is called Naive?\n"
   ]
  },
  {
   "cell_type": "code",
   "execution_count": null,
   "id": "7a80b519",
   "metadata": {},
   "outputs": [],
   "source": []
  },
  {
   "cell_type": "markdown",
   "id": "434e51a4",
   "metadata": {},
   "source": [
    "## 4. Can you choose a classifier based on the size <br> of the training set?\n"
   ]
  },
  {
   "cell_type": "code",
   "execution_count": null,
   "id": "65682b36",
   "metadata": {},
   "outputs": [],
   "source": []
  },
  {
   "cell_type": "markdown",
   "id": "8f8d8856",
   "metadata": {},
   "source": [
    "## 5. Explain Bayes Theorem in detail?\n"
   ]
  },
  {
   "cell_type": "code",
   "execution_count": null,
   "id": "e8bbf66f",
   "metadata": {},
   "outputs": [],
   "source": []
  },
  {
   "cell_type": "markdown",
   "id": "a112894a",
   "metadata": {},
   "source": [
    "## 6. What is the formula given by the Bayes theorem?\n"
   ]
  },
  {
   "cell_type": "code",
   "execution_count": null,
   "id": "5217689a",
   "metadata": {},
   "outputs": [],
   "source": []
  },
  {
   "cell_type": "markdown",
   "id": "d0c18f03",
   "metadata": {},
   "source": [
    "## 7. What is posterior probability and prior <br> probability in Naïve Bayes?\n"
   ]
  },
  {
   "cell_type": "code",
   "execution_count": null,
   "id": "53081336",
   "metadata": {},
   "outputs": [],
   "source": []
  },
  {
   "cell_type": "markdown",
   "id": "968c40ec",
   "metadata": {},
   "source": [
    "## 8. Define likelihood and evidence in Naive Bayes?\n"
   ]
  },
  {
   "cell_type": "code",
   "execution_count": null,
   "id": "4963aaab",
   "metadata": {},
   "outputs": [],
   "source": []
  },
  {
   "cell_type": "markdown",
   "id": "849036bc",
   "metadata": {},
   "source": [
    "## 9. Define Bayes theorem in terms of prior, <br> evidence, and likelihood.\n"
   ]
  },
  {
   "cell_type": "code",
   "execution_count": null,
   "id": "4464a839",
   "metadata": {},
   "outputs": [],
   "source": []
  },
  {
   "cell_type": "markdown",
   "id": "216029a8",
   "metadata": {},
   "source": [
    "## 10. How does the Naive Bayes classifier work?\n"
   ]
  },
  {
   "cell_type": "code",
   "execution_count": null,
   "id": "b2bcdc68",
   "metadata": {},
   "outputs": [],
   "source": []
  },
  {
   "cell_type": "markdown",
   "id": "928d7064",
   "metadata": {},
   "source": [
    "## 11. While calculating the probability of a given <br> situation, what error can we run into in Naïve Bayes <br> and how can we solve it?\n"
   ]
  },
  {
   "cell_type": "code",
   "execution_count": null,
   "id": "003c5460",
   "metadata": {},
   "outputs": [],
   "source": []
  },
  {
   "cell_type": "markdown",
   "id": "f7efa053",
   "metadata": {},
   "source": [
    "## 12. How would you use Naive Bayes classifier for <br> categorical features? <br>What if some features are numerical?\n"
   ]
  },
  {
   "cell_type": "code",
   "execution_count": null,
   "id": "534c1988",
   "metadata": {},
   "outputs": [],
   "source": []
  },
  {
   "cell_type": "markdown",
   "id": "6d70bac7",
   "metadata": {},
   "source": [
    "## 13. What's the difference between Generative<br> Classifiers and Discriminative Classifiers?<br>Name some examples of each one\n"
   ]
  },
  {
   "cell_type": "code",
   "execution_count": null,
   "id": "e8503bd2",
   "metadata": {},
   "outputs": [],
   "source": []
  },
  {
   "cell_type": "markdown",
   "id": "87c5c039",
   "metadata": {},
   "source": [
    "## 14. Is Naive Bayes a discriminative classifier or <br> generative classifier?\n"
   ]
  },
  {
   "cell_type": "code",
   "execution_count": null,
   "id": "810b3f26",
   "metadata": {},
   "outputs": [],
   "source": []
  },
  {
   "cell_type": "markdown",
   "id": "13f1f155",
   "metadata": {},
   "source": [
    "## 15. Whether Feature Scaling is required?\n"
   ]
  },
  {
   "cell_type": "code",
   "execution_count": null,
   "id": "5b99e885",
   "metadata": {},
   "outputs": [],
   "source": []
  },
  {
   "cell_type": "markdown",
   "id": "e792d739",
   "metadata": {},
   "source": [
    "## 16. Impact of outliers on NB Classifier?\n"
   ]
  },
  {
   "cell_type": "code",
   "execution_count": null,
   "id": "cf7ff1e0",
   "metadata": {},
   "outputs": [],
   "source": []
  },
  {
   "cell_type": "markdown",
   "id": "d3e31cdf",
   "metadata": {},
   "source": [
    "## 17. What is the Bernoulli distribution in Naïve Bayes?\n"
   ]
  },
  {
   "cell_type": "code",
   "execution_count": null,
   "id": "e0cc7dd0",
   "metadata": {},
   "outputs": [],
   "source": []
  },
  {
   "cell_type": "markdown",
   "id": "21d641d8",
   "metadata": {},
   "source": [
    "## 18. What are the advantages of the Naive Bayes Algorithm?\n"
   ]
  },
  {
   "cell_type": "code",
   "execution_count": null,
   "id": "b2a47b7d",
   "metadata": {},
   "outputs": [],
   "source": []
  },
  {
   "cell_type": "markdown",
   "id": "8a451157",
   "metadata": {},
   "source": [
    "## 19. What are the disadvantages of the Naive Bayes Algorithm?\n"
   ]
  },
  {
   "cell_type": "code",
   "execution_count": null,
   "id": "328020dc",
   "metadata": {},
   "outputs": [],
   "source": []
  },
  {
   "cell_type": "markdown",
   "id": "2d653058",
   "metadata": {},
   "source": [
    "## 20. What are the applications of Naive Bayes?"
   ]
  },
  {
   "cell_type": "code",
   "execution_count": null,
   "id": "f0ce4d64",
   "metadata": {},
   "outputs": [],
   "source": []
  }
 ],
 "metadata": {
  "kernelspec": {
   "display_name": "Python 3 (ipykernel)",
   "language": "python",
   "name": "python3"
  },
  "language_info": {
   "codemirror_mode": {
    "name": "ipython",
    "version": 3
   },
   "file_extension": ".py",
   "mimetype": "text/x-python",
   "name": "python",
   "nbconvert_exporter": "python",
   "pygments_lexer": "ipython3",
   "version": "3.11.5"
  }
 },
 "nbformat": 4,
 "nbformat_minor": 5
}
