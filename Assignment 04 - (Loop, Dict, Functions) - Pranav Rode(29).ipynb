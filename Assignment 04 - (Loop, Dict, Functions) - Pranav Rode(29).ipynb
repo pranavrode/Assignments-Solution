{
 "cells": [
  {
   "cell_type": "markdown",
   "id": "483bd02f",
   "metadata": {},
   "source": [
    "#  ASSIGNMENT - 04(Loop, Dict, Functions)\n",
    "## Solution/Ans  by - Pranav Rode(29) "
   ]
  },
  {
   "cell_type": "markdown",
   "id": "aba6348a",
   "metadata": {},
   "source": [
    "## Write Python programs using Functions:"
   ]
  },
  {
   "cell_type": "markdown",
   "id": "385fd97a",
   "metadata": {},
   "source": [
    "### 1. Python program to sort Python Dictionaries by Keys"
   ]
  },
  {
   "cell_type": "code",
   "execution_count": 29,
   "id": "6faeb1c3",
   "metadata": {},
   "outputs": [
    {
     "name": "stdout",
     "output_type": "stream",
     "text": [
      "Original Dictionary:\n",
      "{'banana': 3, 'apple': 1, 'orange': 2, 'grape': 4}\n",
      "\n",
      "Dictionary Sorted by Values:\n",
      "{'apple': 1, 'banana': 3, 'grape': 4, 'orange': 2}\n"
     ]
    }
   ],
   "source": [
    "def sort_dict_by_keys(input_dict):\n",
    "    # Create a list of key-value tuples from the dictionary\n",
    "    items = input_dict.items()\n",
    "    # Sort the list of tuples based on keys (the first element)\n",
    "    sorted_items = sorted(items, key=lambda x: x[0])  # Sort by the first element (keys)\n",
    "    # sorted_items = sorted(items)             Other method\n",
    "    sorted_dict = dict(sorted_items)\n",
    "\n",
    "    return sorted_dict\n",
    "\n",
    "\n",
    "# Example dictionary\n",
    "my_dict = {'banana': 3, 'apple': 1, 'orange': 2, 'grape': 4}\n",
    "\n",
    "print(\"Original Dictionary:\")\n",
    "print(my_dict)\n",
    "\n",
    "print(\"\\nDictionary Sorted by Keys:\")\n",
    "print(sort_dict_by_keys(my_dict))"
   ]
  },
  {
   "cell_type": "markdown",
   "id": "f47a4ac3",
   "metadata": {},
   "source": [
    "### 2. Python program to sort Python Dictionaries by Values"
   ]
  },
  {
   "cell_type": "code",
   "execution_count": 30,
   "id": "a390a8b4",
   "metadata": {},
   "outputs": [
    {
     "name": "stdout",
     "output_type": "stream",
     "text": [
      "Original Dictionary:\n",
      "{'banana': 3, 'apple': 1, 'orange': 2, 'grape': 4}\n",
      "\n",
      "Dictionary Sorted by Values:\n",
      "{'apple': 1, 'orange': 2, 'banana': 3, 'grape': 4}\n"
     ]
    }
   ],
   "source": [
    "def sort_dict_by_keys(input_dict):\n",
    "    # Create a list of key-value tuples from the dictionary\n",
    "    items = input_dict.items()\n",
    "    # Sort the list of tuples based on values (the second element)\n",
    "    sorted_items = sorted(items, key=lambda x: x[1])  # Sort by the second element (values) use [1]\n",
    "\n",
    "    sorted_dict = dict(sorted_items)\n",
    "\n",
    "    return sorted_dict\n",
    "\n",
    "\n",
    "# Example dictionary\n",
    "my_dict = {'banana': 3, 'apple': 1, 'orange': 2, 'grape': 4}\n",
    "\n",
    "print(\"Original Dictionary:\")\n",
    "print(my_dict)\n",
    "\n",
    "print(\"\\nDictionary Sorted by Values:\")\n",
    "print(sort_dict_by_keys(my_dict))"
   ]
  },
  {
   "cell_type": "markdown",
   "id": "da61e4d2",
   "metadata": {},
   "source": [
    "### 3. Python program to find the sum of all items in a dictionary\n"
   ]
  },
  {
   "cell_type": "code",
   "execution_count": 35,
   "id": "c6b44358",
   "metadata": {},
   "outputs": [
    {
     "name": "stdout",
     "output_type": "stream",
     "text": [
      "Sum of all items: 10\n"
     ]
    }
   ],
   "source": [
    "def dict_sum(input_dict):\n",
    "    sum_ = 0\n",
    "    for value in input_dict.values():\n",
    "        sum_ += value\n",
    "    return sum_\n",
    "\n",
    "# Example dictionary\n",
    "my_dict = {'banana': 3, 'apple': 1, 'orange': 2, 'grape': 4}\n",
    "\n",
    "print(\"Sum of all items:\", dict_sum(my_dict))"
   ]
  },
  {
   "cell_type": "markdown",
   "id": "75ef5475",
   "metadata": {},
   "source": [
    "### 4. Python program to remove a key from a dictionary\n"
   ]
  },
  {
   "cell_type": "code",
   "execution_count": 43,
   "id": "41e5c669",
   "metadata": {},
   "outputs": [
    {
     "name": "stdout",
     "output_type": "stream",
     "text": [
      "Original Dictionary: {'apple': 3, 'banana': 2, 'cherry': 5}\n",
      "Removed key \"banana\" with value 2 from the dictionary\n",
      "Updated Dictionary: {'apple': 3, 'cherry': 5}\n"
     ]
    }
   ],
   "source": [
    "def remove_key_from_dict(input_dict, key_to_remove):\n",
    "    # Use the pop() method to remove the key and return its value (if it exists)\n",
    "    removed_value = input_dict.pop(key_to_remove, None)\n",
    "    \n",
    "    if removed_value is not None:\n",
    "        print(f'Removed key \"{key_to_remove}\" with value {removed_value} from the dictionary')\n",
    "    else:\n",
    "        print(f'Key \"{key_to_remove}\" not found in the dictionary')\n",
    "\n",
    "# Example dictionary\n",
    "my_dict = {'apple': 3, 'banana': 2, 'cherry': 5}\n",
    "\n",
    "print(\"Original Dictionary:\", my_dict)\n",
    "\n",
    "# Call the function to remove the key\n",
    "remove_key_from_dict(my_dict, 'banana')\n",
    "\n",
    "# Print the updated dictionary\n",
    "print('Updated Dictionary:', my_dict)"
   ]
  },
  {
   "cell_type": "markdown",
   "id": "4b95e7d3",
   "metadata": {},
   "source": [
    "### 5. Python program to merge two Dictionaries\n"
   ]
  },
  {
   "cell_type": "code",
   "execution_count": 51,
   "id": "0966aedb",
   "metadata": {},
   "outputs": [
    {
     "name": "stdout",
     "output_type": "stream",
     "text": [
      "Merged Dictionary (using update()): {'a': 1, 'b': 3, 'c': 4}\n"
     ]
    }
   ],
   "source": [
    "def merge_dicts(dict1, dict2):\n",
    "    # Create a copy of dict1 to avoid modifying it directly\n",
    "    merged_dict = dict1.copy()\n",
    "    \n",
    "    # Update merged_dict with the key-value pairs from dict2\n",
    "    merged_dict.update(dict2)\n",
    "    \n",
    "    return merged_dict\n",
    "\n",
    "# Example dictionaries\n",
    "dict1 = {'a': 1, 'b': 2}\n",
    "dict2 = {'b': 3, 'c': 4}\n",
    "\n",
    "# Print the merged dictionary\n",
    "print(\"Merged Dictionary (using update()):\", merge_dicts(dict1, dict2))"
   ]
  },
  {
   "cell_type": "code",
   "execution_count": 53,
   "id": "f4a27d10",
   "metadata": {},
   "outputs": [
    {
     "name": "stdout",
     "output_type": "stream",
     "text": [
      "Merged Dictionary (using dictionary unpacking): {'a': 1, 'b': 3, 'c': 4}\n"
     ]
    }
   ],
   "source": [
    "def merge_dicts(dict1, dict2):\n",
    "    # Use dictionary unpacking to merge the dictionaries\n",
    "    merged_dict = {**dict1, **dict2}\n",
    "    \n",
    "    return merged_dict\n",
    "\n",
    "# Example dictionaries\n",
    "dict1 = {'a': 1, 'b': 2}\n",
    "dict2 = {'b': 3, 'c': 4}\n",
    "\n",
    "# Merge the dictionaries\n",
    "merged_result = merge_dicts(dict1, dict2)\n",
    "\n",
    "# Print the merged dictionary\n",
    "print(\"Merged Dictionary (using dictionary unpacking):\", merged_result)"
   ]
  },
  {
   "cell_type": "markdown",
   "id": "9175b245",
   "metadata": {},
   "source": [
    "### 6. Program to create grade calculator in Python\n"
   ]
  },
  {
   "cell_type": "code",
   "execution_count": 8,
   "id": "e30df88a",
   "metadata": {},
   "outputs": [
    {
     "name": "stdout",
     "output_type": "stream",
     "text": [
      "Enter the name of student: Pranav Rode\n",
      "Enter the percentage(0 - 100 %) score for Pranav Rode: 90\n",
      "Pranav Rode's Grade is = A\n"
     ]
    }
   ],
   "source": [
    "def calculate_grade(score):\n",
    "    if 90 <= score <= 100:\n",
    "        return 'A'\n",
    "    elif 80 <= score < 90:\n",
    "        return 'B'\n",
    "    elif 70 <= score < 80:\n",
    "        return 'C'\n",
    "    elif 60 <= score < 70:\n",
    "        return 'D'\n",
    "    elif 0 <= score < 60:\n",
    "        return 'F'\n",
    "    else:\n",
    "        return 'Invalid Score'\n",
    "\n",
    "def main():\n",
    "    student_name = input(f\"Enter the name of student: \")\n",
    "    student_score = float(input(f\"Enter the percentage(0 - 100 %) score for {student_name}: \"))\n",
    "    grade = calculate_grade(student_score)\n",
    "    \n",
    "    print(f\"{student_name}'s Grade is = {grade}\")\n",
    "\n",
    "if __name__ == \"__main__\":\n",
    "    main()"
   ]
  },
  {
   "cell_type": "markdown",
   "id": "2069155b",
   "metadata": {},
   "source": [
    "### 7. Print anagrams together in Python using List and Dictionary\n"
   ]
  },
  {
   "cell_type": "code",
   "execution_count": 14,
   "id": "154f6530",
   "metadata": {},
   "outputs": [
    {
     "data": {
      "text/plain": [
       "{'eilnst': ['listen', 'silent', 'listen', 'tinsel', 'silent'],\n",
       " 'ehllo': ['hello'],\n",
       " 'dlorw': ['world'],\n",
       " 'act': ['act', 'cat'],\n",
       " 'dgo': ['dog', 'god'],\n",
       " 'definr': ['friend', 'finder'],\n",
       " 'hnopty': ['python', 'typhon'],\n",
       " 'aehrt': ['earth', 'heart'],\n",
       " 'aelpp': ['apple'],\n",
       " 'aaabnn': ['banana'],\n",
       " 'dgoo': ['good'],\n",
       " 'dggoo': ['doggo'],\n",
       " 'bkoo': ['book'],\n",
       " 'ckoo': ['cook'],\n",
       " 'acr': ['car', 'arc'],\n",
       " 'eilnost': ['noislet'],\n",
       " 'abelt': ['table', 'bleat']}"
      ]
     },
     "execution_count": 14,
     "metadata": {},
     "output_type": "execute_result"
    }
   ],
   "source": [
    "def group_anagrams(words):\n",
    "    # Create an empty dictionary to store anagram groups\n",
    "    anagram_groups = {}\n",
    "\n",
    "    # Iterate through the list of words\n",
    "    for word in words:\n",
    "        # Sort the characters in the word to create a unique key\n",
    "        sorted_word = ''.join(sorted(word))\n",
    "\n",
    "        # Check if the sorted word is already a key in the dictionary\n",
    "        if sorted_word in anagram_groups:\n",
    "            # If it is, append the word to the list of anagrams\n",
    "            anagram_groups[sorted_word].append(word)\n",
    "        else:\n",
    "            # If it's not, create a new entry in the dictionary\n",
    "            anagram_groups[sorted_word] = [word]\n",
    "            \n",
    "    return anagram_groups\n",
    "\n",
    "# Example list of words\n",
    "word_list = [\n",
    "    \"listen\", \"silent\",  # Anagrams\n",
    "    \"hello\", \"world\",    # Non-anagrams\n",
    "    \"act\", \"cat\",        # Anagrams\n",
    "    \"dog\", \"god\",        # Anagrams\n",
    "    \"listen\", \"tinsel\",  # Anagrams\n",
    "    \"friend\", \"finder\",  # Anagrams\n",
    "    \"python\", \"typhon\",  # Anagrams\n",
    "    \"earth\", \"heart\",    # Anagrams\n",
    "    \"apple\", \"banana\",   # Non-anagrams\n",
    "    \"good\", \"doggo\",     # Non-anagrams\n",
    "    \"book\", \"cook\",      # Anagrams\n",
    "    \"car\", \"arc\",        # Anagrams\n",
    "    \"silent\", \"noislet\", # Anagrams\n",
    "    \"table\", \"bleat\"     # Anagrams\n",
    "]\n",
    "\n",
    "# You can add or remove words as needed.\n",
    "\n",
    "\n",
    "# Call the function to group anagrams together\n",
    "group_anagrams(word_list)\n"
   ]
  },
  {
   "cell_type": "markdown",
   "id": "9b7fbd27",
   "metadata": {},
   "source": [
    "### 8. Check if binary representations of two numbers are an anagram\n"
   ]
  },
  {
   "cell_type": "code",
   "execution_count": 26,
   "id": "c5127930",
   "metadata": {},
   "outputs": [
    {
     "name": "stdout",
     "output_type": "stream",
     "text": [
      "Yes\n"
     ]
    }
   ],
   "source": [
    "def is_anagram_binary(a, b):\n",
    "    bin_a = bin(a)[2:].zfill(32)\n",
    "    bin_b = bin(b)[2:].zfill(32)\n",
    "    \n",
    "    count_a = [0, 0]\n",
    "    count_b = [0, 0]\n",
    "    for i in range(32):\n",
    "        if bin_a[i] == '0':\n",
    "            count_a[0] += 1\n",
    "        else:\n",
    "            count_a[1] += 1\n",
    "        if bin_b[i] == '0':\n",
    "            count_b[0] += 1\n",
    "        else:\n",
    "            count_b[1] += 1\n",
    "    if count_a == count_b:\n",
    "        return \"Yes\"\n",
    "    else:\n",
    "        return \"No\"\n",
    "    \n",
    "    print(count_a)\n",
    "    print(count_b)\n",
    " \n",
    "a = 2\n",
    "b = 4 \n",
    "print( is_anagram_binary(a, b))"
   ]
  },
  {
   "cell_type": "code",
   "execution_count": 29,
   "id": "ee3eb036",
   "metadata": {},
   "outputs": [
    {
     "name": "stdout",
     "output_type": "stream",
     "text": [
      "Enter the first number: 2\n",
      "Enter the second number: 4\n",
      "The binary representations of 2 and 4 are not anagrams.\n"
     ]
    }
   ],
   "source": [
    "def are_binary_anagrams(num1, num2):\n",
    "    # Convert the numbers to binary strings\n",
    "    binary_str1 = bin(num1)[2:]  # Remove '0b' prefix from binary string\n",
    "    binary_str2 = bin(num2)[2:]  # Remove '0b' prefix from binary string\n",
    "\n",
    "    # Check if the sorted characters of binary strings are the same\n",
    "    return sorted(binary_str1) == sorted(binary_str2)\n",
    "\n",
    "# Input two numbers to check if their binary representations are anagrams\n",
    "number1 = int(input(\"Enter the first number: \"))\n",
    "number2 = int(input(\"Enter the second number: \"))\n",
    "\n",
    "# Check if the binary representations are anagrams\n",
    "if are_binary_anagrams(number1, number2):\n",
    "    print(f\"The binary representations of {number1} and {number2} are anagrams.\")\n",
    "else:\n",
    "    print(f\"The binary representations of {number1} and {number2} are not anagrams.\")"
   ]
  },
  {
   "cell_type": "markdown",
   "id": "4b18269e",
   "metadata": {},
   "source": [
    "### 9. Python Counter to find the size of the largest subset of anagram words\n"
   ]
  },
  {
   "cell_type": "code",
   "execution_count": 1,
   "id": "704b7a2d",
   "metadata": {},
   "outputs": [
    {
     "name": "stdout",
     "output_type": "stream",
     "text": [
      "Largest Anagram Subset: ['listen', 'silent']\n",
      "Size of the Largest Anagram Subset: 2\n"
     ]
    }
   ],
   "source": [
    "def count_letters(word):\n",
    "    letter_count = {}\n",
    "    for letter in word:\n",
    "        if letter in letter_count:\n",
    "            letter_count[letter] += 1\n",
    "        else:\n",
    "            letter_count[letter] = 1\n",
    "    return tuple(sorted(letter_count.items()))\n",
    "\n",
    "def largest_anagram_subset(words):\n",
    "    anagram_groups = {}\n",
    "\n",
    "    for word in words:\n",
    "        letter_count_tuple = count_letters(word)\n",
    "        if letter_count_tuple not in anagram_groups:\n",
    "            anagram_groups[letter_count_tuple] = []\n",
    "        anagram_groups[letter_count_tuple].append(word)\n",
    "\n",
    "    largest_group = max(anagram_groups.values(), key=len)\n",
    "\n",
    "    return largest_group\n",
    "\n",
    "# Example usage:\n",
    "word_list = [\"listen\", \"silent\", \"hello\", \"world\", \"dog\", \"god\"]\n",
    "largest_anagrams = largest_anagram_subset(word_list)\n",
    "print(\"Largest Anagram Subset:\", largest_anagrams)\n",
    "print(\"Size of the Largest Anagram Subset:\", len(largest_anagrams))\n"
   ]
  },
  {
   "cell_type": "code",
   "execution_count": 2,
   "id": "b1f6eb1e",
   "metadata": {},
   "outputs": [
    {
     "data": {
      "text/plain": [
       "(('a', 2), ('n', 1), ('p', 1), ('r', 1), ('v', 1))"
      ]
     },
     "execution_count": 2,
     "metadata": {},
     "output_type": "execute_result"
    }
   ],
   "source": [
    "count_letters('pranav')"
   ]
  },
  {
   "cell_type": "markdown",
   "id": "5c0c82d6",
   "metadata": {},
   "source": [
    "### 10. Python Dictionary to find mirror characters in a string\n"
   ]
  },
  {
   "cell_type": "code",
   "execution_count": null,
   "id": "4f9f9728",
   "metadata": {},
   "outputs": [],
   "source": []
  },
  {
   "cell_type": "markdown",
   "id": "102b11ec",
   "metadata": {},
   "source": [
    "### 11. Counting the frequencies in a list using a dictionary in Python\n"
   ]
  },
  {
   "cell_type": "code",
   "execution_count": null,
   "id": "ae68e286",
   "metadata": {},
   "outputs": [],
   "source": []
  },
  {
   "cell_type": "markdown",
   "id": "299ad46b",
   "metadata": {},
   "source": [
    "### 12. Python program to convert a list of Tuples into Dictionary\n"
   ]
  },
  {
   "cell_type": "code",
   "execution_count": null,
   "id": "8781cabe",
   "metadata": {},
   "outputs": [],
   "source": []
  },
  {
   "cell_type": "markdown",
   "id": "90e33619",
   "metadata": {},
   "source": [
    "### 13. Scraping And Finding Ordered Words In A Dictionary using Python\n"
   ]
  },
  {
   "cell_type": "code",
   "execution_count": null,
   "id": "c96f5a74",
   "metadata": {},
   "outputs": [],
   "source": []
  },
  {
   "cell_type": "markdown",
   "id": "c75ece88",
   "metadata": {},
   "source": [
    "### 14. Create a list of tuples from the given list having a number and its cube in each tuple\n"
   ]
  },
  {
   "cell_type": "code",
   "execution_count": null,
   "id": "de74da1f",
   "metadata": {},
   "outputs": [],
   "source": []
  },
  {
   "cell_type": "markdown",
   "id": "b438fbb7",
   "metadata": {},
   "source": [
    "### 15. Sort a list of tuples by the second Item"
   ]
  },
  {
   "cell_type": "code",
   "execution_count": null,
   "id": "eda622a5",
   "metadata": {},
   "outputs": [],
   "source": []
  },
  {
   "cell_type": "markdown",
   "id": "122f893b",
   "metadata": {},
   "source": [
    "### 16. Python Program for Insertion Sort"
   ]
  },
  {
   "cell_type": "code",
   "execution_count": null,
   "id": "1c83dbb2",
   "metadata": {},
   "outputs": [],
   "source": []
  },
  {
   "cell_type": "markdown",
   "id": "b4320f21",
   "metadata": {},
   "source": [
    "### 17. Python Program for SelectionSort"
   ]
  },
  {
   "cell_type": "code",
   "execution_count": null,
   "id": "c4e179e6",
   "metadata": {},
   "outputs": [],
   "source": []
  },
  {
   "cell_type": "markdown",
   "id": "87fc6343",
   "metadata": {},
   "source": [
    "### 18. Python Program for Bubble Sort"
   ]
  },
  {
   "cell_type": "code",
   "execution_count": null,
   "id": "1d06d385",
   "metadata": {},
   "outputs": [],
   "source": []
  },
  {
   "cell_type": "markdown",
   "id": "22421f93",
   "metadata": {},
   "source": [
    "### 19. Python Program for Merge Sort"
   ]
  },
  {
   "cell_type": "code",
   "execution_count": null,
   "id": "1d2b975b",
   "metadata": {},
   "outputs": [],
   "source": []
  },
  {
   "cell_type": "markdown",
   "id": "e8e4ef0c",
   "metadata": {},
   "source": [
    "### 20. Python Program for QuickSortSort"
   ]
  },
  {
   "cell_type": "code",
   "execution_count": null,
   "id": "9c5fd3fb",
   "metadata": {},
   "outputs": [],
   "source": []
  }
 ],
 "metadata": {
  "kernelspec": {
   "display_name": "Python 3 (ipykernel)",
   "language": "python",
   "name": "python3"
  },
  "language_info": {
   "codemirror_mode": {
    "name": "ipython",
    "version": 3
   },
   "file_extension": ".py",
   "mimetype": "text/x-python",
   "name": "python",
   "nbconvert_exporter": "python",
   "pygments_lexer": "ipython3",
   "version": "3.11.5"
  }
 },
 "nbformat": 4,
 "nbformat_minor": 5
}
